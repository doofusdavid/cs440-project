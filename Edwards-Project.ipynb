{
 "cells": [
  {
   "cell_type": "markdown",
   "metadata": {
    "collapsed": true
   },
   "source": [
    "# CS 440 Project on Rubik's Cube solving with Reinforcement Learning"
   ]
  },
  {
   "cell_type": "markdown",
   "metadata": {},
   "source": [
    "_by David Edwards, December 12, 2017_"
   ]
  },
  {
   "cell_type": "markdown",
   "metadata": {},
   "source": [
    "## Introduction"
   ]
  },
  {
   "cell_type": "markdown",
   "metadata": {},
   "source": [
    "My son has long been fascinated by Rubik's Cubes, and yet seems to be completely incapable of solving them.  I decided to try out his 2x2 cube.  <img src=\"2x2.jpg\">\n",
    "\n",
    "I grew frustrated and failed even faster, and rather than research the existing solutions that were online, I decided to throw one of our algorithms and some brute force at it.  \n",
    "\n",
    "When the proposal time came around, I realized that the Reinforcement Learning process was the hardest for me to understand, and yet when I understood it, I felt like I really understood it, so wanted to go with that approach."
   ]
  },
  {
   "cell_type": "markdown",
   "metadata": {},
   "source": [
    "## Methods"
   ]
  },
  {
   "cell_type": "markdown",
   "metadata": {},
   "source": [
    "I foresaw three main problems with the task I had chosen.\n",
    "\n",
    "1. Representing the state of the puzzle\n",
    "2. Creating the MakeMoves function\n",
    "3. Ensuring it runs in memory\n",
    "\n",
    "Here was my approach:\n"
   ]
  },
  {
   "cell_type": "markdown",
   "metadata": {},
   "source": [
    "I tried using some Python text graphics libraries to display the sides in their actual color, thinking that would make things easier.  I tried using [termcolor](https://pypi.python.org/pypi/termcolor) but found that the colors didn't match the actual Rubik's cube colors of Red, Blue, Yellow, Orange, White and Green.  There were existing Rubik's Cube Python libraries like [PyCuber](https://github.com/adrianliaw/PyCuber) and this fancy [interactive cube](https://jakevdp.github.io/blog/2012/11/26/3d-interactive-rubiks-cube-in-python/) but I wanted to do as much as possible from scratch.  So, I made the cube a nested list of list of lists.  The lowest level lists represented the top two colors of a side, the next the bottom two colors.  Then, the next level of lists was one whole face of the cube, and the final level was all six sides of the cube."
   ]
  },
  {
   "cell_type": "code",
   "execution_count": 32,
   "metadata": {},
   "outputs": [
    {
     "data": {
      "text/plain": [
       "[[['Red', 'Red'], ['Red', 'Red']],\n",
       " [['Blue', 'Blue'], ['Blue', 'Blue']],\n",
       " [['Yellow', 'Yellow'], ['Yellow', 'Yellow']],\n",
       " [['Orange', 'Orange'], ['Orange', 'Orange']],\n",
       " [['White', 'White'], ['White', 'White']],\n",
       " [['Green', 'Green'], ['Green', 'Green']]]"
      ]
     },
     "execution_count": 32,
     "metadata": {},
     "output_type": "execute_result"
    }
   ],
   "source": [
    "completeState = [[[\"Red\", \"Red\"],[\"Red\",\"Red\"]],[[\"Blue\", \"Blue\"],[\"Blue\",\"Blue\"]],[[\"Yellow\", \"Yellow\"],[\"Yellow\",\"Yellow\"]],[[\"Orange\", \"Orange\"],[\"Orange\",\"Orange\"]],[[\"White\", \"White\"],[\"White\",\"White\"]],[[\"Green\", \"Green\"],[\"Green\",\"Green\"]]]\n",
    "completeState"
   ]
  },
  {
   "cell_type": "markdown",
   "metadata": {},
   "source": [
    "Then, I needed to figure out how to display a cube in a state I could grasp with a little bit of confidence.  I created these functions to help with that.  The initial variables are my attempt at using something like constants in Python, which doesn't seem to really support them.  But, I wanted the logic for these to make sense to me later, so I just created these values, even though if I wasn't careful, they could be overwritten later.\n",
    "\n",
    "One bonus was that each color used in a cube had different first letters, so I could just display the first letter, making it slightly easier to read."
   ]
  },
  {
   "cell_type": "code",
   "execution_count": 72,
   "metadata": {},
   "outputs": [],
   "source": [
    "import copy as copy\n",
    "import numpy as np\n",
    "import random\n",
    "import time\n",
    "\n",
    "FRONT = 1\n",
    "LEFT = 0\n",
    "TOP = 2\n",
    "BOTTOM = 3\n",
    "RIGHT = 4\n",
    "BACK = 5\n",
    "\n",
    "def printFirstLetters(pair):\n",
    "    '''\n",
    "    Prints the first letter of a given pair.\n",
    "    :param pair: list containing two colors'''\n",
    "    return(\"{}\\t{}\\t\".format(pair[0][:1],pair[1][:1]))\n",
    "\n",
    "\n",
    "def printState(state):\n",
    "    '''\n",
    "    Prints a 2x2 Rubik's cube state.  \n",
    "    :param state: list of list of lists representing Rubik's cube state\n",
    "    :return: prints out the state nicely.\n",
    "    '''\n",
    "    print(\"\\t\\t\", printFirstLetters(state[TOP][0]))\n",
    "    print(\"\\t\\t\", printFirstLetters(state[TOP][1]))\n",
    "    print(printFirstLetters(state[LEFT][0]), printFirstLetters(state[FRONT][0]),printFirstLetters(state[RIGHT][0]),printFirstLetters(state[BACK][0]))\n",
    "    print(printFirstLetters(state[LEFT][1]), printFirstLetters(state[FRONT][1]),printFirstLetters(state[RIGHT][1]),printFirstLetters(state[BACK][1]))\n",
    "    print(\"\\t\\t\", printFirstLetters(state[BOTTOM][0]))\n",
    "    print(\"\\t\\t\", printFirstLetters(state[BOTTOM][1]))\n",
    "    print(\"---------------------------------------------------------\")\n"
   ]
  },
  {
   "cell_type": "code",
   "execution_count": 19,
   "metadata": {},
   "outputs": [
    {
     "name": "stdout",
     "output_type": "stream",
     "text": [
      "\t\t Y\tY\t\n",
      "\t\t Y\tY\t\n",
      "R\tR\t B\tB\t W\tW\t G\tG\t\n",
      "R\tR\t B\tB\t W\tW\t G\tG\t\n",
      "\t\t O\tO\t\n",
      "\t\t O\tO\t\n",
      "---------------------------------------------------------\n"
     ]
    }
   ],
   "source": [
    "printState(completeState)"
   ]
  },
  {
   "cell_type": "markdown",
   "metadata": {},
   "source": [
    "This represents my \"unfolding\" of a cube.  In this case, the blue face was the one facing \"me\", the red to the left, the yellow on top, orange on the bottom, white to my right, green behind.  The line underneath is a separator, to make it easier to visualize when I'm displaying tens or hundreds of them.\n",
    "\n",
    "Next, I had to make a validMove and makeMove function."
   ]
  },
  {
   "cell_type": "code",
   "execution_count": 21,
   "metadata": {},
   "outputs": [],
   "source": [
    "def validMoves(state):\n",
    "    '''\n",
    "    Returns a list of lists representing valid 2x2 rubik's cube moves from the given state.\n",
    "    Move Rotations courtesy: http://www.rubiksplace.com/move-notations/\n",
    "    :param state: list of lists representing tower of hanoi state\n",
    "    :return: list of lists representing valid tower of hanoi moves from the given state.\n",
    "    '''\n",
    "\n",
    "    # evaluate if we need the front and back moves\n",
    "    # validStates = [\"U\", \"U'\", \"D\", \"D'\", \"R\", \"R'\", \"L\", \"L'\", \"F\", \"F'\", \"B\", \"B'\"]\n",
    "\n",
    "    validStates = [\"U\", \"Uprime\", \"D\", \"Dprime\", \"R\", \"Rprime\", \"L\", \"Lprime\"]\n",
    "\n",
    "    return validStates\n",
    "\n",
    "\n",
    "def makeMove(state, move, printMoves=False):\n",
    "    '''\n",
    "    Takes a move and makes it 2x2 rubik's cube\n",
    "    :param state: list of lists representing cube\n",
    "    :param move: possible rubik's cube move\n",
    "    :return:the state after the move was made\n",
    "    '''\n",
    "\n",
    "    if move == \"U\":\n",
    "        state[LEFT][0], state[FRONT][0], state[RIGHT][0], state[BACK][0] = state[FRONT][0], state[RIGHT][0], state[BACK][0], state[LEFT][0]\n",
    "    if move == \"Uprime\":\n",
    "        state[FRONT][0], state[RIGHT][0], state[BACK][0], state[LEFT][0] = state[LEFT][0], state[FRONT][0], state[RIGHT][0], state[BACK][0]\n",
    "    if move == \"D\":\n",
    "        state[LEFT][1], state[FRONT][1], state[RIGHT][1], state[BACK][1] = state[FRONT][1], state[RIGHT][1], state[BACK][1], state[LEFT][1]\n",
    "    if move == \"Dprime\":\n",
    "        state[FRONT][1], state[RIGHT][1], state[BACK][1], state[LEFT][1] = state[LEFT][1], state[FRONT][1], state[RIGHT][1], state[BACK][1]\n",
    "    if move == \"R\":\n",
    "        state[TOP][0][1], state[TOP][1][1], state[FRONT][0][1], state[FRONT][1][1], state[BOTTOM][0][1], state[BOTTOM][1][1], state[BACK][0][1], state[BACK][1][1] = state[FRONT][0][1], state[FRONT][1][1], state[BOTTOM][0][1], state[BOTTOM][1][1], state[BACK][0][1], state[BACK][1][1],state[TOP][0][1], state[TOP][1][1]\n",
    "    if move == \"Rprime\":\n",
    "        state[FRONT][0][1], state[FRONT][1][1], state[BOTTOM][0][1], state[BOTTOM][1][1], state[BACK][0][1], state[BACK][1][1], state[TOP][0][1], state[TOP][1][1] = state[TOP][0][1], state[TOP][1][1], state[FRONT][0][1], state[FRONT][1][1], state[BOTTOM][0][1], state[BOTTOM][1][1], state[BACK][0][1], state[BACK][1][1]\n",
    "    if move == \"L\":\n",
    "        state[TOP][0][0], state[TOP][1][0], state[FRONT][0][0], state[FRONT][1][0], state[BOTTOM][0][0], state[BOTTOM][1][0], state[BACK][0][0], state[BACK][1][0] = state[FRONT][0][0], state[FRONT][1][0], state[BOTTOM][0][0], state[BOTTOM][1][0], state[BACK][0][0], state[BACK][1][0],state[TOP][0][0], state[TOP][1][0]\n",
    "    if move == \"Lprime\":\n",
    "        state[FRONT][0][0], state[FRONT][1][0], state[BOTTOM][0][0], state[BOTTOM][1][0], state[BACK][0][0], state[BACK][1][0], state[TOP][0][0], state[TOP][1][0] = state[TOP][0][0], state[TOP][1][0], state[FRONT][0][0], state[FRONT][1][0], state[BOTTOM][0][0], state[BOTTOM][1][0], state[BACK][0][0], state[BACK][1][0]\n",
    "\n",
    "    if printMoves:\n",
    "        printState(state)\n",
    "\n",
    "    return state"
   ]
  },
  {
   "cell_type": "markdown",
   "metadata": {},
   "source": [
    "I have gone through several iterations of the validMoves function, and I'm not convinced this is the correct one.  I use the move notation found [here](http://www.rubiksplace.com/move-notations/), where U is move the top level clockwise, and Uprime moves the top level counter-clockwise.  Same with Down, Right, and Left.  Some had Back as well.  I may simplify these to reduce the size of the Q table.  Up, Up, Up is the same as UpPrime, so I want to minimize the total number of State,ValidMove pairs in the Q table, due to the size of the Rubik's Cube which has [3674160](https://www.therubikzone.com/number-of-combinations/) states.  I would rather have that be multiplied by 4 or 5 valid moves, rather than 8 or 10.\n",
    "\n",
    "Regardless, let's make sure the makeMove works:"
   ]
  },
  {
   "cell_type": "code",
   "execution_count": 36,
   "metadata": {},
   "outputs": [
    {
     "name": "stdout",
     "output_type": "stream",
     "text": [
      "Complete State:\n",
      "\t\t Y\tY\t\n",
      "\t\t Y\tY\t\n",
      "R\tR\t B\tB\t W\tW\t G\tG\t\n",
      "R\tR\t B\tB\t W\tW\t G\tG\t\n",
      "\t\t O\tO\t\n",
      "\t\t O\tO\t\n",
      "---------------------------------------------------------\n",
      "Left side rotation:\n",
      "\t\t B\tY\t\n",
      "\t\t B\tY\t\n",
      "R\tR\t O\tB\t W\tW\t Y\tG\t\n",
      "R\tR\t O\tB\t W\tW\t Y\tG\t\n",
      "\t\t G\tO\t\n",
      "\t\t G\tO\t\n",
      "---------------------------------------------------------\n"
     ]
    }
   ],
   "source": [
    "completeState = [[[\"Red\", \"Red\"],[\"Red\",\"Red\"]],[[\"Blue\", \"Blue\"],[\"Blue\",\"Blue\"]],[[\"Yellow\", \"Yellow\"],[\"Yellow\",\"Yellow\"]],[[\"Orange\", \"Orange\"],[\"Orange\",\"Orange\"]],[[\"White\", \"White\"],[\"White\",\"White\"]],[[\"Green\", \"Green\"],[\"Green\",\"Green\"]]]\n",
    "print(\"Complete State:\")\n",
    "printState(completeState)\n",
    "print(\"Left side rotation:\")\n",
    "x = makeMove(completeState, \"L\", True)"
   ]
  },
  {
   "cell_type": "markdown",
   "metadata": {},
   "source": [
    "Here you can see we moved the left side of the cube, which pivots the Blue front to the top, the Orange bottom to the front, Green back to the bottom, and Yellow top to the back.  If we do this two more times, it should be back to the start state:"
   ]
  },
  {
   "cell_type": "code",
   "execution_count": 37,
   "metadata": {},
   "outputs": [
    {
     "name": "stdout",
     "output_type": "stream",
     "text": [
      "\t\t O\tY\t\n",
      "\t\t O\tY\t\n",
      "R\tR\t G\tB\t W\tW\t B\tG\t\n",
      "R\tR\t G\tB\t W\tW\t B\tG\t\n",
      "\t\t Y\tO\t\n",
      "\t\t Y\tO\t\n",
      "---------------------------------------------------------\n",
      "\t\t G\tY\t\n",
      "\t\t G\tY\t\n",
      "R\tR\t Y\tB\t W\tW\t O\tG\t\n",
      "R\tR\t Y\tB\t W\tW\t O\tG\t\n",
      "\t\t B\tO\t\n",
      "\t\t B\tO\t\n",
      "---------------------------------------------------------\n",
      "\t\t Y\tY\t\n",
      "\t\t Y\tY\t\n",
      "R\tR\t B\tB\t W\tW\t G\tG\t\n",
      "R\tR\t B\tB\t W\tW\t G\tG\t\n",
      "\t\t O\tO\t\n",
      "\t\t O\tO\t\n",
      "---------------------------------------------------------\n"
     ]
    }
   ],
   "source": [
    "for i in range(3):\n",
    "    makeMove(completeState,\"L\",True)\n"
   ]
  },
  {
   "cell_type": "markdown",
   "metadata": {},
   "source": [
    "In addition, performing a move, and then it's prime should return to the original state:"
   ]
  },
  {
   "cell_type": "markdown",
   "metadata": {},
   "source": [
    "Then, we need to determine if a move consists of a winner.  You'll see remnants of my first attempt, which basically checked to see if the current state was equal to the completeState above.  However, I realized that misses out on 5 other complete states, when the cube faces are all of the same color, but the colors aren't in the same position as they initially were.  I fixed that."
   ]
  },
  {
   "cell_type": "code",
   "execution_count": 54,
   "metadata": {},
   "outputs": [],
   "source": [
    "def winner(state):\n",
    "    '''\n",
    "    Determines if a winning state occured\n",
    "    :param state: list of lists representing tower of hanoi state\n",
    "    :return: True if winning state, False otherwise.\n",
    "    '''\n",
    "    completeState = [[[\"Red\", \"Red\"], [\"Red\", \"Red\"]], [[\"Blue\", \"Blue\"], [\"Blue\", \"Blue\"]],\n",
    "                     [[\"Yellow\", \"Yellow\"], [\"Yellow\", \"Yellow\"]], [[\"Orange\", \"Orange\"], [\"Orange\", \"Orange\"]],\n",
    "                     [[\"White\", \"White\"], [\"White\", \"White\"]], [[\"Green\", \"Green\"], [\"Green\", \"Green\"]]]\n",
    "\n",
    "    return faceComplete(state[LEFT]) and faceComplete(state[FRONT]) and faceComplete(state[TOP]) and faceComplete(state[BOTTOM]) and faceComplete(state[RIGHT]) and faceComplete(state[BACK]) \n",
    "\n",
    "    # return state == completeState\n",
    "\n",
    "def faceComplete(face):\n",
    "    return (face[0][0]== face[0][1] == face[1][0] == face[1][1])"
   ]
  },
  {
   "cell_type": "code",
   "execution_count": 56,
   "metadata": {},
   "outputs": [
    {
     "name": "stdout",
     "output_type": "stream",
     "text": [
      "True\n",
      "\t\t Y\tB\t\n",
      "\t\t Y\tB\t\n",
      "R\tR\t B\tO\t W\tW\t G\tY\t\n",
      "R\tR\t B\tO\t W\tW\t G\tY\t\n",
      "\t\t O\tG\t\n",
      "\t\t O\tG\t\n",
      "---------------------------------------------------------\n",
      "False\n",
      "\t\t Y\tY\t\n",
      "\t\t Y\tY\t\n",
      "R\tR\t B\tB\t W\tW\t G\tG\t\n",
      "R\tR\t B\tB\t W\tW\t G\tG\t\n",
      "\t\t O\tO\t\n",
      "\t\t O\tO\t\n",
      "---------------------------------------------------------\n",
      "True\n"
     ]
    }
   ],
   "source": [
    "completeState = [[[\"Red\", \"Red\"],[\"Red\",\"Red\"]],[[\"Blue\", \"Blue\"],[\"Blue\",\"Blue\"]],[[\"Yellow\", \"Yellow\"],[\"Yellow\",\"Yellow\"]],[[\"Orange\", \"Orange\"],[\"Orange\",\"Orange\"]],[[\"White\", \"White\"],[\"White\",\"White\"]],[[\"Green\", \"Green\"],[\"Green\",\"Green\"]]]\n",
    "print(winner(completeState))\n",
    "makeMove(completeState,'R',True)\n",
    "print(winner(completeState))\n",
    "makeMove(completeState,'Rprime',True)\n",
    "print(winner(completeState))"
   ]
  },
  {
   "cell_type": "code",
   "execution_count": 40,
   "metadata": {},
   "outputs": [
    {
     "name": "stdout",
     "output_type": "stream",
     "text": [
      "\t\t Y\tY\t\n",
      "\t\t Y\tY\t\n",
      "R\tR\t B\tB\t W\tW\t G\tG\t\n",
      "R\tR\t B\tB\t W\tW\t G\tG\t\n",
      "\t\t O\tO\t\n",
      "\t\t O\tO\t\n",
      "---------------------------------------------------------\n",
      "\t\t Y\tB\t\n",
      "\t\t Y\tB\t\n",
      "R\tR\t B\tO\t W\tW\t G\tY\t\n",
      "R\tR\t B\tO\t W\tW\t G\tY\t\n",
      "\t\t O\tG\t\n",
      "\t\t O\tG\t\n",
      "---------------------------------------------------------\n",
      "\t\t Y\tY\t\n",
      "\t\t Y\tY\t\n",
      "R\tR\t B\tB\t W\tW\t G\tG\t\n",
      "R\tR\t B\tB\t W\tW\t G\tG\t\n",
      "\t\t O\tO\t\n",
      "\t\t O\tO\t\n",
      "---------------------------------------------------------\n"
     ]
    }
   ],
   "source": [
    "completeState = [[[\"Red\", \"Red\"],[\"Red\",\"Red\"]],[[\"Blue\", \"Blue\"],[\"Blue\",\"Blue\"]],[[\"Yellow\", \"Yellow\"],[\"Yellow\",\"Yellow\"]],[[\"Orange\", \"Orange\"],[\"Orange\",\"Orange\"]],[[\"White\", \"White\"],[\"White\",\"White\"]],[[\"Green\", \"Green\"],[\"Green\",\"Green\"]]]\n",
    "printState(completeState)\n",
    "_ = makeMove(completeState,\"R\",True)\n",
    "_ = makeMove(completeState,\"Rprime\", True)"
   ]
  },
  {
   "cell_type": "markdown",
   "metadata": {},
   "source": [
    "We also need to be able to get a Tuple from the state,move pair which, given that a state is a three-deep list of lists, that was made a little more difficult.  Here's what I came up with:"
   ]
  },
  {
   "cell_type": "code",
   "execution_count": 60,
   "metadata": {},
   "outputs": [],
   "source": [
    "def getTuple(state, move):\n",
    "    '''\n",
    "    Need immutable type for key to dictionary\n",
    "    :param state: list of lists representing rubik's cube state\n",
    "    :return: tuple representation of the state\n",
    "    '''\n",
    "    superTuple = tuple(tuple(tuple(s[0])+tuple(s[1])) for s in state)\n",
    "    return (superTuple, move)"
   ]
  },
  {
   "cell_type": "code",
   "execution_count": 61,
   "metadata": {},
   "outputs": [
    {
     "data": {
      "text/plain": [
       "((('Red', 'Red', 'Red', 'Red'),\n",
       "  ('Blue', 'Blue', 'Blue', 'Blue'),\n",
       "  ('Yellow', 'Yellow', 'Yellow', 'Yellow'),\n",
       "  ('Orange', 'Orange', 'Orange', 'Orange'),\n",
       "  ('White', 'White', 'White', 'White'),\n",
       "  ('Green', 'Green', 'Green', 'Green')),\n",
       " 'R')"
      ]
     },
     "execution_count": 61,
     "metadata": {},
     "output_type": "execute_result"
    }
   ],
   "source": [
    "completeState = [[[\"Red\", \"Red\"],[\"Red\",\"Red\"]],[[\"Blue\", \"Blue\"],[\"Blue\",\"Blue\"]],[[\"Yellow\", \"Yellow\"],[\"Yellow\",\"Yellow\"]],[[\"Orange\", \"Orange\"],[\"Orange\",\"Orange\"]],[[\"White\", \"White\"],[\"White\",\"White\"]],[[\"Green\", \"Green\"],[\"Green\",\"Green\"]]]\n",
    "getTuple(completeState,'R')"
   ]
  },
  {
   "cell_type": "markdown",
   "metadata": {},
   "source": [
    "That's not attractive, but it does appear to be a valid Tuple.  The 'R' at the very end represents a Right side turn.\n",
    "\n",
    "Now we have the basics to start filling our Q.  I'm using the same trainQ and epsilonGreedy from [Assignment 5](https://github.com/doofusdavid/CS440-A5).  "
   ]
  },
  {
   "cell_type": "code",
   "execution_count": 75,
   "metadata": {},
   "outputs": [],
   "source": [
    "def epsilonGreedy(epsilon, Q, state, validMovesF):\n",
    "    '''\n",
    "    Makes either a random move, or tries the move which Q indicates is the best.\n",
    "    :param epsilon: A decreasing number representing the level of randomness\n",
    "    :param Q: Dictionary of state,move - value pairs, with the higher values being better moves\n",
    "    :param state: list of lists representing tower of hanoi state\n",
    "    :param validMovesF: function returning valid moves\n",
    "    :return:\n",
    "    '''\n",
    "    goodMoves = validMovesF(state)\n",
    "    if np.random.uniform() < epsilon:\n",
    "        # Random Move\n",
    "        return random.choice(goodMoves)\n",
    "    else:\n",
    "        # Greedy Move\n",
    "        Qs = np.array([Q.get(getTuple(state,m), 0.0) for m in goodMoves])\n",
    "        return goodMoves[np.argmax(Qs)]\n",
    "\n",
    "\n",
    "def trainQ(startState, nRepetitions, learningRate, epsilonDecayFactor, validMovesF, makeMoveF):\n",
    "    '''\n",
    "    Creates and fills a dictionary, Q, representing the (state,move) - value pairs which, if followed\n",
    "    should create the shortest path to the solution.\n",
    "    :param nRepetitions: how many times to iterate through.  Higher numbers would generate more accurate results\n",
    "    :param learningRate: How much to adjust the value part of the dictionary\n",
    "    :param epsilonDecayFactor: how quickly to reduce the random factor.\n",
    "    :param validMovesF: function returning valid moves of a state\n",
    "    :param makeMoveF: function making a move on a state\n",
    "    :return: the dictionary, Q, and a list containing the number of steps it took per iteration to find the goal state\n",
    "    '''\n",
    "    maxGames = nRepetitions\n",
    "    rho = learningRate\n",
    "    epsilonDecayRate = epsilonDecayFactor\n",
    "    epsilon = 1.0\n",
    "    Q = {}\n",
    "    stepList = []\n",
    "    # show the moves while debuggin\n",
    "    showMoves = False\n",
    "\n",
    "    for nGames in range(maxGames):\n",
    "        # if nGames % 10 == 0: print(\".\", end=\"\")\n",
    "        # if nGames % 100 == 0: print(\"Q length: \", len(Q))\n",
    "        # reduce the randomness every pass\n",
    "        epsilon *= epsilonDecayRate\n",
    "        step = 0\n",
    "        # hardcoded start state\n",
    "        state = startState\n",
    "        done = False\n",
    "\n",
    "        while not done:\n",
    "            #if step % 100 == 0: print(\".\", end=\"\")\n",
    "            #if step % 1000 == 0: print(\"Q length: \", len(Q))\n",
    "            step += 1\n",
    "            # grab either a random or best of the known moves\n",
    "            move = epsilonGreedy(epsilon, Q, state, validMovesF)\n",
    "\n",
    "            # we don't want to change state directly, and because state is a list of lists, need to do a\n",
    "            # deepcopy on it, then make the move\n",
    "            stateNew = copy.deepcopy(state)\n",
    "            makeMoveF(stateNew, move)\n",
    "\n",
    "            # if we haven't encountered this state,move combo, add it to Q\n",
    "            if getTuple(state, move) not in Q:\n",
    "                Q[getTuple(state, move)] = 0.0  # Initial Q value for new state, move\n",
    "\n",
    "            # print if debugging\n",
    "            if showMoves:\n",
    "                printState(stateNew)\n",
    "            if winner(stateNew):\n",
    "                # We won!  backfill Q\n",
    "                # print('End State, we won!')\n",
    "                Q[getTuple(state, move)] = -1.0\n",
    "                done = True\n",
    "                # we're keeping a list of the number of steps it took for each winning solution, so add it here.\n",
    "                stepList.append(step)\n",
    "\n",
    "            # update the Q which led us here using the learning factor, and the difference between the current state\n",
    "            # and the old state\n",
    "            if step > 1:\n",
    "                Q[getTuple(stateOld, moveOld)] += rho * (-1 + Q[getTuple(state, move)] - Q[getTuple(stateOld, moveOld)])\n",
    "                #print(\"Q[\",getTuple(stateOld, moveOld),\"]: \",Q[getTuple(stateOld, moveOld)])\n",
    "            # Store the current state, move so we can access it for the next Q update\n",
    "            stateOld, moveOld = state, move\n",
    "            state = stateNew\n",
    "\n",
    "    return Q, stepList\n",
    "\n",
    "\n",
    "def testQ(Q, initialState, maxSteps, validMovesF, makeMoveF):\n",
    "    '''\n",
    "    Using the dictionary Q, and the initial state of the game, traverse and return the best path.\n",
    "    :param Q: dictionary representing the (state,move) - value pairs which, if followed should create the shortest path to the solution.\n",
    "    :param maxSteps: The number of steps to attempt before giving up.\n",
    "    :param validMovesF: function returning valid moves of a state\n",
    "    :param makeMoveF: function making a move on a state\n",
    "    :return: list containing the states from start to finish\n",
    "    '''\n",
    "    #state = [[[\"Red\", \"Red\"],[\"Red\",\"Red\"]],[[\"Blue\", \"Blue\"],[\"Blue\",\"Blue\"]],[[\"Yellow\", \"Yellow\"],[\"Yellow\",\"Yellow\"]],[[\"Orange\", \"Orange\"],[\"Orange\",\"Orange\"]],[[\"White\", \"White\"],[\"White\",\"White\"]],[[\"Green\", \"Green\"],[\"Green\",\"Green\"]]]\n",
    "    state = initialState\n",
    "\n",
    "    statePath = []\n",
    "    movePath = []\n",
    "    movePath.append(\"Initial\")\n",
    "    statePath.append(state)\n",
    "\n",
    "    for i in range(maxSteps):\n",
    "        if winner(state):\n",
    "            return statePath, movePath\n",
    "        goodMoves = validMovesF(state)\n",
    "        Qs = np.array([Q.get(getTuple(state, m), -1000.0) for m in goodMoves])\n",
    "        move = goodMoves[np.argmax(Qs)]\n",
    "        movePath.append(move)\n",
    "        nextState = copy.deepcopy(state)\n",
    "        makeMoveF(nextState, move)\n",
    "        statePath.append(nextState)\n",
    "        state = nextState\n",
    "\n",
    "    return \"No path found\""
   ]
  },
  {
   "cell_type": "markdown",
   "metadata": {},
   "source": [
    "There are a few changes which I should address.\n",
    "\n",
    "1. For the Towers of Hanoi, the ideal solution was 7 moves, but for a rubik's cube, it could be much larger.  I had to place some code to display some feedback as it was executing.  In fact, the first time I ran this, it ended up running for 3 straight days over a weekend on a computer at work.  That was when I discovered a few bugs.  I had defined `winner` such that a face with the top two colors matching, and the bottom two colors matching, even if they weren't all the same color was `True.`  This resulted in a trainQ that never completed.  \n",
    "2. The possible length of Q (29393280, which I got from multiplying the possible states above, by 8 different moves) resulted in a great many Q values that weren't traversed yet.  During testQ, this line: \n",
    "\n",
    "`Qs = np.array([Q.get(getTuple(state, m), -1000.0) for m in goodMoves])` \n",
    "\n",
    "used to be \n",
    "\n",
    "`Qs = np.array([Q.get(getTuple(state, m), 0.0) for m in goodMoves])`  \n",
    "\n",
    "This would return a 0.0 for a number of possible moves (any which weren't tested during the trainQ function), and given that the next line did an np.argmax on those values, the 0.0 was often larger than other Q values which actually had been traversed.  I changed the \"default\" value if that Q value didn't exist to be -1000.0, thinking that anything larger than that would be preferable.  This seems to work out pretty well."
   ]
  },
  {
   "cell_type": "markdown",
   "metadata": {},
   "source": [
    "## Results"
   ]
  },
  {
   "cell_type": "markdown",
   "metadata": {},
   "source": [
    "Using this, I needed to figure out a way to test it.  My first thought was to create a random cube, but then I remembered a problem with that in an earlier assignement.  A puzzle can't necessarily be solved if it was completely randomly shuffled.  Randomly shuffling a Rubik's cube would be akin to peeling off the stickers and putting them in random places.  It's possible that there would be a solution, but also possible that a corner which has three faces could have all three faces Red, which couldn't be solved.  So, I created a shuffled cube, starting from the solved state."
   ]
  },
  {
   "cell_type": "code",
   "execution_count": null,
   "metadata": {},
   "outputs": [
    {
     "name": "stdout",
     "output_type": "stream",
     "text": [
      "Move  0  was:  D\n",
      "\t\t Y\tY\t\n",
      "\t\t Y\tY\t\n",
      "R\tR\t B\tB\t W\tW\t G\tG\t\n",
      "B\tB\t W\tW\t G\tG\t "
     ]
    }
   ],
   "source": [
    "completeState = [[[\"Red\", \"Red\"],[\"Red\",\"Red\"]],[[\"Blue\", \"Blue\"],[\"Blue\",\"Blue\"]],[[\"Yellow\", \"Yellow\"],[\"Yellow\",\"Yellow\"]],[[\"Orange\", \"Orange\"],[\"Orange\",\"Orange\"]],[[\"White\", \"White\"],[\"White\",\"White\"]],[[\"Green\", \"Green\"],[\"Green\",\"Green\"]]]\n",
    "newstate = completeState\n",
    "for i in range(1):\n",
    "    move = random.choice(validMoves(newstate))\n",
    "    print(\"Move \", i, \" was: \", move)\n",
    "    newstate = makeMove(newstate,move)\n",
    "\n",
    "\n",
    "printState(newstate)\n",
    "startTime = time.time()\n",
    "Q, steps = trainQ(newstate, 500, 0.5, 0.7, validMoves, makeMove)\n",
    "endTime = time.time()\n",
    "print(steps)\n",
    "path, moveList = testQ(Q, newstate, 20000, validMoves, makeMove)\n",
    "\n",
    "print(\"Training took: \", endTime-startTime, \" seconds.\")\n",
    "print(\"Mean of solution length: \", np.mean(steps))\n",
    "if path == \"No path found\":\n",
    "    print(path)\n",
    "else:\n",
    "    for i in range(len(path)):\n",
    "        printState(path[i])\n",
    "        print(\"Move: \", moveList[i])\n"
   ]
  },
  {
   "cell_type": "markdown",
   "metadata": {},
   "source": [
    "Below is a sample run, with three random moves.  I made it a python comment to avoid negatively affecting word count."
   ]
  },
  {
   "cell_type": "code",
   "execution_count": null,
   "metadata": {},
   "outputs": [],
   "source": [
    "'''\n",
    "Move  0  was:  Dprime\n",
    "Move  1  was:  U\n",
    "Move  2  was:  L\n",
    "\t\t W\tY\t\n",
    "\t\t R\tY\t\n",
    "B\tB\t O\tW\t G\tG\t Y\tR\t\n",
    "G\tG\t O\tR\t B\tB\t Y\tW\t\n",
    "\t\t R\tO\t\n",
    "\t\t W\tO\t\n",
    "-------------------------------\n",
    "[64617, 2263, 24445, 2579, 28669, 3, 16621, 40979, 12393, 5, 36497, 75647, 55307, 33789, 17585, 47003, 2851, 26263, 7, 16001, 15209, 5625, 14885, 10077, 26291, 3, 6797, 4527, 4987, 39109, 12721, 11093, 25423, 34825, 12799, 835, 1519, 6341, 11, 5833, 2907, 15609, 34291, 1281, 26275, 37981, 14929, 2669, 71, 79, 19181, 4973, 2787, 9667, 10005, 1197, 11797, 35289, 16997, 5519, 8839, 3, 3653, 3341, 1007, 753, 15479, 9, 15569, 21529, 1241, 10039, 2225, 11005, 9367, 5, 471, 32909, 9215, 5677, 3175, 19747, 8383, 30543, 4245, 7423, 12891, 2161, 7145, 47, 7, 8109, 36731, 465, 4721, 6565, 643, 2043, 2421, 22419, 3835, 9477, 1247, 20307, 313, 195, 11651, 5525, 3381, 31877, 46687, 13555, 2081, 1601, 12505, 12245, 26877, 1651, 22585, 5383, 29081, 3227, 9257, 3013, 66945, 3401, 3527, 6885, 475, 25827, 11897, 155, 10129, 1663, 6101, 63, 203, 1597, 25743, 3735, 11253, 1935, 5265, 495, 7881, 1463, 2769, 10575, 11, 10197, 801, 5117, 21, 9673, 3987, 9187, 18249, 2187, 1493, 8557, 31391, 5595, 3063, 4029, 7581, 625, 3339, 14553, 273, 13509, 6443, 7175, 133, 4997, 5343, 10959, 11615, 11869, 6891, 13, 16797, 7143, 13657, 4307, 28213, 11735, 62533, 3, 3, 15763, 933, 13481, 49885, 905, 33111, 22239, 2659, 46481, 27249, 43537, 59257, 196751, 3, 150085, 497327, 42525, 37433, 34235, 5515, 19747, 6741, 16007, 643, 39367, 34385, 3, 17541, 8371, 2201, 7723, 28055, 3275, 28605, 9435, 3, 7559, 5327, 7025, 6729, 93, 4111, 185, 3729, 3, 3381, 3, 10213, 5279, 3685, 3841, 3633, 4973, 95, 3, 6669, 15707, 59, 2099, 4135, 5411, 231, 3, 2213, 4015, 949, 3, 3847, 3, 233, 3, 57, 6343, 1287, 7249, 387, 77, 3, 4897, 4461, 3, 3, 3663, 529, 291, 3, 3459, 2441, 3, 3, 125, 3, 3, 49, 511, 3, 22947, 4023, 3, 3, 3, 1501, 3, 3, 3, 3, 3, 3, 3, 3, 3, 3, 3, 3, 3, 3, 3, 3, 3, 3, 3, 3, 3, 3, 3, 3, 3, 3, 3, 3, 3, 3, 3, 3, 3, 3, 3, 3, 3, 3, 3, 3, 3, 3, 3, 3, 3, 3, 3, 3, 3, 3, 3, 3, 3, 3, 3, 3, 3, 3, 3, 3, 3, 3, 3, 3, 3, 3, 3, 3, 3, 3, 3, 3, 3, 3, 3, 3, 3, 3, 3, 3, 3, 3, 3, 3, 3, 3, 3, 3, 3, 3, 3, 3, 3, 3, 3, 3, 3, 3, 3, 3, 3, 3, 3, 3, 3, 3, 3, 3, 3, 3, 3, 3, 3, 3, 3, 3, 3, 3, 3, 3, 3, 3, 3, 3, 3, 3, 3, 3, 3, 3, 3, 3, 3, 3, 3, 3, 3, 3, 3, 3, 3, 3, 3, 3, 3, 3, 3, 3, 3, 3, 3, 3, 3, 3, 3, 3, 3, 3, 3, 3, 3, 3, 3, 3, 3, 3, 3, 3, 3, 3, 3, 3, 3, 3, 3, 3, 3, 3, 3, 3, 3, 3, 3, 3, 3, 3, 3, 3, 3, 3, 3, 3, 3, 3, 3, 3, 3, 3, 3, 3, 3, 3, 3, 3, 3, 3, 3, 3, 3, 3, 3, 3, 3, 3, 3, 3, 3, 3, 3, 3, 3, 3, 3, 3, 3, 3, 3, 3, 3, 3, 3, 3, 3, 3, 3, 3, 3, 3, 3, 3, 3, 3, 3, 3, 3, 3, 3, 3, 3, 3, 3, 3, 3, 3, 3, 3, 3, 3, 3, 3, 3, 3, 3, 3, 3, 3, 3, 3, 3, 3, 3, 3, 3, 3, 3, 3, 3, 3, 3, 3, 3, 3, 3, 3, 3, 3, 3, 3, 3, 3, 3, 3, 3, 3, 3, 3, 3, 3, 3, 3, 3, 3, 3, 3, 3, 3, 3, 3, 3, 3, 3, 3, 3, 3, 3, 3, 3, 3, 3, 3, 3, 3, 3, 3, 3, 3, 3, 3, 3, 3, 3, 3, 3, 3, 3, 3, 3, 3, 3, 3, 3, 3, 3, 3, 3, 3, 3, 3, 3, 3, 3, 3, 3, 3, 3, 3, 3, 3, 3, 3, 3, 3, 3, 3, 3, 3, 3, 3, 3, 3, 3, 3, 3, 3, 3, 3, 3, 3, 3, 3, 3, 3, 3, 3, 3, 3, 3, 3, 3, 3, 3, 3, 3, 3, 3, 3, 3, 3, 3, 3, 3, 3, 3, 3, 3, 3, 3, 3, 3, 3, 3, 3, 3, 3, 3, 3, 3, 3, 3, 3, 3, 3, 3, 3, 3, 3, 3, 3, 3, 3, 3, 3, 3, 3, 3, 3, 3, 3, 3, 3, 3, 3, 3, 3, 3, 3, 3, 3, 3, 3, 3, 3, 3, 3, 3, 3, 3, 3, 3, 3, 3, 3, 3, 3, 3, 3, 3, 3, 3, 3, 3, 3, 3, 3, 3, 3, 3, 3, 3, 3, 3, 3, 3, 3, 3, 3, 3, 3, 3, 3, 3, 3, 3, 3, 3, 3, 3, 3, 3, 3, 3, 3, 3, 3, 3, 3, 3, 3, 3, 3, 3, 3, 3, 3, 3, 3, 3, 3, 3, 3, 3, 3, 3, 3, 3, 3, 3, 3, 3, 3, 3, 3, 3, 3, 3, 3, 3, 3, 3, 3, 3, 3, 3, 3, 3, 3, 3, 3, 3, 3, 3, 3, 3, 3, 3, 3, 3, 3, 3, 3, 3, 3, 3, 3, 3, 3, 3, 3, 3, 3, 3, 3, 3, 3, 3, 3, 3, 3, 3, 3, 3, 3, 3, 3, 3, 3, 3, 3, 3, 3, 3, 3, 3, 3, 3, 3, 3, 3, 3, 3, 3, 3, 3, 3, 3, 3, 3, 3, 3, 3, 3, 3, 3, 3, 3, 3, 3, 3, 3, 3, 3, 3, 3, 3, 3, 3, 3, 3, 3, 3, 3, 3, 3, 3, 3, 3, 3, 3, 3, 3, 3, 3, 3, 3, 3, 3, 3, 3, 3, 3, 3, 3, 3, 3, 3, 3, 3, 3, 3, 3, 3, 3, 3, 3, 3, 3, 3, 3, 3, 3, 3, 3, 3, 3, 3, 3, 3, 3, 3, 3, 3, 3, 3, 3, 3, 3, 3, 3, 3, 3, 3, 3, 3, 3, 3, 3, 3, 3, 3, 3, 3, 3, 3, 3, 3, 3, 3, 3, 3]\n",
    "\t\t W\tY\t\n",
    "\t\t R\tY\t\n",
    "B\tB\t O\tW\t G\tG\t Y\tR\t\n",
    "G\tG\t O\tR\t B\tB\t Y\tW\t\n",
    "\t\t R\tO\t\n",
    "\t\t W\tO\t\n",
    "-------------------------------\n",
    "\t\t Y\tY\t\n",
    "\t\t Y\tY\t\n",
    "B\tB\t W\tW\t G\tG\t R\tR\t\n",
    "G\tG\t R\tR\t B\tB\t W\tW\t\n",
    "\t\t O\tO\t\n",
    "\t\t O\tO\t\n",
    "-------------------------------\n",
    "\t\t Y\tY\t\n",
    "\t\t Y\tY\t\n",
    "W\tW\t G\tG\t R\tR\t B\tB\t\n",
    "G\tG\t R\tR\t B\tB\t W\tW\t\n",
    "\t\t O\tO\t\n",
    "\t\t O\tO\t\n",
    "-------------------------------\n",
    "\t\t Y\tY\t\n",
    "\t\t Y\tY\t\n",
    "G\tG\t R\tR\t B\tB\t W\tW\t\n",
    "G\tG\t R\tR\t B\tB\t W\tW\t\n",
    "\t\t O\tO\t\n",
    "\t\t O\tO\t\n",
    "-------------------------------'''"
   ]
  },
  {
   "cell_type": "markdown",
   "metadata": {},
   "source": [
    "## Conclusions"
   ]
  },
  {
   "cell_type": "code",
   "execution_count": null,
   "metadata": {},
   "outputs": [],
   "source": []
  },
  {
   "cell_type": "code",
   "execution_count": 63,
   "metadata": {},
   "outputs": [
    {
     "name": "stdout",
     "output_type": "stream",
     "text": [
      "Word count for file Edwards-Project.ipynb is 1009\n"
     ]
    }
   ],
   "source": [
    "import io\n",
    "from nbformat import current\n",
    "import glob\n",
    "nbfile = glob.glob('Edwards-Project.ipynb')\n",
    "if len(nbfile) > 1:\n",
    "    print('More than one ipynb file. Using the first one.  nbfile=', nbfile)\n",
    "with io.open(nbfile[0], 'r', encoding='utf-8') as f:\n",
    "    nb = current.read(f, 'json')\n",
    "word_count = 0\n",
    "for cell in nb.worksheets[0].cells:\n",
    "    if cell.cell_type == \"markdown\":\n",
    "        word_count += len(cell['source'].replace('#', '').lstrip().split(' '))\n",
    "print('Word count for file', nbfile[0], 'is', word_count)"
   ]
  },
  {
   "cell_type": "code",
   "execution_count": null,
   "metadata": {},
   "outputs": [],
   "source": []
  }
 ],
 "metadata": {
  "kernelspec": {
   "display_name": "Python 3",
   "language": "python",
   "name": "python3"
  },
  "language_info": {
   "codemirror_mode": {
    "name": "ipython",
    "version": 3
   },
   "file_extension": ".py",
   "mimetype": "text/x-python",
   "name": "python",
   "nbconvert_exporter": "python",
   "pygments_lexer": "ipython3",
   "version": "3.6.3"
  }
 },
 "nbformat": 4,
 "nbformat_minor": 1
}
