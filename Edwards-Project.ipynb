{
 "cells": [
  {
   "cell_type": "markdown",
   "metadata": {
    "collapsed": true
   },
   "source": [
    "# CS 440 Project on Rubik's Cube solving with Reinforcement Learning"
   ]
  },
  {
   "cell_type": "markdown",
   "metadata": {},
   "source": [
    "_by David Edwards, December 12, 2017_"
   ]
  },
  {
   "cell_type": "markdown",
   "metadata": {},
   "source": [
    "## Introduction"
   ]
  },
  {
   "cell_type": "markdown",
   "metadata": {},
   "source": [
    "My son has long been fascinated by Rubik's Cubes, and yet seems to be completely incapable of solving them.  I decided to try out his 2x2 cube.  <img src=\"https://edwards.cloud/wp-content/uploads/2017/12/2x2.jpg\">\n",
    "\n",
    "I grew frustrated very quickly, and rather than research the existing solutions that were online, I decided to throw one of our algorithms and some computing force at it.\n",
    "\n",
    "When the proposal time came around, I realized that the Reinforcement Learning process was the hardest for me to understand, and yet when I understood it, I felt like I _really_ understood it, so wanted to go with that approach."
   ]
  },
  {
   "cell_type": "markdown",
   "metadata": {},
   "source": [
    "## Methods"
   ]
  },
  {
   "cell_type": "markdown",
   "metadata": {},
   "source": [
    "I foresaw three main problems with the task I had chosen.\n",
    "\n",
    "1. Representing the state of the puzzle\n",
    "2. Creating the MakeMoves function\n",
    "3. Ensuring it runs in memory\n",
    "\n",
    "Here was my approach:\n"
   ]
  },
  {
   "cell_type": "markdown",
   "metadata": {},
   "source": [
    "I tried using some Python text graphics libraries to display the sides in their actual color, thinking that would make things easier.  I tried using [termcolor](https://pypi.python.org/pypi/termcolor) but found that the colors didn't match the actual Rubik's cube colors of Red, Blue, Yellow, Orange, White and Green.  There were existing Rubik's Cube Python libraries like [PyCuber](https://github.com/adrianliaw/PyCuber) and this fancy [interactive cube](https://jakevdp.github.io/blog/2012/11/26/3d-interactive-rubiks-cube-in-python/) but I wanted to do as much as possible from scratch.  So, I made the cube a nested list of list of lists.  The lowest level lists represented the top two colors of a side, the next the bottom two colors.  Then, the next level of lists was one whole face of the cube, and the final level was all six sides of the cube."
   ]
  },
  {
   "cell_type": "code",
   "execution_count": 95,
   "metadata": {},
   "outputs": [
    {
     "data": {
      "text/plain": [
       "[[['Red', 'Red'], ['Red', 'Red']],\n",
       " [['Blue', 'Blue'], ['Blue', 'Blue']],\n",
       " [['Yellow', 'Yellow'], ['Yellow', 'Yellow']],\n",
       " [['Orange', 'Orange'], ['Orange', 'Orange']],\n",
       " [['White', 'White'], ['White', 'White']],\n",
       " [['Green', 'Green'], ['Green', 'Green']]]"
      ]
     },
     "execution_count": 95,
     "metadata": {},
     "output_type": "execute_result"
    }
   ],
   "source": [
    "completeState = [[[\"Red\", \"Red\"],[\"Red\",\"Red\"]],[[\"Blue\", \"Blue\"],[\"Blue\",\"Blue\"]],[[\"Yellow\", \"Yellow\"],[\"Yellow\",\"Yellow\"]],[[\"Orange\", \"Orange\"],[\"Orange\",\"Orange\"]],[[\"White\", \"White\"],[\"White\",\"White\"]],[[\"Green\", \"Green\"],[\"Green\",\"Green\"]]]\n",
    "completeState"
   ]
  },
  {
   "cell_type": "markdown",
   "metadata": {},
   "source": [
    "Then, I needed to figure out how to display a cube in a state I could grasp visually.  My confidence looking at Python lists and translating to useful data isn't great.  This was an attempt to present the data in a way I could compare to a physical copy of the cube (which I had, and then lost before the end of the project).  I created these functions to help with that.  The initial variables are my attempt at using something like constants in Python, which doesn't seem to really support them.  But, I wanted the logic for these to make sense to me later, so I just created these values, even though if I wasn't careful, they could be overwritten later.  Note to Python: Constants are neat.\n",
    "\n",
    "One bonus was that each color used in a cube had different first letters, so I could just display the first letter, making it slightly easier to read."
   ]
  },
  {
   "cell_type": "code",
   "execution_count": 96,
   "metadata": {},
   "outputs": [],
   "source": [
    "import copy as copy\n",
    "import numpy as np\n",
    "import random\n",
    "import time\n",
    "\n",
    "FRONT = 1\n",
    "LEFT = 0\n",
    "TOP = 2\n",
    "BOTTOM = 3\n",
    "RIGHT = 4\n",
    "BACK = 5\n",
    "\n",
    "def printFirstLetters(pair):\n",
    "    '''\n",
    "    Prints the first letter of a given pair.\n",
    "    :param pair: list containing two colors'''\n",
    "    return(\"{}\\t{}\\t\".format(pair[0][:1],pair[1][:1]))\n",
    "\n",
    "\n",
    "def printState(state):\n",
    "    '''\n",
    "    Prints a 2x2 Rubik's cube state.  \n",
    "    :param state: list of list of lists representing Rubik's cube state\n",
    "    :return: prints out the state nicely.\n",
    "    '''\n",
    "    print(\"\\t\\t\", printFirstLetters(state[TOP][0]))\n",
    "    print(\"\\t\\t\", printFirstLetters(state[TOP][1]))\n",
    "    print(printFirstLetters(state[LEFT][0]), printFirstLetters(state[FRONT][0]),printFirstLetters(state[RIGHT][0]),printFirstLetters(state[BACK][0]))\n",
    "    print(printFirstLetters(state[LEFT][1]), printFirstLetters(state[FRONT][1]),printFirstLetters(state[RIGHT][1]),printFirstLetters(state[BACK][1]))\n",
    "    print(\"\\t\\t\", printFirstLetters(state[BOTTOM][0]))\n",
    "    print(\"\\t\\t\", printFirstLetters(state[BOTTOM][1]))\n",
    "    print(\"---------------------------------------------------------\")\n"
   ]
  },
  {
   "cell_type": "code",
   "execution_count": 97,
   "metadata": {},
   "outputs": [
    {
     "name": "stdout",
     "output_type": "stream",
     "text": [
      "\t\t Y\tY\t\n",
      "\t\t Y\tY\t\n",
      "R\tR\t B\tB\t W\tW\t G\tG\t\n",
      "R\tR\t B\tB\t W\tW\t G\tG\t\n",
      "\t\t O\tO\t\n",
      "\t\t O\tO\t\n",
      "---------------------------------------------------------\n"
     ]
    }
   ],
   "source": [
    "printState(completeState)"
   ]
  },
  {
   "cell_type": "markdown",
   "metadata": {},
   "source": [
    "This represents my \"unfolding\" of a cube.  In this case, the blue face was the one facing \"me\", the red to the left, the yellow on top, orange on the bottom, white to my right, green behind.  The line underneath is a separator, to make it easier to visualize when I'm displaying tens or hundreds of them.  Jupyter Notebooks make 8 character tabs, whereas PyCharm, my IDE of choice, made 4 character tabs, so the cubes look a bit elongated in Jupyter.\n",
    "\n",
    "Next, I had to make a validMove and makeMove function."
   ]
  },
  {
   "cell_type": "code",
   "execution_count": 98,
   "metadata": {},
   "outputs": [],
   "source": [
    "def validMoves(state):\n",
    "    '''\n",
    "    Returns a list of lists representing valid 2x2 rubik's cube moves from the given state.\n",
    "    Move Rotations courtesy: http://www.rubiksplace.com/move-notations/\n",
    "    :param state: list of lists representing tower of hanoi state\n",
    "    :return: list of lists representing valid tower of hanoi moves from the given state.\n",
    "    '''\n",
    "\n",
    "    # evaluate if we need the front and back moves\n",
    "    # validStates = [\"U\", \"U'\", \"D\", \"D'\", \"R\", \"R'\", \"L\", \"L'\", \"F\", \"F'\", \"B\", \"B'\"]\n",
    "\n",
    "    validStates = [\"U\", \"Uprime\", \"D\", \"Dprime\", \"R\", \"Rprime\", \"L\", \"Lprime\"]\n",
    "\n",
    "    return validStates\n",
    "\n",
    "\n",
    "def makeMove(state, move, printMoves=False):\n",
    "    '''\n",
    "    Takes a move and makes it 2x2 rubik's cube\n",
    "    :param state: list of lists representing cube\n",
    "    :param move: possible rubik's cube move\n",
    "    :return:the state after the move was made\n",
    "    '''\n",
    "\n",
    "    if move == \"U\":\n",
    "        state[LEFT][0], state[FRONT][0], state[RIGHT][0], state[BACK][0] = state[FRONT][0], state[RIGHT][0], state[BACK][0], state[LEFT][0]\n",
    "    if move == \"Uprime\":\n",
    "        state[FRONT][0], state[RIGHT][0], state[BACK][0], state[LEFT][0] = state[LEFT][0], state[FRONT][0], state[RIGHT][0], state[BACK][0]\n",
    "    if move == \"D\":\n",
    "        state[LEFT][1], state[FRONT][1], state[RIGHT][1], state[BACK][1] = state[FRONT][1], state[RIGHT][1], state[BACK][1], state[LEFT][1]\n",
    "    if move == \"Dprime\":\n",
    "        state[FRONT][1], state[RIGHT][1], state[BACK][1], state[LEFT][1] = state[LEFT][1], state[FRONT][1], state[RIGHT][1], state[BACK][1]\n",
    "    if move == \"R\":\n",
    "        state[TOP][0][1], state[TOP][1][1], state[FRONT][0][1], state[FRONT][1][1], state[BOTTOM][0][1], state[BOTTOM][1][1], state[BACK][0][1], state[BACK][1][1] = state[FRONT][0][1], state[FRONT][1][1], state[BOTTOM][0][1], state[BOTTOM][1][1], state[BACK][0][1], state[BACK][1][1],state[TOP][0][1], state[TOP][1][1]\n",
    "    if move == \"Rprime\":\n",
    "        state[FRONT][0][1], state[FRONT][1][1], state[BOTTOM][0][1], state[BOTTOM][1][1], state[BACK][0][1], state[BACK][1][1], state[TOP][0][1], state[TOP][1][1] = state[TOP][0][1], state[TOP][1][1], state[FRONT][0][1], state[FRONT][1][1], state[BOTTOM][0][1], state[BOTTOM][1][1], state[BACK][0][1], state[BACK][1][1]\n",
    "    if move == \"L\":\n",
    "        state[TOP][0][0], state[TOP][1][0], state[FRONT][0][0], state[FRONT][1][0], state[BOTTOM][0][0], state[BOTTOM][1][0], state[BACK][0][0], state[BACK][1][0] = state[FRONT][0][0], state[FRONT][1][0], state[BOTTOM][0][0], state[BOTTOM][1][0], state[BACK][0][0], state[BACK][1][0],state[TOP][0][0], state[TOP][1][0]\n",
    "    if move == \"Lprime\":\n",
    "        state[FRONT][0][0], state[FRONT][1][0], state[BOTTOM][0][0], state[BOTTOM][1][0], state[BACK][0][0], state[BACK][1][0], state[TOP][0][0], state[TOP][1][0] = state[TOP][0][0], state[TOP][1][0], state[FRONT][0][0], state[FRONT][1][0], state[BOTTOM][0][0], state[BOTTOM][1][0], state[BACK][0][0], state[BACK][1][0]\n",
    "\n",
    "    if printMoves:\n",
    "        printState(state)\n",
    "\n",
    "    return state"
   ]
  },
  {
   "cell_type": "markdown",
   "metadata": {},
   "source": [
    "I have gone through several iterations of the validMoves function, and I'm not convinced this is the correct one.  I use the move notation found [here](http://www.rubiksplace.com/move-notations/), where U is move the top level clockwise, and Uprime moves the top level counter-clockwise.  Same with Down, Right, and Left.  Some had Back as well.  I may simplify these to reduce the size of the Q table.  Up, Up, Up is the same as UpPrime.  If I start running into space issues, I could remove the Prime movements.  I want to minimize the total number of State,ValidMove pairs in the Q table, due to the size of the Rubik's Cube which has [3674160](https://www.therubikzone.com/number-of-combinations/) states.  I would rather have that be multiplied by 4 or 5 valid moves, rather than 8 or 10.  That said, these 8 movements have not taxed the memory too much, and finish in a reasonable amount of time ( less than 15 minutes)\n",
    "\n",
    "Regardless, let's make sure the makeMove works:"
   ]
  },
  {
   "cell_type": "code",
   "execution_count": 99,
   "metadata": {},
   "outputs": [
    {
     "name": "stdout",
     "output_type": "stream",
     "text": [
      "Complete State:\n",
      "\t\t Y\tY\t\n",
      "\t\t Y\tY\t\n",
      "R\tR\t B\tB\t W\tW\t G\tG\t\n",
      "R\tR\t B\tB\t W\tW\t G\tG\t\n",
      "\t\t O\tO\t\n",
      "\t\t O\tO\t\n",
      "---------------------------------------------------------\n",
      "Left side rotation:\n",
      "\t\t B\tY\t\n",
      "\t\t B\tY\t\n",
      "R\tR\t O\tB\t W\tW\t Y\tG\t\n",
      "R\tR\t O\tB\t W\tW\t Y\tG\t\n",
      "\t\t G\tO\t\n",
      "\t\t G\tO\t\n",
      "---------------------------------------------------------\n"
     ]
    }
   ],
   "source": [
    "completeState = [[[\"Red\", \"Red\"],[\"Red\",\"Red\"]],[[\"Blue\", \"Blue\"],[\"Blue\",\"Blue\"]],[[\"Yellow\", \"Yellow\"],[\"Yellow\",\"Yellow\"]],[[\"Orange\", \"Orange\"],[\"Orange\",\"Orange\"]],[[\"White\", \"White\"],[\"White\",\"White\"]],[[\"Green\", \"Green\"],[\"Green\",\"Green\"]]]\n",
    "print(\"Complete State:\")\n",
    "printState(completeState)\n",
    "print(\"Left side rotation:\")\n",
    "x = makeMove(completeState, \"L\", True)"
   ]
  },
  {
   "cell_type": "markdown",
   "metadata": {},
   "source": [
    "Here you can see we moved the left side of the cube, which pivots the Blue front to the top, the Orange bottom to the front, Green back to the bottom, and Yellow top to the back.  If we do this two more times, it should be back to the start state:"
   ]
  },
  {
   "cell_type": "code",
   "execution_count": 100,
   "metadata": {},
   "outputs": [
    {
     "name": "stdout",
     "output_type": "stream",
     "text": [
      "\t\t O\tY\t\n",
      "\t\t O\tY\t\n",
      "R\tR\t G\tB\t W\tW\t B\tG\t\n",
      "R\tR\t G\tB\t W\tW\t B\tG\t\n",
      "\t\t Y\tO\t\n",
      "\t\t Y\tO\t\n",
      "---------------------------------------------------------\n",
      "\t\t G\tY\t\n",
      "\t\t G\tY\t\n",
      "R\tR\t Y\tB\t W\tW\t O\tG\t\n",
      "R\tR\t Y\tB\t W\tW\t O\tG\t\n",
      "\t\t B\tO\t\n",
      "\t\t B\tO\t\n",
      "---------------------------------------------------------\n",
      "\t\t Y\tY\t\n",
      "\t\t Y\tY\t\n",
      "R\tR\t B\tB\t W\tW\t G\tG\t\n",
      "R\tR\t B\tB\t W\tW\t G\tG\t\n",
      "\t\t O\tO\t\n",
      "\t\t O\tO\t\n",
      "---------------------------------------------------------\n"
     ]
    }
   ],
   "source": [
    "for i in range(3):\n",
    "    makeMove(completeState,\"L\",True)\n"
   ]
  },
  {
   "cell_type": "markdown",
   "metadata": {},
   "source": [
    "In addition, performing a move, and then it's prime should return to the original state:"
   ]
  },
  {
   "cell_type": "code",
   "execution_count": 101,
   "metadata": {},
   "outputs": [
    {
     "name": "stdout",
     "output_type": "stream",
     "text": [
      "\t\t Y\tY\t\n",
      "\t\t Y\tY\t\n",
      "R\tR\t B\tB\t W\tW\t G\tG\t\n",
      "R\tR\t B\tB\t W\tW\t G\tG\t\n",
      "\t\t O\tO\t\n",
      "\t\t O\tO\t\n",
      "---------------------------------------------------------\n",
      "\t\t Y\tB\t\n",
      "\t\t Y\tB\t\n",
      "R\tR\t B\tO\t W\tW\t G\tY\t\n",
      "R\tR\t B\tO\t W\tW\t G\tY\t\n",
      "\t\t O\tG\t\n",
      "\t\t O\tG\t\n",
      "---------------------------------------------------------\n",
      "\t\t Y\tY\t\n",
      "\t\t Y\tY\t\n",
      "R\tR\t B\tB\t W\tW\t G\tG\t\n",
      "R\tR\t B\tB\t W\tW\t G\tG\t\n",
      "\t\t O\tO\t\n",
      "\t\t O\tO\t\n",
      "---------------------------------------------------------\n"
     ]
    }
   ],
   "source": [
    "completeState = [[[\"Red\", \"Red\"],[\"Red\",\"Red\"]],[[\"Blue\", \"Blue\"],[\"Blue\",\"Blue\"]],[[\"Yellow\", \"Yellow\"],[\"Yellow\",\"Yellow\"]],[[\"Orange\", \"Orange\"],[\"Orange\",\"Orange\"]],[[\"White\", \"White\"],[\"White\",\"White\"]],[[\"Green\", \"Green\"],[\"Green\",\"Green\"]]]\n",
    "printState(completeState)\n",
    "_ = makeMove(completeState,\"R\",True)\n",
    "_ = makeMove(completeState,\"Rprime\", True)"
   ]
  },
  {
   "cell_type": "markdown",
   "metadata": {},
   "source": [
    "Then, we need to determine if a move consists of a winner.  You'll see remnants of my first attempt, which basically checked to see if the current state was equal to the completeState above.  However, I realized that misses out on 5 other complete states, when the cube faces are all of the same color, but the colors aren't in the same position as they initially were.  I fixed that."
   ]
  },
  {
   "cell_type": "code",
   "execution_count": 102,
   "metadata": {},
   "outputs": [],
   "source": [
    "def winner(state):\n",
    "    '''\n",
    "    Determines if a winning state occured\n",
    "    :param state: list of lists representing tower of hanoi state\n",
    "    :return: True if winning state, False otherwise.\n",
    "    '''\n",
    "    completeState = [[[\"Red\", \"Red\"], [\"Red\", \"Red\"]], [[\"Blue\", \"Blue\"], [\"Blue\", \"Blue\"]],\n",
    "                     [[\"Yellow\", \"Yellow\"], [\"Yellow\", \"Yellow\"]], [[\"Orange\", \"Orange\"], [\"Orange\", \"Orange\"]],\n",
    "                     [[\"White\", \"White\"], [\"White\", \"White\"]], [[\"Green\", \"Green\"], [\"Green\", \"Green\"]]]\n",
    "\n",
    "    return faceComplete(state[LEFT]) and faceComplete(state[FRONT]) and faceComplete(state[TOP]) and faceComplete(state[BOTTOM]) and faceComplete(state[RIGHT]) and faceComplete(state[BACK]) \n",
    "\n",
    "    # return state == completeState\n",
    "\n",
    "def faceComplete(face):\n",
    "    return (face[0][0]== face[0][1] == face[1][0] == face[1][1])"
   ]
  },
  {
   "cell_type": "code",
   "execution_count": 103,
   "metadata": {},
   "outputs": [
    {
     "name": "stdout",
     "output_type": "stream",
     "text": [
      "True\n",
      "\t\t Y\tB\t\n",
      "\t\t Y\tB\t\n",
      "R\tR\t B\tO\t W\tW\t G\tY\t\n",
      "R\tR\t B\tO\t W\tW\t G\tY\t\n",
      "\t\t O\tG\t\n",
      "\t\t O\tG\t\n",
      "---------------------------------------------------------\n",
      "False\n",
      "\t\t Y\tY\t\n",
      "\t\t Y\tY\t\n",
      "R\tR\t B\tB\t W\tW\t G\tG\t\n",
      "R\tR\t B\tB\t W\tW\t G\tG\t\n",
      "\t\t O\tO\t\n",
      "\t\t O\tO\t\n",
      "---------------------------------------------------------\n",
      "True\n"
     ]
    }
   ],
   "source": [
    "completeState = [[[\"Red\", \"Red\"],[\"Red\",\"Red\"]],[[\"Blue\", \"Blue\"],[\"Blue\",\"Blue\"]],[[\"Yellow\", \"Yellow\"],[\"Yellow\",\"Yellow\"]],[[\"Orange\", \"Orange\"],[\"Orange\",\"Orange\"]],[[\"White\", \"White\"],[\"White\",\"White\"]],[[\"Green\", \"Green\"],[\"Green\",\"Green\"]]]\n",
    "print(winner(completeState))\n",
    "makeMove(completeState,'R',True)\n",
    "print(winner(completeState))\n",
    "makeMove(completeState,'Rprime',True)\n",
    "print(winner(completeState))"
   ]
  },
  {
   "cell_type": "markdown",
   "metadata": {},
   "source": [
    "We also need to be able to get a Tuple from the state,move pair which, given that a state is a three-deep list of lists, that was made a little more difficult.  Here's what I came up with:"
   ]
  },
  {
   "cell_type": "code",
   "execution_count": 104,
   "metadata": {},
   "outputs": [],
   "source": [
    "def getTuple(state, move):\n",
    "    '''\n",
    "    Need immutable type for key to dictionary\n",
    "    :param state: list of lists representing rubik's cube state\n",
    "    :return: tuple representation of the state\n",
    "    '''\n",
    "    superTuple = tuple(tuple(tuple(s[0])+tuple(s[1])) for s in state)\n",
    "    return (superTuple, move)"
   ]
  },
  {
   "cell_type": "code",
   "execution_count": 105,
   "metadata": {},
   "outputs": [
    {
     "data": {
      "text/plain": [
       "((('Red', 'Red', 'Red', 'Red'),\n",
       "  ('Blue', 'Blue', 'Blue', 'Blue'),\n",
       "  ('Yellow', 'Yellow', 'Yellow', 'Yellow'),\n",
       "  ('Orange', 'Orange', 'Orange', 'Orange'),\n",
       "  ('White', 'White', 'White', 'White'),\n",
       "  ('Green', 'Green', 'Green', 'Green')),\n",
       " 'R')"
      ]
     },
     "execution_count": 105,
     "metadata": {},
     "output_type": "execute_result"
    }
   ],
   "source": [
    "completeState = [[[\"Red\", \"Red\"],[\"Red\",\"Red\"]],[[\"Blue\", \"Blue\"],[\"Blue\",\"Blue\"]],[[\"Yellow\", \"Yellow\"],[\"Yellow\",\"Yellow\"]],[[\"Orange\", \"Orange\"],[\"Orange\",\"Orange\"]],[[\"White\", \"White\"],[\"White\",\"White\"]],[[\"Green\", \"Green\"],[\"Green\",\"Green\"]]]\n",
    "getTuple(completeState,'R')"
   ]
  },
  {
   "cell_type": "markdown",
   "metadata": {},
   "source": [
    "That's not attractive, but it does appear to be a valid Tuple.  The 'R' at the very end represents a Right side turn.\n",
    "\n",
    "Now we have the basics to start filling our Q.  I'm basing my code on the same trainQ and epsilonGreedy from [Assignment 5](https://github.com/doofusdavid/CS440-A5).  There are a few changes, which I reference later."
   ]
  },
  {
   "cell_type": "code",
   "execution_count": 106,
   "metadata": {},
   "outputs": [],
   "source": [
    "def epsilonGreedy(epsilon, Q, state, validMovesF):\n",
    "    '''\n",
    "    Makes either a random move, or tries the move which Q indicates is the best.\n",
    "    :param epsilon: A decreasing number representing the level of randomness\n",
    "    :param Q: Dictionary of state,move - value pairs, with the higher values being better moves\n",
    "    :param state: list of lists representing tower of hanoi state\n",
    "    :param validMovesF: function returning valid moves\n",
    "    :return:\n",
    "    '''\n",
    "    goodMoves = validMovesF(state)\n",
    "    if np.random.uniform() < epsilon:\n",
    "        # Random Move\n",
    "        return random.choice(goodMoves)\n",
    "    else:\n",
    "        # Greedy Move\n",
    "        Qs = np.array([Q.get(getTuple(state,m), 0.0) for m in goodMoves])\n",
    "        return goodMoves[np.argmax(Qs)]\n",
    "\n",
    "\n",
    "def trainQ(startState, nRepetitions, learningRate, epsilonDecayFactor, validMovesF, makeMoveF):\n",
    "    '''\n",
    "    Creates and fills a dictionary, Q, representing the (state,move) - value pairs which, if followed\n",
    "    should create the shortest path to the solution.\n",
    "    :param nRepetitions: how many times to iterate through.  Higher numbers would generate more accurate results\n",
    "    :param learningRate: How much to adjust the value part of the dictionary\n",
    "    :param epsilonDecayFactor: how quickly to reduce the random factor.\n",
    "    :param validMovesF: function returning valid moves of a state\n",
    "    :param makeMoveF: function making a move on a state\n",
    "    :return: the dictionary, Q, and a list containing the number of steps it took per iteration to find the goal state\n",
    "    '''\n",
    "    maxGames = nRepetitions\n",
    "    rho = learningRate\n",
    "    epsilonDecayRate = epsilonDecayFactor\n",
    "    epsilon = 1.0\n",
    "    Q = {}\n",
    "    stepList = []\n",
    "    # show the moves while debuggin\n",
    "    showMoves = False\n",
    "\n",
    "    for nGames in range(maxGames):\n",
    "        # if nGames % 10 == 0: print(\".\", end=\"\")\n",
    "        # if nGames % 100 == 0: print(\"Q length: \", len(Q))\n",
    "        # reduce the randomness every pass\n",
    "        epsilon *= epsilonDecayRate\n",
    "        step = 0\n",
    "        # hardcoded start state\n",
    "        state = startState\n",
    "        done = False\n",
    "\n",
    "        while not done:\n",
    "            #if step % 100 == 0: print(\".\", end=\"\")\n",
    "            #if step % 1000 == 0: print(\"Q length: \", len(Q))\n",
    "            step += 1\n",
    "            # grab either a random or best of the known moves\n",
    "            move = epsilonGreedy(epsilon, Q, state, validMovesF)\n",
    "\n",
    "            # we don't want to change state directly, and because state is a list of lists, need to do a\n",
    "            # deepcopy on it, then make the move\n",
    "            stateNew = copy.deepcopy(state)\n",
    "            makeMoveF(stateNew, move)\n",
    "\n",
    "            # if we haven't encountered this state,move combo, add it to Q\n",
    "            if getTuple(state, move) not in Q:\n",
    "                Q[getTuple(state, move)] = 0.0  # Initial Q value for new state, move\n",
    "\n",
    "            # print if debugging\n",
    "            if showMoves:\n",
    "                printState(stateNew)\n",
    "            if winner(stateNew):\n",
    "                # We won!  backfill Q\n",
    "                # print('End State, we won!')\n",
    "                Q[getTuple(state, move)] = -1.0\n",
    "                done = True\n",
    "                # we're keeping a list of the number of steps it took for each winning solution, so add it here.\n",
    "                stepList.append(step)\n",
    "\n",
    "            # update the Q which led us here using the learning factor, and the difference between the current state\n",
    "            # and the old state\n",
    "            if step > 1:\n",
    "                Q[getTuple(stateOld, moveOld)] += rho * (-1 + Q[getTuple(state, move)] - Q[getTuple(stateOld, moveOld)])\n",
    "                #print(\"Q[\",getTuple(stateOld, moveOld),\"]: \",Q[getTuple(stateOld, moveOld)])\n",
    "            # Store the current state, move so we can access it for the next Q update\n",
    "            stateOld, moveOld = state, move\n",
    "            state = stateNew\n",
    "\n",
    "    return Q, stepList\n",
    "\n",
    "\n",
    "def testQ(Q, initialState, maxSteps, validMovesF, makeMoveF):\n",
    "    '''\n",
    "    Using the dictionary Q, and the initial state of the game, traverse and return the best path.\n",
    "    :param Q: dictionary representing the (state,move) - value pairs which, if followed should create the shortest path to the solution.\n",
    "    :param maxSteps: The number of steps to attempt before giving up.\n",
    "    :param validMovesF: function returning valid moves of a state\n",
    "    :param makeMoveF: function making a move on a state\n",
    "    :return: list containing the states from start to finish\n",
    "    '''\n",
    "    #state = [[[\"Red\", \"Red\"],[\"Red\",\"Red\"]],[[\"Blue\", \"Blue\"],[\"Blue\",\"Blue\"]],[[\"Yellow\", \"Yellow\"],[\"Yellow\",\"Yellow\"]],[[\"Orange\", \"Orange\"],[\"Orange\",\"Orange\"]],[[\"White\", \"White\"],[\"White\",\"White\"]],[[\"Green\", \"Green\"],[\"Green\",\"Green\"]]]\n",
    "    state = initialState\n",
    "\n",
    "    statePath = []\n",
    "    movePath = []\n",
    "    movePath.append(\"Initial\")\n",
    "    statePath.append(state)\n",
    "\n",
    "    for i in range(maxSteps):\n",
    "        if winner(state):\n",
    "            return statePath, movePath\n",
    "        goodMoves = validMovesF(state)\n",
    "        Qs = np.array([Q.get(getTuple(state, m), -1000.0) for m in goodMoves])\n",
    "        move = goodMoves[np.argmax(Qs)]\n",
    "        movePath.append(move)\n",
    "        nextState = copy.deepcopy(state)\n",
    "        makeMoveF(nextState, move)\n",
    "        statePath.append(nextState)\n",
    "        state = nextState\n",
    "\n",
    "    return \"No path found\""
   ]
  },
  {
   "cell_type": "markdown",
   "metadata": {},
   "source": [
    "There are a few changes which I should address.\n",
    "\n",
    "1. For the Towers of Hanoi, the ideal solution was 7 moves, but for a rubik's cube, it could be much larger.  I had to place some code to display some feedback as it was executing.  In fact, the first time I ran this, it ended up running for 3 straight days over a weekend on a computer at work.  That was when I discovered a few bugs.  I had defined `winner` such that a face with the top two colors matching, and the bottom two colors matching, even if they weren't all the same color was `True.`  This resulted in a trainQ that never completed.\n",
    "2. I wanted to be able to use the results to test on an actual rubik's cube, so I needed to keep track of the moves needed.  With the Towers of Hanoi, it was trivial to look at a display and see what had been moved, but with a Rubik's Cube it wasn't as obvious.  I kept track of the moves in a new list, `movePath`\n",
    "3. The possible length of Q (29393280, which I got from multiplying the possible states above, by 8 different moves) resulted in a great many Q values that weren't traversed yet.  During testQ, this line: \n",
    "\n",
    "    `Qs = np.array([Q.get(getTuple(state, m), -1000.0) for m in goodMoves])` \n",
    "\n",
    "    used to be \n",
    "\n",
    "    `Qs = np.array([Q.get(getTuple(state, m), 0.0) for m in goodMoves])`  \n",
    "\n",
    "    This would return a 0.0 for a number of possible moves (any which weren't tested during the trainQ function), and given that the next line did an np.argmax on those values, the 0.0 was often larger than other Q values which actually had been traversed.  I changed the \"default\" value if that Q value didn't exist to be -1000.0, thinking that anything larger than that would be preferable.  This seems to work out pretty well.\n",
    "4. Towers of Hanoi always started with an identical puzzle state...all pegs on the left.  Because I had a scrambled state to begin with, I changed the parameters to take in the scrambled initial state, and use that to calculate the path to completion."
   ]
  },
  {
   "cell_type": "markdown",
   "metadata": {},
   "source": [
    "## Results"
   ]
  },
  {
   "cell_type": "markdown",
   "metadata": {},
   "source": [
    "Using this, I needed to figure out a way to test it.  My first thought was to create a random cube, but then I remembered a problem with that in an earlier assignement.  A puzzle can't necessarily be solved if it was completely randomly shuffled.  Randomly shuffling a Rubik's cube would be akin to peeling off the stickers and putting them in random places.  It's possible that there would be a solution, but also possible that a corner which has three faces could have all three faces Red, which couldn't be solved.  So, I created a shuffled cube, starting from the solved state.\n",
    "\n",
    "The below shows the framework for my testing code.  We always start with a completeState, then make a series of moves.  The below code shows 1 move.  I tested with as many as 30.  \n",
    "\n",
    "The learning rate and epsilon I copied from Assignment 5, and those seemed to work well.  This version has 500 repetitions, although when I did the 30 random move puzzle, I changed that to 1000, as it didn't find a path a few times.\n",
    "\n",
    "I was interested in timing the results.  Originally, I was outputting periods every 10 or 100 moves, just to convince myself I was making progress.  Once I got some valid data, and was confident my code was working, I commented those out, and put timing code in.  \n",
    "\n",
    "For the below trivial example, it took 63 seconds with a median value of 1069 steps to completion.  That struck me as not useful information, and what I really wanted was the median value, or, in this case, when we're doing many repetitions, what was the most common value closest to the middle.  Ideally, it should be at or below the number of random moves made to shuffle the puzzle.  The below example, with 1 random move, resulted in a median value of 1.  As expected.  \n",
    "\n",
    "If you re-run this code, you will get a different value, but I show a random move of Uprime, and the solution involved making one move of U, which is the opposite of Uprime, and will solve the puzzle.  One of my runs, which confused me, showed a single move of U, with a solution of a single move of D.  I was expecting only Uprime to be the answer, but, after stepping through the code, I realized that D was a valid solution as well, because it meant the top half was rotated, then the bottom half rotated to match it.  This has the effect of moving the entire cube a quarter turn to the left.  Instead of Blue being the front face, it became the left face, but it's still a solved puzzle."
   ]
  },
  {
   "cell_type": "code",
   "execution_count": 107,
   "metadata": {},
   "outputs": [
    {
     "name": "stdout",
     "output_type": "stream",
     "text": [
      "Move  0  was:  D\n",
      "\t\t Y\tY\t\n",
      "\t\t Y\tY\t\n",
      "R\tR\t B\tB\t W\tW\t G\tG\t\n",
      "B\tB\t W\tW\t G\tG\t R\tR\t\n",
      "\t\t O\tO\t\n",
      "\t\t O\tO\t\n",
      "---------------------------------------------------------\n",
      "[4433, 1, 17375, 8763, 3, 1, 88759, 55811, 68441, 9403, 47, 28219, 6729, 55, 25089, 1415, 1519, 84345, 27847, 25537, 7669, 15, 43129, 18963, 3, 79037, 45123, 1, 1, 1, 1, 1, 1, 1, 1, 1, 1, 1, 1, 1, 1, 1, 1, 1, 1, 1, 1, 1, 1, 1, 1, 1, 1, 1, 1, 1, 1, 1, 1, 1, 1, 1, 1, 1, 1, 1, 1, 1, 1, 1, 1, 1, 1, 1, 1, 1, 1, 1, 1, 1, 1, 1, 1, 1, 1, 1, 1, 1, 1, 1, 1, 1, 1, 1, 1, 1, 1, 1, 1, 1, 1, 1, 1, 1, 1, 1, 1, 1, 1, 1, 1, 1, 1, 1, 1, 1, 1, 1, 1, 1, 1, 1, 1, 1, 1, 1, 1, 1, 1, 1, 1, 1, 1, 1, 1, 1, 1, 1, 1, 1, 1, 1, 1, 1, 1, 1, 1, 1, 1, 1, 1, 1, 1, 1, 1, 1, 1, 1, 1, 1, 1, 1, 1, 1, 1, 1, 1, 1, 1, 1, 1, 1, 1, 1, 1, 1, 1, 1, 1, 1, 1, 1, 1, 1, 1, 1, 1, 1, 1, 1, 1, 1, 1, 1, 1, 1, 1, 1, 1, 1, 1, 1, 1, 1, 1, 1, 1, 1, 1, 1, 1, 1, 1, 1, 1, 1, 1, 1, 1, 1, 1, 1, 1, 1, 1, 1, 1, 1, 1, 1, 1, 1, 1, 1, 1, 1, 1, 1, 1, 1, 1, 1, 1, 1, 1, 1, 1, 1, 1, 1, 1, 1, 1, 1, 1, 1, 1, 1, 1, 1, 1, 1, 1, 1, 1, 1, 1, 1, 1, 1, 1, 1, 1, 1, 1, 1, 1, 1, 1, 1, 1, 1, 1, 1, 1, 1, 1, 1, 1, 1, 1, 1, 1, 1, 1, 1, 1, 1, 1, 1, 1, 1, 1, 1, 1, 1, 1, 1, 1, 1, 1, 1, 1, 1, 1, 1, 1, 1, 1, 1, 1, 1, 1, 1, 1, 1, 1, 1, 1, 1, 1, 1, 1, 1, 1, 1, 1, 1, 1, 1, 1, 1, 1, 1, 1, 1, 1, 1, 1, 1, 1, 1, 1, 1, 1, 1, 1, 1, 1, 1, 1, 1, 1, 1, 1, 1, 1, 1, 1, 1, 1, 1, 1, 1, 1, 1, 1, 1, 1, 1, 1, 1, 1, 1, 1, 1, 1, 1, 1, 1, 1, 1, 1, 1, 1, 1, 1, 1, 1, 1, 1, 1, 1, 1, 1, 1, 1, 1, 1, 1, 1, 1, 1, 1, 1, 1, 1, 1, 1, 1, 1, 1, 1, 1, 1, 1, 1, 1, 1, 1, 1, 1, 1, 1, 1, 1, 1, 1, 1, 1, 1, 1, 1, 1, 1, 1, 1, 1, 1, 1, 1, 1, 1, 1, 1, 1, 1, 1, 1, 1, 1, 1, 1, 1, 1, 1, 1, 1, 1, 1, 1, 1, 1, 1, 1, 1, 1, 1, 1, 1, 1, 1, 1, 1, 1, 1, 1, 1, 1, 1, 1, 1, 1, 1, 1, 1, 1, 1, 1, 1]\n",
      "Training took:  79.9217119216919  seconds.\n",
      "Mean of solution length:  1296.408\n",
      "Median of solution length:  1.0\n",
      "\t\t Y\tY\t\n",
      "\t\t Y\tY\t\n",
      "R\tR\t B\tB\t W\tW\t G\tG\t\n",
      "B\tB\t W\tW\t G\tG\t R\tR\t\n",
      "\t\t O\tO\t\n",
      "\t\t O\tO\t\n",
      "---------------------------------------------------------\n",
      "Move:  Initial\n",
      "\t\t Y\tY\t\n",
      "\t\t Y\tY\t\n",
      "B\tB\t W\tW\t G\tG\t R\tR\t\n",
      "B\tB\t W\tW\t G\tG\t R\tR\t\n",
      "\t\t O\tO\t\n",
      "\t\t O\tO\t\n",
      "---------------------------------------------------------\n",
      "Move:  U\n"
     ]
    }
   ],
   "source": [
    "completeState = [[[\"Red\", \"Red\"],[\"Red\",\"Red\"]],[[\"Blue\", \"Blue\"],[\"Blue\",\"Blue\"]],[[\"Yellow\", \"Yellow\"],[\"Yellow\",\"Yellow\"]],[[\"Orange\", \"Orange\"],[\"Orange\",\"Orange\"]],[[\"White\", \"White\"],[\"White\",\"White\"]],[[\"Green\", \"Green\"],[\"Green\",\"Green\"]]]\n",
    "newstate = completeState\n",
    "for i in range(1):\n",
    "    move = random.choice(validMoves(newstate))\n",
    "    print(\"Move \", i, \" was: \", move)\n",
    "    newstate = makeMove(newstate,move)\n",
    "\n",
    "\n",
    "printState(newstate)\n",
    "startTime = time.time()\n",
    "Q, steps = trainQ(newstate, 500, 0.5, 0.7, validMoves, makeMove)\n",
    "endTime = time.time()\n",
    "print(steps)\n",
    "path, moveList = testQ(Q, newstate, 20000, validMoves, makeMove)\n",
    "\n",
    "print(\"Training took: \", endTime-startTime, \" seconds.\")\n",
    "print(\"Mean of solution length: \", np.mean(steps))\n",
    "print(\"Median of solution length: \", np.median(steps))\n",
    "\n",
    "if path == \"No path found\":\n",
    "    print(path)\n",
    "else:\n",
    "    for i in range(len(path)):\n",
    "        printState(path[i])\n",
    "        print(\"Move: \", moveList[i])\n"
   ]
  },
  {
   "cell_type": "markdown",
   "metadata": {},
   "source": [
    "Below is a sample run, with 40 random moves.  I made it a Python comment to avoid negatively affecting word count.  \n",
    "\n",
    "It took 9 minutes to run, returning a mean solution length of 366.  The Median, however, was 6, which represented the ideal solution, and the one it returned upon testing.  Note that it's quite possible, and in this case it's true, that the solution was considerably less than the 30 initial moves.  Some of the moves may reduce the randomness...an Up followed by an UpPrime, for example, is effectively no state change.  In this case it only took 6 moves to complete the puzzle and return it to it's solved state.  "
   ]
  },
  {
   "cell_type": "code",
   "execution_count": null,
   "metadata": {},
   "outputs": [],
   "source": [
    "'''\n",
    "Move  0  was:  Rprime\n",
    "Move  1  was:  Lprime\n",
    "Move  2  was:  Uprime\n",
    "Move  3  was:  Rprime\n",
    "Move  4  was:  Dprime\n",
    "Move  5  was:  Uprime\n",
    "Move  6  was:  Uprime\n",
    "Move  7  was:  Rprime\n",
    "Move  8  was:  Lprime\n",
    "Move  9  was:  R\n",
    "Move  10  was:  U\n",
    "Move  11  was:  Lprime\n",
    "Move  12  was:  Rprime\n",
    "Move  13  was:  L\n",
    "Move  14  was:  Rprime\n",
    "Move  15  was:  Lprime\n",
    "Move  16  was:  Rprime\n",
    "Move  17  was:  L\n",
    "Move  18  was:  Dprime\n",
    "Move  19  was:  Lprime\n",
    "Move  20  was:  L\n",
    "Move  21  was:  Lprime\n",
    "Move  22  was:  Dprime\n",
    "Move  23  was:  Dprime\n",
    "Move  24  was:  Uprime\n",
    "Move  25  was:  Dprime\n",
    "Move  26  was:  Lprime\n",
    "Move  27  was:  Dprime\n",
    "Move  28  was:  U\n",
    "Move  29  was:  L\n",
    "Move  30  was:  R\n",
    "Move  31  was:  Uprime\n",
    "Move  32  was:  Dprime\n",
    "Move  33  was:  R\n",
    "Move  34  was:  Dprime\n",
    "Move  35  was:  L\n",
    "Move  36  was:  Dprime\n",
    "Move  37  was:  R\n",
    "Move  38  was:  Rprime\n",
    "Move  39  was:  L\n",
    "\t\t W\tB\t\n",
    "\t\t Y\tO\t\n",
    "B\tO\t O\tW\t G\tY\t Y\tR\t\n",
    "W\tW\t G\tB\t R\tR\t B\tG\t\n",
    "\t\t R\tG\t\n",
    "\t\t O\tY\t\n",
    "-------------------------------\n",
    "[778, 11144, 18498, 460, 7774, 12876, 27754, 11016, 106972, 35160, 11712, 50700, 5400, 29930, 11588, 6106, 586, 13706, 40994, 21540, 18094, 40712, 15010, 11990, 37414, 15334, 14142, 15980, 22004, 9880, 50672, 44460, 16620, 63928, 23608, 41386, 36024, 21848, 16672, 16042, 13554, 3340, 12608, 3232, 514, 6450, 1930, 16550, 16598, 2060, 33136, 3568, 7244, 14256, 3766, 34120, 14860, 4228, 2086, 11426, 224, 12318, 1298, 10342, 17188, 8074, 8912, 8442, 8944, 15918, 156, 156, 11918, 12798, 15172, 6564, 3416, 378, 8768, 44, 2198, 282, 17188, 13972, 7778, 12524, 32972, 1526, 12768, 7920, 6208, 858, 4212, 1216, 9834, 8180, 5590, 5760, 12172, 22000, 10838, 1796, 3470, 21014, 14330, 41894, 614, 15564, 11266, 9130, 1644, 10622, 15598, 3706, 236, 10658, 15800, 26288, 6538, 1414, 11106, 6488, 3576, 10440, 5962, 1374, 14776, 464, 8208, 11326, 2252, 15050, 1072, 6850, 6, 12342, 8294, 25296, 16132, 2308, 13256, 7646, 16242, 14182, 4602, 2286, 1232, 14108, 10738, 2750, 21672, 1848, 11822, 1038, 1812, 7644, 4558, 1090, 3086, 8538, 1872, 1884, 2662, 4654, 38, 4712, 446, 586, 4952, 2332, 17656, 4240, 10138, 4010, 11326, 15544, 7692, 2048, 18056, 5562, 18954, 4868, 13032, 32392, 986, 40742, 4114, 27402, 11520, 1068, 3642, 18736, 930184, 37768, 80366, 17962, 51998, 34842, 15594, 25312, 20294, 10020, 11950, 18264, 34966, 28026, 9500, 11058, 11148, 3134, 8162, 9806, 21596, 2004, 1638, 192, 30492, 6276, 8564, 6334, 2806, 4236, 2094, 5282, 3638, 2398, 1710, 3396, 9396, 136, 62, 12, 346, 1390, 90, 894, 2270, 2882, 4080, 31076, 124, 2602, 2420, 2706, 272, 1966, 10760, 144, 342, 1718, 552, 2418, 2280, 3852, 232, 458, 6374, 2106, 6690, 1082, 1078, 1668, 1224, 660, 1568, 2790, 4306, 2172, 68, 160, 1706, 156, 108, 830, 1206, 2556, 960, 2312, 4734, 5176, 1752, 1926, 6654, 5674, 4636, 1086, 1270, 2308, 690, 3470, 1590, 3686, 1544, 5024, 2806, 298, 3118, 3732, 620, 856, 1380, 2118, 1268, 3236, 11484, 1678, 300, 4858, 166, 1268, 1936, 978, 3766, 316, 3058, 4044, 3284, 5036, 856, 6458, 3194, 1492, 2448, 2934, 1792, 950, 186, 86, 584, 878, 608, 2020, 172, 990, 68, 8380, 704, 7012, 6624, 4710, 676, 62, 3396, 3338, 1228, 4062, 1810, 7116, 2790, 15936, 1410, 888, 2414, 4130, 10478, 6530, 5276, 13738, 2868, 6028, 1790, 2864, 6924, 26022, 10862, 12334, 4100, 3342, 1018, 2918, 762, 2340, 3806, 4614, 2144, 2178, 7178, 1872, 4228, 5968, 318, 8246, 3296, 16440, 4234, 5648, 2958, 8584, 420, 4076, 1044, 4658, 12238, 386, 14, 8078, 6204, 1300, 240, 1430, 5538, 7836, 4482, 1002, 422, 2410, 5306, 108, 1618, 478, 3584, 2910, 398, 2022, 23072, 990, 4108, 1266, 10934, 10972, 2190, 4876, 1838, 5394, 5390, 892, 10110, 84, 856, 7122, 2010, 3712, 30032, 9564, 1734, 4534, 11156, 3286, 214, 18192, 3986, 9032, 4276, 8260, 10716, 3282, 18858, 28902, 6224, 5732, 2690, 6220, 1072, 624, 3744, 572, 3526, 1528, 258, 4150, 4792, 5780, 2708, 1302, 20574, 4584, 1312, 4794, 780, 11866, 1792, 3356, 7110, 172, 2624, 10074, 5946, 84, 1090, 1144, 12472, 8024, 408, 4646, 11492, 15332, 1566, 2232, 778, 1446, 5008, 11284, 1196, 2594, 462, 1298, 4266, 178, 334, 3454, 7640, 2112, 3156, 1372, 2090, 232, 5014, 2390, 1994, 550, 3864, 1458, 10658, 2562, 1208, 808, 1928, 10134, 2458, 12548, 8124, 1082, 594, 1274, 1712, 6690, 684, 2552, 3958, 644, 4656, 2804, 5260, 5980, 1592, 6220, 7014, 594, 4640, 206, 7134, 1772, 8768, 2972, 682, 2178, 4846, 3314, 630, 3292, 1688, 388, 3020, 12246, 1394, 1320, 4052, 2164, 428, 1940, 1982, 1472, 1072, 4294, 58, 674, 2180, 4014, 10126, 4806, 4828, 14380, 228, 2026, 8, 1364, 2474, 3142, 5460, 968, 3198, 42, 576, 3580, 4274, 3480, 1290, 6844, 1046, 1112, 3040, 1708, 2498, 1214, 700, 598, 5970, 1252, 10836, 1818, 38, 1154, 1200, 2082, 3044, 6180, 118, 4560, 4108, 1204, 122, 732, 2526, 1254, 2696, 4702, 2260, 4246, 3872, 5290, 2158, 3258, 608, 6602, 968, 5356, 3078, 4484, 1396, 5272, 9802, 330, 64, 4996, 3622, 9602, 670, 478, 2498, 602, 134, 1346, 590, 248, 3052, 13530, 466, 258, 72, 972, 4910, 1180, 1622, 1326, 1650, 1996, 4722, 5472, 148, 3230, 1696, 308, 1270, 1856, 1324, 1602, 972, 98, 1696, 1574, 1432, 1028, 2070, 1050, 4196, 2356, 326, 1158, 5746, 1582, 5088, 1716, 52, 962, 1088, 1602, 1610, 934, 834, 8060, 770, 4166, 3538, 1454, 376, 946, 5092, 430, 96, 2904, 3358, 1150, 850, 4314, 3040, 146, 680, 48, 2264, 714, 2160, 3876, 1060, 1344, 42, 1366, 2666, 1316, 506, 58, 4438, 1068, 1194, 9408, 7684, 3022, 12456, 1238, 1140, 2022, 938, 6436, 2792, 804, 3530, 1954, 1358, 3214, 702, 2018, 730, 6516, 298, 3048, 2734, 1672, 2718, 2050, 7762, 1838, 466, 90, 98, 38, 1148, 5152, 3078, 1420, 550, 410, 6796, 2362, 386, 308, 6926, 98, 5544, 188, 9660, 2258, 358, 12586, 1856, 6510, 1534, 8382, 2298, 3108, 444, 300, 42, 2872, 6056, 1132, 668, 2642, 1992, 1180, 242, 450, 796, 2734, 3966, 1156, 2268, 776, 34, 1372, 712, 898, 1142, 3928, 3732, 6006, 8664, 112, 954, 6400, 586, 972, 1650, 8190, 1740, 4276, 894, 1104, 2316, 1810, 192, 5404, 3772, 2524, 1810, 60, 6, 4308, 1322, 720, 926, 890, 820, 2324, 98, 1672, 648, 76, 2490, 318, 4914, 6984, 1790, 5662, 3476, 2944, 1944, 3140, 3688, 4038, 770, 42, 8282, 1118, 92, 616, 2344, 4698, 5042, 204, 2562, 904, 288, 4038, 1284, 2120, 1676, 4332, 782, 50, 2012, 1354, 1250, 1536, 634, 552, 1230, 44, 586, 232, 310, 206, 88, 520, 758, 832, 50, 3758, 5208, 1110, 1016, 1004, 3082, 2212, 538, 3086, 1994, 1138, 1384, 8748, 540, 2862, 22, 62, 164, 1722, 400, 2418, 460, 870, 146, 2024, 2210, 3098, 1322, 1566, 1174, 662, 58, 142, 2278, 2394, 50, 74, 2646, 348, 468, 2384, 420, 3610, 1266, 1260, 318, 154, 1660, 108, 3342, 2890, 1494, 2362, 2812, 24, 680, 3092, 2104, 30, 1090, 1564, 1610, 846, 2978, 652, 196, 328, 160, 796, 2802, 4346, 12, 766, 380, 152, 472, 618, 2418, 7276, 1722, 3298, 966, 1496, 646, 70, 88, 1724, 2072, 208, 2690, 298, 72, 1590, 3874, 3432, 1848, 34, 786, 2532, 1972, 800, 4010, 64, 1504, 292, 454, 3050, 1328, 38, 1032, 3776, 1154, 290, 876, 2984, 1270, 2484, 394, 5338, 2088, 3624, 414, 4568, 884, 488, 270, 922, 2188, 416, 580, 5886, 1486, 3714, 2760, 90, 126, 1800, 144, 72, 82, 564, 1006, 2044, 472, 108, 7378, 4354, 72, 228, 762, 320, 1872, 388, 486, 1184, 144, 66, 3466, 216, 158, 1892, 582, 1658, 1408, 1758, 322, 296, 868, 1742, 2494, 1196, 856, 632, 3874, 936, 666, 1256, 1890, 50, 668, 608, 50, 612, 914, 164, 702, 1722, 110, 328, 666, 642, 62, 756, 100, 1628, 114, 1930, 576, 50, 886, 1800, 634, 608, 390, 3602, 966, 3128, 322, 210, 274, 126, 158, 354, 1656, 1912, 16, 1038, 1834, 524, 1014, 1854, 916, 1394, 132, 92, 784, 220, 880, 932, 332, 90, 200, 1694, 1902, 450, 2832, 1422, 360, 368, 2676, 778, 514, 1174, 250, 264, 68, 52, 534, 40, 2370, 1178, 922, 4746, 2194, 664, 3876, 724, 878, 84, 372, 388, 3382, 1418, 1876, 132, 754, 86, 324, 318, 380, 806, 1012, 192, 440, 152, 756, 1146, 410, 512, 1240, 372, 12, 1486, 1258, 272, 570, 322, 1048, 390, 322, 2628, 16, 1064, 920, 2164, 1092, 150, 1404, 708, 198, 3274, 24, 410, 506, 168, 56, 1468, 374, 208, 64, 42, 794, 248, 1498, 216, 360, 12, 944, 2638, 1326, 696, 974, 458, 92, 2714, 72, 12, 1094, 414, 666, 588, 216, 162, 188, 830, 64, 434, 464, 184, 1016, 1756, 1158, 220, 1340, 638, 136, 342, 446, 384, 1038, 754, 1796, 258, 470, 298, 246, 1804, 130, 394, 1046, 692, 2574, 106, 1600, 210, 606, 646, 800, 1504, 250, 1228, 292, 440, 2242, 98, 1612, 608, 842, 342, 1458, 70, 268, 280, 2424, 1488, 272, 354, 108, 500, 462, 454, 156, 318, 364, 6, 698, 362, 1996, 604, 720, 466, 460, 3012, 1108, 1550, 1332, 560, 186, 34, 2150, 1310, 180, 126, 962, 1332, 920, 964, 494, 390, 424, 722, 1324, 108, 5588, 2560, 336, 172, 14, 2542, 424, 238, 774, 32, 58, 528, 662, 2606, 186, 308, 114, 98, 384, 260, 1094, 438, 1222, 224, 114, 618, 64, 1208, 708, 242, 530, 374, 364, 8, 316, 1118, 472, 250, 1278, 76, 140, 160, 28, 378, 406, 80, 304, 200, 2082, 264, 398, 378, 742, 92, 62, 166, 568, 162, 24, 798, 98, 634, 360, 3008, 182, 2012, 2372, 478, 390, 42, 1558, 828, 658, 24, 174, 360, 862, 62, 984, 956, 998, 492, 1158, 562, 48, 1162, 140, 932, 374, 782, 422, 964, 608, 144, 476, 2996, 206, 196, 102, 1582, 1030, 134, 1332, 1614, 2094, 338, 460, 358, 380, 204, 942, 208, 710, 1026, 242, 88, 368, 1130, 2340, 1480, 850, 1600, 376, 330, 918, 448, 880, 424, 56, 956, 1980, 304, 526, 1828, 476, 148, 564, 240, 192, 3756, 512, 360, 124, 692, 512, 1640, 350, 604, 624, 48, 32, 282, 232, 368, 42, 1208, 30, 546, 1046, 858, 120, 396, 78, 266, 640, 172, 48, 258, 360, 284, 120, 2584, 774, 362, 126, 44, 198, 630, 590, 710, 52, 232, 1970, 18, 30, 48, 156, 144, 52, 464, 70, 204, 18, 260, 38, 834, 288, 18, 578, 610, 1472, 270, 158, 472, 106, 626, 172, 34, 438, 46, 284, 118, 176, 340, 56, 798, 1984, 360, 280, 408, 590, 1172, 110, 56, 470, 874, 470, 3010, 420, 1136, 240, 50, 3904, 122, 416, 232, 48, 1426, 236, 1362, 1162, 432, 312, 284, 702, 306, 192, 860, 728, 886, 1040, 2218, 848, 498, 376, 314, 394, 1146, 90, 778, 202, 74, 80, 130, 380, 378, 126, 1312, 154, 2954, 24, 402, 280, 776, 66, 1322, 378, 968, 78, 1652, 440, 316, 196, 180, 496, 714, 112, 280, 292, 96, 158, 1324, 932, 1404, 290, 406, 1080, 598, 2622, 540, 474, 14, 482, 694, 1960, 430, 172, 266, 258, 270, 964, 6, 358, 256, 796, 8, 348, 222, 362, 234, 184, 454, 1246, 60, 348, 638, 236, 260, 94, 634, 946, 248, 298, 1492, 580, 98, 358, 1318, 960, 1484, 564, 58, 238, 42, 170, 204, 506, 132, 80, 90, 192, 310, 342, 208, 538, 1400, 96, 652, 720, 366, 862, 662, 232, 1744, 882, 92, 408, 312, 378, 336, 1340, 298, 84, 118, 36, 22, 132, 686, 922, 850, 756, 434, 180, 208, 224, 326, 882, 2522, 1140, 502, 244, 476, 700, 138, 176, 134, 868, 324, 284, 58, 98, 474, 18, 124, 52, 314, 814, 438, 292, 12, 220, 432, 454, 460, 1314, 422, 100, 258, 186, 192, 390, 36, 90, 42, 144, 1206, 16, 1440, 446, 476, 114, 12, 914, 826, 1118, 1312, 466, 850, 306, 806, 472, 344, 1816, 200, 1582, 202, 452, 1422, 10, 410, 1446, 594, 820, 304, 284, 742, 1520, 570, 186, 596, 42, 98, 420, 50, 174, 154, 764, 398, 766, 234, 102, 1298, 312, 1862, 522, 126, 1052, 114, 712, 124, 18, 218, 204, 200, 646, 158, 592, 198, 320, 36, 320, 630, 274, 134, 182, 140, 422, 528, 224, 742, 432, 264, 530, 788, 498, 188, 842, 16, 56, 1118, 334, 938, 86, 360, 330, 1018, 44, 858, 238, 476, 580, 60, 788, 226, 890, 284, 44, 1040, 274, 530, 64, 566, 1312, 1574, 954, 32, 728, 802, 1296, 156, 242, 572, 58, 226, 654, 716, 70, 368, 56, 74, 1076, 270, 28, 462, 598, 988, 340, 130, 104, 1026, 366, 852, 6, 62, 122, 80, 1524, 276, 486, 360, 168, 474, 896, 50, 2838, 266, 32, 120, 1036, 126, 718, 310, 254, 724, 464, 496, 132, 782, 342, 408, 154, 46, 320, 778, 26, 442, 618, 1268, 286, 604, 594, 210, 344, 630, 1188, 406, 62, 158, 2378, 296, 264, 196, 478, 1756, 378, 132, 952, 230, 200, 286, 412, 488, 204, 8, 418, 1082, 902, 116, 444, 64, 504, 28, 630, 330, 130, 628, 230, 78, 6, 262, 484, 718, 402, 394, 1928, 10, 1178, 224, 428, 620, 178, 358, 436, 234, 166, 94, 68, 320, 840, 186, 990, 186, 664, 46, 330, 1424, 94, 158, 692, 414, 368, 294, 1386, 112, 36, 34, 46, 296, 448, 304, 774, 10, 204, 14, 96, 80, 536, 350, 220, 1232, 74, 832, 512, 84, 88, 28, 72, 752, 878, 296, 660, 130, 716, 36, 1050, 174, 104, 172, 1908, 68, 20, 596, 972, 134, 24, 1634, 72, 130, 124, 224, 1314, 266, 402, 694, 142, 452, 14, 438, 78, 458, 344, 88, 46, 130, 174, 646, 302, 10, 558, 34, 184, 1458, 262, 392, 366, 1078, 588, 280, 76, 184, 288, 100, 54, 8, 10, 1040, 8, 118, 784, 368, 1230, 462, 1108, 892, 1036, 22, 56, 318, 366, 62, 842, 344, 606, 58, 154, 584, 338, 166, 516, 18, 206, 1374, 142, 198, 90, 76, 254, 580, 68, 886, 54, 174, 186, 62, 1092, 260, 726, 670, 412, 144, 396, 268, 376, 694, 426, 362, 222, 1622, 540, 690, 240, 1308, 54, 48, 2066, 842, 210, 36, 542, 452, 818, 18, 48, 252, 738, 154, 238, 1450, 94, 300, 780, 290, 388, 38, 682, 402, 572, 300, 2052, 384, 788, 620, 606, 406, 636, 144, 466, 640, 290, 6, 1936, 234, 1360, 220, 534, 96, 536, 52, 310, 82, 1048, 2016, 456, 452, 1480, 130, 248, 440, 752, 144, 380, 1136, 258, 158, 786, 1762, 1120, 516, 604, 108, 226, 936, 384, 830, 76, 80, 80, 360, 764, 626, 1054, 780, 586, 402, 350, 118, 1826, 716, 384, 476, 52, 2800, 114, 112, 60, 1086, 272, 368, 524, 36, 442, 102, 512, 336, 6, 404, 118, 1438, 314, 240, 230, 34, 256, 28, 836, 122, 1150, 640, 28, 1124, 574, 404, 1462, 870, 616, 352, 918, 82, 520, 374, 482, 460, 1270, 240, 164, 508, 750, 748, 322, 44, 10, 162, 692, 324, 64, 796, 1134, 1578, 570, 1614, 1532, 594, 1262, 842, 1358, 202, 764, 100, 922, 100, 12, 22, 1260, 226, 1872, 6, 352, 38, 48, 92, 370, 926, 376, 498, 100, 1270, 1434, 116, 1830, 416, 1254, 612, 112, 1940, 252, 94, 196, 8, 136, 68, 36, 868, 720, 346, 24, 486, 2388, 124, 190, 1444, 184, 84, 1146, 1002, 270, 70, 3560, 268, 802, 684, 260, 1080, 82, 224, 148, 858, 2630, 688, 1420, 554, 34, 74, 400, 1888, 162, 1364, 696, 82, 734, 122, 2126, 1378, 510, 712, 352, 110, 28, 354, 128, 302, 178, 132, 48, 116, 38, 202, 528, 6, 74, 432, 164, 450, 654, 160, 1380, 16, 466, 374, 544, 1132, 16, 156, 38, 378, 1250, 520, 600, 2182, 1146, 8, 550, 1102, 60, 46, 150, 570, 642, 242, 584, 522, 582, 330, 1428, 234, 1088, 554, 56, 1162, 10, 358, 34, 396, 74, 114, 6, 134, 72, 250, 1622, 1072, 2598, 856, 56, 1878, 1620, 1646, 6, 80, 1248, 92, 824, 368, 62, 922, 34, 1398, 84, 428, 126, 1496, 98, 86, 88, 428, 510, 318, 526, 584, 854, 6, 112, 20, 10, 830, 1054, 582, 948, 44, 440, 1536, 26, 622, 266, 1684, 316, 798, 388, 20, 124, 270, 44, 40, 490, 138, 2178, 52, 324, 682, 762, 652, 70, 50, 2728, 2302, 712, 38, 42, 390, 456, 1234, 586, 346, 436, 3086, 880, 512, 502, 1456, 158, 78, 374, 82, 1792, 144, 112, 20, 154, 682, 204, 292, 30, 244, 294, 384, 270, 230, 108, 358, 16, 386, 950, 1946, 10, 506, 1522, 430, 88, 18, 1432, 266, 318, 1048, 972, 170, 952, 1522, 112, 1682, 26, 1766, 36, 30, 264, 1246, 606, 1194, 6, 512, 760, 420, 42, 50, 1352, 68, 706, 426, 32, 1466, 658, 22, 54, 766, 894, 6, 252, 72, 1166, 94, 1354, 112, 576, 136, 156, 1908, 216, 260, 314, 80, 772, 430, 1198, 30, 136, 700, 886, 690, 1598, 426, 134, 1654, 2542, 362, 454, 2484, 710, 1782, 60, 584, 10, 970, 1472, 58, 990, 140, 1472, 14, 1672, 148, 30, 282, 402, 140, 614, 556, 148, 350, 1192, 92, 2144, 300, 1312, 528, 4222, 1760, 274, 4262, 230, 36, 332, 790, 44, 154, 458, 1036, 766, 2114, 424, 40, 82, 644, 228, 2802, 18, 378, 378, 2794, 1780, 1050, 324, 8, 82, 824, 206, 1370, 1060, 282, 396, 34, 8, 8, 1966, 1474, 158, 60, 62, 62, 8, 122, 846, 472, 604, 514, 720, 310, 34, 256, 728, 1422, 1552, 766, 1482, 160, 234, 928, 668, 692, 138, 982, 360, 18, 296, 220, 476, 88, 40, 212, 750, 1478, 1420, 14, 1342, 394, 154, 448, 34, 84, 2014, 202, 2040, 22, 2512, 1068, 198, 420, 528, 1558, 6, 342, 1264, 102, 178, 330, 34, 102, 364, 196, 376, 230, 60, 660, 722, 278, 86, 324, 8, 570, 200, 1490, 38, 1462, 1338, 140, 432, 912, 170, 178, 392, 1184, 278, 30, 1522, 6, 1024, 1762, 126, 608, 96, 316, 26, 18, 1332, 350, 118, 422, 18, 428, 196, 84, 516, 1634, 80, 2876, 580, 6, 14, 434, 138, 6, 22, 240, 242, 460, 120, 138, 1372, 20, 44, 206, 244, 730, 1424, 564, 16, 6, 18, 922, 896, 1502, 1858, 350, 240, 2608, 28, 12, 106, 24, 80, 114, 1882, 872, 226, 106, 128, 6, 98, 72, 702, 374, 14, 756, 824, 6, 980, 438, 1016, 6, 150, 18, 206, 364, 6, 1342, 598, 1358, 426, 110, 1738, 12, 390, 16, 516, 230, 6, 84, 92, 194, 700, 6, 38, 412, 372, 2770, 112, 156, 1866, 1382, 6, 450, 228, 1686, 276, 148, 80, 796, 996, 128, 6, 346, 162, 6, 670, 2704, 170, 6, 18, 230, 1164, 518, 6, 74, 56, 184, 696, 646, 1034, 1590, 6, 74, 24, 6, 58, 8, 240, 6, 786, 602, 646, 492, 904, 112, 132, 6, 26, 6, 108, 6, 1006, 6, 6, 134, 366, 6, 6, 302, 240, 6, 1932, 6, 1438, 28, 6, 292, 6, 6, 450, 6, 6, 6, 6, 494, 656, 6, 6, 6, 6, 6, 276, 6, 6, 6, 6, 6, 6, 6, 6, 6, 6, 6, 6, 6, 6, 6, 6, 6, 6, 6, 6, 6, 6, 6, 6, 6, 6, 6, 6, 6, 6, 6, 6, 6, 6, 6, 6, 6, 6, 6, 6, 6, 6, 6, 6, 6, 6, 6, 6, 6, 6, 6, 6, 6, 6, 6, 6, 6, 6, 6, 6, 6, 6, 6, 6, 6, 6, 6, 6, 6, 6, 6, 6, 6, 6, 6, 6, 6, 6, 6, 6, 6, 6, 6, 6, 6, 6, 6, 6, 6, 6, 6, 6, 6, 6, 6, 6, 6, 6, 6, 6, 6, 6, 6, 6, 6, 6, 6, 6, 6, 6, 6, 6, 6, 6, 6, 6, 6, 6, 6, 6, 6, 6, 6, 6, 6, 6, 6, 6, 6, 6, 6, 6, 6, 6, 6, 6, 6, 6, 6, 6, 6, 6, 6, 6, 6, 6, 6, 6, 6, 6, 6, 6, 6, 6, 6, 6, 6, 6, 6, 6, 6, 6, 6, 6, 6, 6, 6, 6, 6, 6, 6, 6, 6, 6, 6, 6, 6, 6, 6, 6, 6, 6, 6, 6, 6, 6, 6, 6, 6, 6, 6, 6, 6, 6, 6, 6, 6, 6, 6, 6, 6, 6, 6, 6, 6, 6, 6, 6, 6, 6, 6, 6, 6, 6, 6, 6, 6, 6, 6, 6, 6, 6, 6, 6, 6, 6, 6, 6, 6, 6, 6, 6, 6, 6, 6, 6, 6, 6, 6, 6, 6, 6, 6, 6, 6, 6, 6, 6, 6, 6, 6, 6, 6, 6, 6, 6, 6, 6, 6, 6, 6, 6, 6, 6, 6, 6, 6, 6, 6, 6, 6, 6, 6, 6, 6, 6, 6, 6, 6, 6, 6, 6, 6, 6, 6, 6, 6, 6, 6, 6, 6, 6, 6, 6, 6, 6, 6, 6, 6, 6, 6, 6, 6, 6, 6, 6, 6, 6, 6, 6, 6, 6, 6, 6, 6, 6, 6, 6, 6, 6, 6, 6, 6, 6, 6, 6, 6, 6, 6, 6, 6, 6, 6, 6, 6, 6, 6, 6, 6, 6, 6, 6, 6, 6, 6, 6, 6, 6, 6, 6, 6, 6, 6, 6, 6, 6, 6, 6, 6, 6, 6, 6, 6, 6, 6, 6, 6, 6, 6, 6, 6, 6, 6, 6, 6, 6, 6, 6, 6, 6, 6, 6, 6, 6, 6, 6, 6, 6, 6, 6, 6, 6, 6, 6, 6, 6, 6, 6, 6, 6, 6, 6, 6, 6, 6, 6, 6, 6, 6, 6, 6, 6, 6, 6, 6, 6, 6, 6, 6, 6, 6, 6, 6, 6, 6, 6, 6, 6, 6, 6, 6, 6, 6, 6, 6, 6, 6, 6, 6, 6, 6, 6, 6, 6, 6, 6, 6, 6, 6, 6, 6, 6, 6, 6, 6, 6, 6, 6, 6, 6, 6, 6, 6, 6, 6, 6, 6, 6, 6, 6, 6, 6, 6, 6, 6, 6, 6, 6, 6, 6, 6, 6, 6, 6, 6, 6, 6, 6, 6, 6, 6, 6, 6, 6, 6, 6, 6, 6, 6, 6, 6, 6, 6, 6, 6, 6, 6, 6, 6, 6, 6, 6, 6, 6, 6, 6, 6, 6, 6, 6, 6, 6, 6, 6, 6, 6, 6, 6, 6, 6, 6, 6, 6, 6, 6, 6, 6, 6, 6, 6, 6, 6, 6, 6, 6, 6, 6, 6, 6, 6, 6, 6, 6, 6, 6, 6, 6, 6, 6, 6, 6, 6, 6, 6, 6, 6, 6, 6, 6, 6, 6, 6, 6, 6, 6, 6, 6, 6, 6, 6, 6, 6, 6, 6, 6, 6, 6, 6, 6, 6, 6, 6, 6, 6, 6, 6, 6, 6, 6, 6, 6, 6, 6, 6, 6, 6, 6, 6, 6, 6, 6, 6, 6, 6, 6, 6, 6, 6, 6, 6, 6, 6, 6, 6, 6, 6, 6, 6, 6, 6, 6, 6, 6, 6, 6, 6, 6, 6, 6, 6, 6, 6, 6, 6, 6, 6, 6, 6, 6, 6, 6, 6, 6, 6, 6, 6, 6, 6, 6, 6, 6, 6, 6, 6, 6, 6, 6, 6, 6, 6, 6, 6, 6, 6, 6, 6, 6, 6, 6, 6, 6, 6, 6, 6, 6, 6, 6, 6, 6, 6, 6, 6, 6, 6, 6, 6, 6, 6, 6, 6, 6, 6, 6, 6, 6, 6, 6, 6, 6, 6, 6, 6, 6, 6, 6, 6, 6, 6, 6, 6, 6, 6, 6, 6, 6, 6, 6, 6, 6, 6, 6, 6, 6, 6, 6, 6, 6, 6, 6, 6, 6, 6, 6, 6, 6, 6, 6, 6, 6, 6, 6, 6, 6, 6, 6, 6, 6, 6, 6, 6, 6, 6, 6, 6, 6, 6, 6, 6, 6, 6, 6, 6, 6, 6, 6, 6, 6, 6, 6, 6, 6, 6, 6, 6, 6, 6, 6, 6, 6, 6, 6, 6, 6, 6, 6, 6, 6, 6, 6, 6, 6, 6, 6, 6, 6, 6, 6, 6, 6, 6, 6, 6, 6, 6, 6, 6, 6, 6, 6, 6, 6, 6, 6, 6, 6, 6, 6, 6, 6, 6, 6, 6, 6, 6, 6, 6, 6, 6, 6, 6, 6, 6, 6, 6, 6, 6, 6, 6, 6, 6, 6, 6, 6, 6, 6, 6, 6, 6, 6, 6, 6, 6, 6, 6, 6, 6, 6, 6, 6, 6, 6, 6, 6, 6, 6, 6, 6, 6, 6, 6, 6, 6, 6, 6, 6, 6, 6, 6, 6, 6, 6, 6, 6, 6, 6, 6, 6, 6, 6, 6, 6, 6, 6, 6, 6, 6, 6, 6, 6, 6, 6, 6, 6, 6, 6, 6, 6, 6, 6, 6, 6, 6, 6, 6, 6, 6, 6, 6, 6, 6, 6, 6, 6, 6, 6, 6, 6, 6, 6, 6, 6, 6, 6, 6, 6, 6, 6, 6, 6, 6, 6, 6, 6, 6, 6, 6, 6, 6, 6, 6, 6, 6, 6, 6, 6, 6, 6, 6, 6, 6, 6, 6, 6, 6, 6, 6, 6, 6, 6, 6, 6, 6, 6, 6, 6, 6, 6, 6, 6, 6, 6, 6, 6, 6, 6, 6, 6, 6, 6, 6, 6, 6, 6, 6, 6, 6, 6, 6, 6, 6, 6, 6, 6, 6, 6, 6, 6, 6, 6, 6, 6, 6, 6, 6, 6, 6, 6, 6, 6, 6, 6, 6, 6, 6, 6, 6, 6, 6, 6, 6, 6, 6, 6, 6, 6, 6, 6, 6, 6, 6, 6, 6, 6, 6, 6, 6, 6, 6, 6, 6, 6, 6, 6, 6, 6, 6, 6, 6, 6, 6, 6, 6, 6, 6, 6, 6, 6, 6, 6, 6, 6, 6, 6, 6, 6, 6, 6, 6, 6, 6, 6, 6, 6, 6, 6, 6, 6, 6, 6, 6, 6, 6, 6, 6, 6, 6, 6, 6, 6, 6, 6, 6, 6, 6, 6, 6, 6, 6, 6, 6, 6, 6, 6, 6, 6, 6, 6, 6, 6, 6, 6, 6, 6, 6, 6, 6, 6, 6, 6, 6, 6, 6, 6, 6, 6, 6, 6, 6, 6, 6, 6, 6, 6, 6, 6, 6, 6, 6, 6, 6, 6, 6, 6, 6, 6, 6, 6, 6, 6, 6, 6, 6, 6, 6, 6, 6, 6, 6, 6, 6, 6, 6, 6, 6, 6, 6, 6, 6, 6, 6, 6, 6, 6, 6, 6, 6, 6, 6, 6, 6, 6, 6, 6, 6, 6, 6, 6, 6, 6, 6, 6, 6, 6, 6, 6, 6, 6, 6, 6, 6, 6, 6, 6, 6, 6, 6, 6, 6, 6, 6, 6, 6, 6, 6, 6, 6, 6, 6, 6, 6, 6, 6, 6, 6, 6, 6, 6, 6, 6, 6, 6, 6, 6, 6, 6, 6, 6, 6, 6, 6, 6, 6, 6, 6, 6, 6, 6, 6, 6, 6, 6, 6, 6, 6, 6, 6, 6, 6, 6, 6, 6, 6, 6, 6, 6, 6, 6, 6, 6, 6, 6, 6, 6, 6, 6, 6, 6, 6, 6, 6, 6, 6, 6, 6, 6, 6, 6, 6, 6, 6, 6, 6, 6, 6, 6, 6, 6, 6, 6, 6, 6, 6, 6, 6, 6, 6, 6, 6, 6, 6, 6, 6, 6, 6, 6, 6, 6, 6, 6, 6, 6, 6, 6, 6, 6, 6, 6, 6, 6, 6, 6, 6, 6, 6, 6, 6, 6, 6, 6, 6, 6, 6, 6, 6, 6, 6, 6, 6, 6, 6, 6, 6, 6, 6, 6, 6, 6, 6, 6, 6, 6, 6, 6, 6, 6, 6, 6, 6, 6, 6, 6, 6, 6, 6, 6, 6, 6, 6, 6, 6, 6, 6, 6, 6, 6, 6, 6, 6, 6, 6, 6, 6, 6, 6, 6, 6, 6, 6, 6, 6, 6, 6, 6, 6, 6, 6, 6, 6, 6, 6, 6, 6, 6, 6, 6, 6, 6, 6, 6, 6, 6, 6, 6, 6, 6, 6, 6, 6, 6, 6, 6, 6, 6, 6, 6, 6, 6, 6, 6, 6, 6, 6, 6, 6, 6, 6, 6, 6, 6, 6, 6, 6, 6, 6, 6, 6, 6, 6, 6, 6, 6, 6, 6, 6, 6, 6, 6, 6, 6, 6, 6, 6, 6, 6, 6, 6, 6, 6, 6, 6, 6, 6, 6, 6, 6, 6, 6, 6, 6, 6, 6, 6, 6, 6, 6, 6, 6, 6, 6, 6, 6, 6, 6, 6, 6, 6, 6, 6, 6, 6, 6, 6, 6, 6, 6, 6, 6, 6, 6, 6, 6, 6, 6, 6, 6, 6, 6, 6, 6, 6, 6, 6, 6, 6, 6, 6, 6, 6, 6, 6, 6, 6, 6, 6, 6, 6, 6, 6, 6, 6, 6, 6, 6, 6, 6, 6, 6, 6, 6, 6, 6, 6, 6, 6, 6, 6, 6, 6, 6, 6, 6, 6, 6, 6, 6, 6, 6, 6, 6, 6, 6, 6, 6, 6, 6, 6, 6, 6, 6, 6, 6, 6, 6, 6, 6, 6, 6, 6, 6, 6, 6, 6, 6, 6, 6, 6, 6, 6, 6, 6, 6, 6, 6, 6, 6, 6, 6, 6, 6, 6, 6, 6, 6, 6, 6, 6, 6, 6, 6, 6, 6, 6, 6, 6, 6, 6, 6, 6, 6, 6, 6, 6, 6, 6, 6, 6, 6, 6, 6, 6, 6, 6, 6, 6, 6, 6, 6, 6, 6, 6, 6, 6, 6, 6, 6, 6, 6, 6, 6, 6, 6, 6, 6, 6, 6, 6, 6, 6, 6, 6, 6, 6, 6, 6, 6, 6, 6, 6, 6, 6, 6, 6, 6, 6, 6, 6, 6, 6, 6, 6, 6, 6, 6, 6, 6, 6, 6, 6, 6, 6, 6, 6, 6, 6, 6, 6, 6, 6, 6, 6, 6, 6, 6, 6, 6, 6, 6, 6, 6, 6, 6, 6, 6, 6, 6, 6, 6, 6, 6, 6, 6, 6, 6, 6, 6, 6, 6, 6, 6, 6, 6, 6, 6, 6, 6, 6, 6, 6, 6, 6, 6, 6, 6, 6, 6, 6, 6, 6, 6, 6, 6, 6, 6, 6, 6, 6, 6, 6, 6, 6, 6, 6, 6, 6, 6, 6, 6, 6, 6, 6, 6, 6, 6, 6, 6, 6, 6, 6, 6, 6, 6, 6, 6, 6, 6, 6, 6, 6, 6, 6, 6, 6, 6, 6, 6, 6, 6, 6, 6, 6, 6, 6, 6, 6, 6, 6, 6, 6, 6, 6, 6, 6, 6, 6, 6, 6, 6, 6, 6, 6, 6, 6, 6, 6, 6, 6, 6, 6, 6, 6, 6, 6, 6, 6, 6, 6, 6, 6, 6, 6, 6, 6, 6, 6, 6, 6, 6, 6, 6, 6, 6, 6, 6, 6, 6, 6, 6, 6, 6, 6, 6, 6, 6, 6, 6, 6, 6, 6, 6, 6, 6, 6, 6, 6, 6, 6, 6, 6, 6, 6, 6, 6, 6, 6, 6, 6, 6, 6, 6, 6, 6, 6, 6, 6, 6, 6, 6, 6, 6, 6, 6, 6, 6, 6, 6, 6, 6, 6, 6, 6, 6, 6, 6, 6, 6, 6, 6, 6, 6, 6, 6, 6, 6, 6, 6, 6, 6, 6, 6, 6, 6, 6, 6, 6, 6, 6, 6, 6, 6, 6, 6, 6, 6, 6, 6, 6, 6, 6, 6, 6, 6, 6, 6, 6, 6, 6, 6, 6, 6, 6, 6, 6, 6, 6, 6, 6, 6, 6, 6, 6, 6, 6, 6, 6, 6, 6, 6, 6, 6, 6, 6, 6, 6, 6, 6, 6, 6, 6, 6, 6, 6, 6, 6, 6, 6, 6, 6, 6, 6, 6, 6, 6, 6, 6, 6, 6, 6, 6, 6, 6, 6, 6, 6, 6, 6, 6, 6, 6, 6, 6, 6, 6, 6, 6, 6, 6, 6, 6, 6, 6, 6, 6, 6, 6, 6, 6, 6, 6, 6, 6, 6, 6, 6, 6, 6, 6, 6, 6, 6, 6, 6, 6, 6, 6, 6, 6, 6, 6, 6, 6, 6, 6, 6, 6, 6, 6, 6, 6, 6, 6, 6, 6, 6, 6, 6, 6, 6, 6, 6, 6, 6, 6, 6, 6, 6, 6, 6, 6, 6, 6, 6, 6, 6, 6, 6, 6, 6, 6, 6, 6, 6, 6, 6, 6, 6, 6, 6, 6, 6, 6, 6, 6, 6, 6, 6, 6, 6, 6, 6, 6, 6, 6, 6, 6, 6, 6, 6, 6, 6, 6, 6, 6, 6, 6, 6, 6, 6, 6, 6, 6, 6, 6, 6, 6, 6, 6, 6, 6, 6, 6, 6, 6, 6, 6, 6, 6, 6, 6, 6, 6, 6, 6, 6, 6, 6, 6, 6, 6, 6, 6, 6, 6, 6, 6, 6, 6, 6, 6, 6, 6, 6, 6, 6, 6, 6, 6, 6, 6, 6, 6, 6, 6, 6, 6, 6, 6, 6, 6, 6, 6, 6, 6, 6, 6, 6, 6, 6, 6, 6, 6, 6, 6, 6, 6, 6, 6, 6, 6, 6, 6, 6, 6, 6, 6, 6, 6, 6, 6, 6, 6, 6, 6, 6, 6, 6, 6, 6, 6, 6, 6, 6, 6, 6, 6, 6, 6, 6, 6, 6, 6, 6, 6, 6, 6, 6, 6, 6, 6, 6, 6, 6, 6, 6, 6, 6, 6, 6, 6, 6, 6, 6, 6, 6, 6, 6, 6, 6, 6, 6, 6, 6, 6, 6, 6, 6, 6, 6, 6, 6, 6, 6, 6, 6, 6, 6, 6, 6, 6, 6, 6, 6, 6, 6, 6, 6, 6, 6, 6, 6, 6, 6, 6, 6, 6, 6, 6, 6, 6, 6, 6, 6, 6, 6, 6, 6, 6, 6, 6, 6, 6, 6, 6, 6, 6, 6, 6, 6, 6, 6, 6, 6, 6, 6, 6, 6, 6, 6, 6, 6, 6, 6, 6, 6, 6, 6, 6, 6, 6, 6, 6, 6, 6, 6, 6, 6, 6, 6, 6, 6, 6, 6, 6, 6, 6, 6, 6, 6, 6, 6, 6, 6, 6, 6, 6, 6, 6, 6, 6, 6, 6, 6, 6, 6, 6, 6, 6, 6, 6, 6, 6, 6, 6, 6, 6, 6, 6, 6, 6, 6, 6, 6, 6, 6, 6, 6, 6, 6, 6, 6, 6, 6, 6, 6, 6, 6, 6, 6, 6, 6, 6, 6, 6, 6, 6, 6, 6, 6, 6, 6, 6, 6, 6, 6, 6, 6, 6, 6, 6, 6, 6, 6, 6, 6, 6, 6, 6, 6, 6, 6, 6, 6, 6, 6, 6, 6, 6, 6, 6, 6, 6, 6, 6, 6, 6, 6, 6, 6, 6, 6, 6, 6, 6, 6, 6, 6, 6, 6, 6, 6, 6, 6, 6, 6, 6, 6, 6, 6, 6, 6, 6, 6, 6, 6, 6, 6, 6, 6, 6, 6, 6, 6, 6, 6, 6, 6, 6, 6, 6, 6, 6, 6, 6, 6, 6, 6, 6, 6, 6, 6, 6, 6, 6, 6, 6, 6, 6, 6, 6, 6, 6, 6, 6, 6, 6, 6, 6, 6, 6, 6, 6, 6, 6, 6, 6, 6, 6, 6, 6, 6, 6, 6, 6, 6, 6, 6, 6, 6, 6, 6, 6, 6, 6, 6, 6, 6, 6, 6, 6, 6, 6, 6, 6, 6, 6, 6, 6, 6, 6, 6, 6, 6, 6, 6, 6, 6, 6, 6, 6, 6, 6, 6, 6, 6, 6, 6, 6, 6, 6, 6, 6, 6, 6, 6, 6, 6, 6, 6, 6, 6, 6, 6, 6, 6, 6, 6, 6, 6, 6, 6, 6, 6, 6, 6, 6, 6, 6, 6, 6, 6, 6, 6, 6, 6, 6, 6, 6, 6, 6, 6, 6, 6, 6, 6, 6, 6, 6, 6, 6, 6, 6, 6, 6, 6, 6, 6, 6, 6, 6, 6, 6, 6, 6, 6, 6, 6, 6, 6, 6, 6, 6, 6, 6, 6, 6, 6, 6, 6, 6, 6, 6, 6, 6, 6, 6, 6, 6, 6, 6, 6, 6, 6, 6, 6, 6, 6, 6, 6, 6, 6, 6, 6, 6, 6, 6, 6, 6, 6, 6, 6, 6, 6, 6, 6, 6, 6, 6, 6, 6, 6, 6, 6, 6, 6, 6, 6, 6, 6, 6, 6, 6, 6, 6, 6, 6, 6, 6, 6, 6, 6, 6, 6, 6, 6, 6, 6, 6, 6, 6, 6, 6, 6, 6, 6, 6, 6, 6, 6, 6, 6, 6, 6, 6, 6, 6, 6, 6, 6, 6, 6, 6, 6, 6, 6, 6, 6, 6, 6, 6, 6, 6, 6, 6, 6, 6, 6, 6, 6, 6, 6, 6, 6, 6, 6, 6, 6, 6, 6, 6, 6, 6, 6, 6, 6, 6, 6, 6, 6, 6, 6, 6, 6, 6, 6, 6, 6, 6, 6, 6, 6, 6, 6, 6, 6, 6, 6, 6, 6, 6, 6, 6, 6, 6, 6, 6, 6, 6, 6, 6, 6, 6, 6, 6, 6, 6, 6, 6, 6, 6, 6, 6, 6, 6, 6, 6, 6, 6, 6, 6, 6, 6, 6, 6, 6, 6, 6, 6, 6, 6, 6, 6, 6, 6, 6, 6, 6, 6, 6, 6, 6, 6, 6, 6, 6, 6, 6, 6, 6, 6, 6, 6, 6, 6, 6, 6, 6, 6, 6, 6, 6, 6, 6, 6, 6, 6, 6, 6, 6, 6, 6, 6, 6, 6, 6, 6, 6, 6, 6, 6, 6, 6, 6, 6, 6, 6, 6, 6, 6, 6, 6, 6, 6, 6, 6, 6, 6, 6, 6, 6, 6, 6, 6, 6, 6, 6, 6, 6, 6, 6, 6, 6, 6, 6, 6, 6, 6, 6, 6, 6, 6, 6, 6, 6, 6, 6, 6, 6, 6, 6, 6, 6, 6, 6, 6, 6, 6, 6, 6, 6, 6, 6, 6, 6, 6, 6, 6, 6, 6, 6, 6, 6, 6, 6, 6, 6, 6, 6, 6, 6, 6, 6, 6, 6, 6, 6, 6, 6, 6, 6, 6, 6, 6, 6, 6, 6, 6, 6, 6, 6, 6, 6, 6, 6, 6, 6, 6, 6, 6, 6, 6, 6, 6, 6, 6, 6, 6, 6, 6, 6, 6, 6, 6, 6, 6, 6, 6, 6, 6, 6, 6, 6, 6, 6, 6, 6, 6, 6, 6, 6, 6, 6, 6, 6, 6, 6, 6, 6, 6, 6, 6, 6, 6, 6, 6, 6, 6, 6, 6, 6, 6, 6, 6, 6, 6, 6, 6, 6, 6, 6, 6, 6, 6, 6, 6, 6, 6, 6, 6, 6, 6, 6, 6, 6, 6, 6, 6, 6, 6, 6, 6, 6, 6, 6, 6, 6, 6, 6, 6, 6, 6, 6, 6, 6, 6, 6, 6, 6, 6, 6, 6, 6, 6, 6, 6, 6, 6, 6, 6, 6, 6, 6, 6, 6, 6, 6, 6, 6, 6, 6, 6, 6, 6, 6, 6, 6, 6, 6, 6, 6, 6, 6, 6, 6, 6, 6, 6, 6, 6, 6, 6, 6, 6, 6, 6, 6, 6, 6, 6, 6, 6, 6, 6, 6, 6, 6, 6, 6, 6, 6, 6, 6, 6, 6, 6, 6, 6, 6, 6, 6, 6, 6, 6, 6, 6, 6, 6, 6, 6, 6, 6, 6, 6, 6, 6, 6, 6, 6, 6, 6, 6, 6, 6, 6, 6, 6, 6, 6, 6, 6, 6, 6, 6, 6, 6, 6, 6, 6, 6, 6, 6, 6, 6, 6, 6, 6, 6, 6, 6, 6, 6, 6, 6, 6, 6, 6, 6, 6, 6, 6, 6, 6, 6, 6, 6, 6, 6, 6, 6, 6, 6, 6, 6, 6, 6, 6, 6, 6, 6, 6, 6, 6, 6, 6, 6, 6, 6, 6, 6, 6, 6, 6, 6, 6, 6, 6, 6, 6, 6, 6, 6, 6, 6, 6, 6, 6, 6, 6, 6, 6, 6, 6, 6, 6, 6, 6, 6, 6, 6, 6, 6, 6, 6, 6, 6, 6, 6, 6, 6, 6, 6, 6, 6, 6, 6, 6, 6, 6, 6, 6, 6, 6, 6, 6, 6, 6, 6, 6, 6, 6, 6, 6, 6, 6, 6, 6, 6, 6, 6, 6, 6, 6, 6, 6, 6, 6, 6, 6, 6, 6, 6, 6, 6, 6, 6, 6, 6, 6, 6, 6, 6, 6, 6, 6, 6, 6, 6, 6, 6, 6, 6, 6, 6, 6, 6, 6, 6, 6, 6, 6, 6, 6, 6, 6, 6, 6, 6, 6, 6, 6, 6, 6, 6, 6, 6, 6, 6, 6, 6, 6, 6, 6, 6, 6, 6, 6, 6, 6, 6, 6, 6, 6, 6, 6, 6, 6, 6, 6, 6, 6, 6, 6, 6, 6, 6, 6, 6, 6, 6, 6, 6, 6, 6, 6, 6, 6, 6, 6, 6, 6, 6, 6, 6, 6, 6, 6, 6, 6, 6, 6, 6, 6, 6, 6, 6, 6, 6, 6, 6, 6, 6, 6, 6, 6, 6, 6, 6, 6, 6, 6, 6, 6, 6, 6, 6, 6, 6, 6, 6, 6, 6, 6, 6, 6, 6, 6, 6, 6, 6, 6, 6, 6, 6, 6, 6, 6, 6, 6, 6, 6, 6, 6, 6, 6, 6, 6, 6, 6, 6, 6, 6, 6, 6, 6, 6, 6, 6, 6, 6, 6, 6, 6, 6, 6, 6, 6, 6, 6, 6, 6, 6, 6, 6, 6, 6, 6, 6, 6, 6, 6, 6, 6, 6, 6, 6, 6, 6, 6, 6, 6, 6, 6, 6, 6, 6, 6, 6, 6, 6, 6, 6, 6, 6, 6, 6, 6, 6, 6, 6, 6, 6, 6, 6, 6, 6, 6, 6, 6, 6, 6, 6, 6, 6, 6, 6, 6, 6, 6, 6, 6, 6, 6, 6, 6, 6, 6, 6, 6, 6, 6, 6, 6, 6, 6, 6, 6, 6, 6, 6, 6, 6, 6, 6, 6, 6, 6, 6, 6, 6, 6, 6, 6, 6, 6, 6, 6, 6, 6, 6, 6, 6, 6, 6, 6, 6, 6, 6, 6, 6, 6, 6, 6, 6, 6, 6, 6, 6, 6, 6, 6, 6, 6, 6, 6, 6, 6, 6, 6, 6, 6, 6, 6, 6, 6, 6, 6, 6, 6, 6, 6, 6, 6, 6, 6, 6, 6, 6, 6, 6, 6, 6, 6, 6, 6, 6, 6, 6, 6, 6, 6, 6, 6, 6, 6, 6, 6, 6, 6, 6, 6, 6, 6, 6, 6, 6, 6, 6, 6, 6, 6, 6, 6, 6, 6, 6, 6, 6, 6, 6, 6, 6, 6, 6, 6, 6, 6, 6, 6, 6, 6, 6, 6, 6, 6, 6, 6, 6, 6, 6, 6, 6, 6, 6, 6, 6, 6, 6, 6, 6, 6, 6, 6, 6, 6, 6, 6, 6, 6, 6, 6, 6, 6, 6, 6, 6, 6, 6, 6, 6, 6, 6, 6, 6, 6, 6, 6, 6, 6, 6, 6, 6, 6, 6, 6, 6, 6, 6, 6, 6, 6, 6, 6, 6, 6, 6, 6, 6, 6, 6, 6, 6, 6, 6, 6, 6, 6, 6, 6, 6, 6, 6, 6, 6, 6, 6, 6, 6, 6, 6, 6, 6, 6, 6, 6, 6, 6, 6, 6, 6, 6, 6, 6, 6, 6, 6, 6, 6, 6, 6, 6, 6, 6, 6, 6, 6, 6, 6, 6, 6, 6, 6, 6, 6, 6, 6, 6, 6, 6, 6, 6, 6, 6, 6, 6, 6, 6, 6, 6, 6, 6, 6, 6, 6, 6, 6, 6, 6, 6, 6, 6, 6, 6, 6, 6, 6, 6, 6, 6, 6, 6, 6, 6, 6, 6, 6, 6, 6, 6, 6, 6, 6, 6, 6, 6, 6, 6, 6, 6, 6, 6, 6, 6, 6, 6, 6, 6, 6, 6, 6, 6, 6, 6, 6, 6, 6, 6, 6, 6, 6, 6, 6, 6, 6, 6, 6, 6, 6, 6, 6, 6, 6, 6, 6, 6, 6, 6, 6, 6, 6, 6, 6, 6, 6, 6, 6, 6, 6, 6, 6, 6, 6, 6, 6, 6, 6, 6, 6, 6, 6, 6, 6, 6, 6, 6, 6, 6, 6, 6, 6, 6, 6, 6, 6, 6, 6, 6, 6, 6, 6, 6, 6, 6, 6, 6, 6, 6, 6, 6, 6, 6, 6, 6, 6, 6, 6, 6, 6, 6, 6, 6, 6, 6, 6, 6, 6, 6, 6, 6, 6, 6, 6, 6, 6, 6, 6, 6, 6, 6, 6, 6, 6, 6, 6, 6, 6, 6, 6, 6, 6, 6, 6, 6, 6, 6, 6, 6, 6, 6, 6, 6, 6, 6, 6, 6, 6, 6, 6, 6, 6, 6, 6, 6, 6, 6, 6, 6, 6, 6, 6, 6, 6, 6, 6, 6, 6, 6, 6, 6, 6, 6, 6, 6, 6, 6, 6, 6, 6, 6, 6, 6, 6, 6, 6, 6, 6, 6, 6, 6, 6, 6, 6, 6, 6, 6, 6, 6, 6, 6, 6, 6, 6, 6, 6, 6, 6, 6, 6, 6, 6, 6, 6, 6, 6, 6, 6, 6, 6, 6, 6, 6, 6, 6, 6, 6, 6, 6, 6, 6, 6, 6, 6, 6, 6, 6, 6, 6, 6, 6, 6, 6, 6, 6, 6, 6, 6, 6, 6, 6, 6, 6, 6, 6, 6, 6, 6, 6, 6, 6, 6, 6, 6, 6, 6, 6, 6, 6, 6, 6, 6, 6, 6, 6, 6, 6, 6, 6, 6, 6, 6, 6, 6, 6, 6, 6, 6, 6, 6, 6, 6, 6, 6, 6, 6, 6, 6, 6, 6, 6, 6, 6, 6, 6, 6, 6, 6, 6, 6, 6, 6, 6, 6, 6, 6, 6, 6, 6, 6, 6, 6, 6, 6, 6, 6, 6, 6, 6, 6, 6, 6, 6, 6, 6, 6, 6, 6, 6, 6, 6, 6, 6, 6, 6, 6, 6, 6, 6, 6, 6, 6, 6, 6, 6, 6, 6, 6, 6, 6, 6, 6, 6, 6, 6, 6, 6, 6, 6, 6, 6, 6, 6, 6, 6, 6, 6, 6, 6, 6, 6, 6, 6, 6, 6, 6, 6, 6, 6, 6, 6, 6, 6, 6, 6, 6, 6, 6, 6, 6, 6, 6, 6, 6, 6, 6, 6, 6, 6, 6, 6, 6, 6, 6, 6, 6, 6, 6, 6, 6, 6, 6, 6, 6, 6, 6, 6, 6, 6, 6, 6, 6, 6, 6, 6, 6, 6, 6, 6, 6, 6, 6, 6, 6, 6, 6, 6, 6, 6, 6, 6, 6, 6, 6, 6, 6, 6, 6, 6, 6, 6, 6, 6, 6, 6, 6, 6, 6, 6, 6, 6, 6, 6, 6, 6, 6, 6, 6, 6, 6, 6, 6, 6, 6, 6, 6, 6, 6, 6, 6, 6, 6, 6, 6, 6, 6, 6, 6, 6, 6, 6, 6, 6, 6, 6, 6, 6, 6, 6, 6, 6, 6, 6, 6, 6, 6, 6, 6, 6, 6, 6, 6, 6, 6, 6, 6, 6, 6, 6, 6, 6, 6, 6, 6, 6, 6, 6, 6, 6, 6, 6, 6, 6, 6, 6, 6, 6, 6, 6, 6, 6, 6, 6, 6, 6, 6, 6, 6, 6, 6, 6, 6, 6, 6, 6, 6, 6, 6, 6, 6, 6, 6, 6, 6, 6, 6, 6, 6, 6, 6, 6, 6, 6, 6, 6, 6, 6, 6, 6, 6, 6, 6, 6, 6, 6, 6, 6, 6, 6, 6, 6, 6, 6, 6, 6, 6, 6, 6, 6, 6, 6, 6, 6, 6, 6, 6, 6, 6, 6, 6, 6, 6, 6, 6, 6, 6, 6, 6, 6, 6, 6, 6, 6, 6, 6, 6, 6, 6, 6, 6, 6, 6, 6, 6, 6, 6, 6, 6, 6, 6, 6, 6, 6, 6, 6, 6, 6, 6, 6, 6, 6, 6, 6, 6, 6, 6, 6, 6, 6, 6, 6, 6, 6, 6, 6, 6, 6, 6, 6, 6, 6, 6, 6, 6, 6, 6, 6, 6, 6, 6, 6, 6, 6, 6, 6, 6, 6, 6, 6, 6, 6, 6, 6, 6, 6, 6, 6, 6, 6, 6, 6, 6, 6, 6, 6, 6, 6, 6, 6, 6, 6, 6, 6, 6, 6, 6, 6, 6, 6, 6, 6, 6, 6, 6, 6, 6, 6, 6, 6, 6, 6, 6, 6, 6, 6, 6, 6, 6, 6, 6, 6, 6, 6, 6, 6, 6, 6, 6, 6, 6, 6, 6, 6, 6, 6, 6, 6, 6, 6, 6, 6, 6, 6, 6, 6, 6, 6, 6, 6, 6, 6, 6, 6, 6, 6, 6, 6, 6, 6, 6, 6, 6, 6, 6, 6, 6, 6, 6, 6, 6, 6, 6, 6, 6, 6, 6, 6, 6, 6, 6, 6, 6, 6, 6, 6, 6, 6, 6, 6, 6, 6, 6, 6, 6, 6, 6, 6, 6, 6, 6, 6, 6, 6, 6, 6, 6, 6, 6, 6, 6, 6, 6, 6, 6, 6, 6, 6, 6, 6, 6, 6, 6, 6, 6, 6, 6, 6, 6, 6, 6, 6, 6, 6, 6, 6, 6, 6, 6, 6, 6, 6, 6, 6, 6, 6, 6, 6, 6, 6, 6, 6, 6, 6, 6, 6, 6, 6, 6, 6, 6, 6, 6, 6, 6, 6, 6, 6, 6, 6, 6, 6, 6, 6, 6, 6, 6, 6, 6, 6, 6, 6, 6, 6, 6, 6, 6, 6, 6, 6, 6, 6, 6, 6, 6, 6, 6, 6, 6, 6, 6, 6, 6, 6, 6, 6, 6, 6, 6, 6, 6, 6, 6, 6, 6, 6, 6, 6, 6, 6, 6, 6, 6, 6, 6, 6, 6, 6, 6, 6, 6, 6, 6, 6, 6, 6, 6, 6, 6, 6, 6, 6, 6, 6, 6, 6, 6, 6, 6, 6, 6, 6, 6, 6, 6, 6, 6, 6, 6, 6, 6, 6, 6, 6, 6, 6, 6, 6, 6, 6, 6, 6, 6, 6, 6, 6, 6, 6, 6, 6, 6, 6, 6, 6, 6, 6, 6, 6, 6, 6, 6, 6, 6, 6, 6, 6, 6, 6, 6, 6, 6, 6, 6, 6, 6, 6, 6, 6, 6, 6, 6, 6, 6, 6, 6, 6, 6, 6, 6, 6, 6, 6, 6, 6, 6, 6, 6, 6, 6, 6, 6, 6, 6, 6, 6, 6, 6, 6, 6, 6, 6, 6, 6, 6, 6, 6, 6, 6, 6, 6, 6, 6, 6, 6, 6, 6, 6, 6, 6, 6, 6, 6, 6, 6, 6, 6, 6, 6, 6, 6, 6, 6, 6, 6, 6, 6, 6, 6, 6, 6, 6, 6, 6, 6, 6, 6, 6, 6, 6, 6, 6, 6, 6, 6, 6, 6, 6, 6, 6, 6, 6, 6, 6, 6, 6, 6, 6, 6, 6, 6, 6, 6, 6, 6, 6, 6, 6, 6, 6, 6, 6, 6, 6, 6, 6, 6, 6, 6, 6, 6, 6, 6, 6, 6, 6, 6, 6, 6, 6, 6, 6, 6, 6, 6, 6, 6, 6, 6, 6, 6, 6, 6, 6, 6, 6, 6, 6, 6, 6, 6, 6, 6, 6, 6, 6, 6, 6, 6, 6, 6, 6, 6, 6, 6, 6, 6, 6, 6, 6, 6, 6, 6, 6, 6, 6, 6, 6, 6, 6, 6, 6, 6, 6, 6, 6, 6, 6, 6, 6, 6, 6, 6, 6, 6, 6, 6, 6, 6, 6, 6, 6, 6, 6, 6, 6, 6, 6, 6, 6, 6, 6, 6, 6, 6, 6, 6, 6, 6, 6, 6, 6, 6, 6, 6, 6, 6, 6, 6, 6, 6, 6, 6, 6, 6, 6, 6, 6, 6, 6, 6, 6, 6, 6, 6, 6, 6, 6, 6, 6, 6, 6, 6, 6, 6, 6, 6, 6, 6, 6, 6, 6, 6, 6, 6, 6, 6, 6, 6, 6, 6, 6, 6, 6, 6, 6, 6, 6, 6, 6, 6, 6, 6, 6, 6, 6, 6, 6, 6, 6, 6, 6, 6, 6, 6, 6, 6, 6, 6, 6, 6, 6, 6, 6, 6, 6, 6, 6, 6, 6, 6, 6, 6, 6, 6, 6, 6, 6, 6, 6, 6, 6, 6, 6, 6, 6, 6, 6, 6, 6, 6, 6, 6, 6, 6, 6, 6, 6, 6, 6, 6, 6, 6, 6, 6, 6, 6, 6, 6, 6, 6, 6, 6, 6, 6, 6, 6, 6, 6, 6, 6, 6, 6, 6, 6, 6, 6, 6, 6, 6, 6, 6, 6, 6, 6, 6, 6, 6, 6, 6, 6, 6, 6, 6, 6, 6, 6, 6, 6, 6, 6, 6, 6, 6, 6, 6, 6, 6, 6, 6, 6, 6, 6, 6, 6, 6, 6, 6, 6, 6, 6, 6, 6, 6, 6, 6, 6, 6, 6, 6, 6, 6, 6, 6, 6, 6, 6, 6, 6, 6, 6, 6, 6, 6, 6, 6, 6, 6, 6, 6, 6, 6, 6, 6, 6, 6, 6, 6, 6, 6, 6, 6, 6, 6, 6, 6, 6, 6, 6, 6, 6, 6, 6, 6, 6, 6, 6, 6, 6, 6, 6, 6, 6, 6, 6, 6, 6, 6, 6, 6, 6, 6, 6, 6, 6, 6, 6, 6, 6, 6, 6, 6, 6, 6, 6, 6, 6, 6, 6, 6, 6, 6, 6, 6, 6, 6, 6, 6, 6, 6, 6, 6, 6, 6, 6, 6, 6, 6, 6, 6, 6, 6, 6, 6, 6, 6, 6, 6, 6, 6, 6, 6, 6, 6, 6, 6, 6, 6, 6, 6, 6, 6, 6, 6, 6, 6, 6, 6, 6, 6, 6, 6, 6, 6, 6, 6, 6, 6, 6, 6, 6, 6, 6, 6, 6, 6, 6, 6, 6, 6, 6, 6, 6, 6, 6, 6, 6, 6, 6, 6, 6, 6, 6, 6, 6, 6, 6, 6, 6, 6, 6, 6, 6, 6, 6, 6, 6, 6, 6, 6, 6, 6, 6, 6, 6, 6, 6, 6, 6, 6, 6, 6, 6, 6, 6, 6, 6, 6, 6, 6, 6, 6, 6, 6, 6, 6, 6, 6, 6, 6, 6, 6, 6, 6, 6, 6, 6, 6, 6, 6, 6, 6, 6, 6, 6, 6, 6, 6, 6, 6, 6, 6, 6, 6, 6, 6, 6, 6, 6, 6, 6, 6, 6, 6, 6, 6, 6, 6, 6, 6, 6, 6, 6, 6, 6, 6, 6, 6, 6, 6, 6, 6, 6, 6, 6, 6, 6, 6, 6, 6, 6, 6, 6, 6, 6, 6, 6, 6, 6, 6, 6, 6, 6, 6, 6, 6, 6, 6, 6, 6, 6, 6, 6, 6, 6, 6, 6, 6, 6, 6, 6, 6, 6, 6, 6, 6, 6, 6, 6, 6, 6, 6, 6, 6, 6, 6, 6, 6, 6, 6, 6, 6, 6, 6, 6, 6, 6, 6, 6, 6, 6, 6, 6, 6, 6, 6, 6, 6, 6, 6, 6, 6, 6, 6, 6, 6, 6, 6, 6, 6, 6, 6, 6, 6, 6, 6, 6, 6, 6, 6, 6, 6, 6, 6, 6, 6, 6, 6, 6, 6, 6, 6, 6, 6, 6, 6, 6, 6, 6, 6, 6, 6, 6, 6, 6, 6, 6, 6, 6, 6, 6, 6, 6, 6, 6, 6, 6, 6, 6, 6, 6, 6, 6, 6, 6, 6, 6, 6, 6, 6, 6, 6, 6, 6, 6, 6, 6, 6, 6, 6, 6, 6, 6, 6, 6, 6, 6, 6, 6, 6, 6, 6, 6, 6, 6, 6, 6, 6, 6, 6, 6, 6, 6, 6, 6, 6, 6, 6, 6, 6, 6, 6, 6, 6, 6, 6, 6, 6, 6, 6, 6, 6, 6, 6, 6, 6, 6, 6, 6, 6, 6, 6, 6, 6, 6, 6, 6, 6, 6, 6, 6, 6, 6, 6, 6, 6, 6, 6, 6, 6, 6, 6, 6, 6, 6, 6, 6, 6, 6, 6, 6, 6, 6, 6, 6, 6, 6, 6, 6, 6, 6, 6, 6, 6, 6, 6, 6, 6, 6, 6, 6, 6, 6, 6, 6, 6, 6, 6, 6, 6, 6, 6, 6, 6, 6, 6, 6, 6, 6, 6, 6, 6, 6, 6, 6, 6, 6, 6, 6, 6, 6, 6, 6, 6, 6, 6, 6, 6, 6, 6, 6, 6, 6, 6, 6, 6, 6, 6, 6, 6, 6, 6, 6, 6, 6, 6, 6, 6, 6, 6, 6, 6, 6, 6, 6, 6, 6, 6, 6, 6, 6, 6, 6, 6, 6, 6, 6, 6, 6, 6, 6, 6, 6, 6, 6, 6, 6, 6, 6, 6, 6, 6, 6, 6, 6, 6, 6, 6, 6, 6, 6, 6, 6, 6, 6, 6, 6, 6, 6, 6, 6, 6, 6, 6, 6, 6, 6, 6, 6, 6, 6, 6, 6, 6, 6, 6, 6, 6, 6, 6, 6, 6, 6, 6, 6, 6, 6, 6, 6, 6, 6, 6, 6, 6, 6, 6, 6, 6, 6, 6, 6, 6, 6, 6, 6, 6, 6, 6, 6, 6, 6, 6, 6, 6, 6, 6, 6, 6, 6, 6, 6, 6, 6, 6, 6, 6, 6, 6, 6, 6, 6, 6, 6, 6, 6, 6, 6, 6, 6, 6, 6, 6, 6, 6, 6, 6, 6, 6, 6, 6, 6, 6, 6, 6, 6, 6, 6, 6, 6, 6, 6, 6, 6, 6, 6, 6, 6, 6, 6, 6, 6, 6, 6, 6, 6, 6, 6, 6, 6, 6, 6, 6, 6, 6, 6, 6, 6, 6, 6, 6, 6, 6, 6, 6, 6, 6, 6, 6, 6, 6, 6, 6, 6, 6, 6, 6, 6, 6, 6, 6, 6, 6, 6, 6, 6, 6, 6, 6, 6, 6, 6, 6, 6, 6, 6, 6, 6, 6, 6, 6, 6, 6, 6, 6, 6, 6, 6, 6, 6, 6, 6, 6, 6, 6, 6, 6, 6, 6, 6, 6, 6, 6, 6, 6, 6, 6, 6, 6, 6, 6, 6, 6, 6, 6, 6, 6, 6, 6, 6, 6, 6, 6, 6, 6, 6, 6, 6, 6, 6, 6, 6, 6, 6, 6, 6, 6, 6, 6, 6, 6, 6, 6, 6, 6, 6, 6, 6, 6, 6, 6, 6, 6, 6, 6, 6, 6, 6, 6, 6, 6, 6, 6, 6, 6, 6, 6, 6, 6, 6, 6, 6, 6, 6, 6, 6, 6, 6, 6, 6, 6, 6, 6, 6, 6, 6, 6, 6, 6, 6, 6, 6, 6, 6, 6, 6, 6, 6, 6, 6, 6, 6, 6, 6, 6, 6, 6, 6, 6, 6, 6, 6, 6, 6, 6, 6, 6, 6, 6, 6, 6, 6, 6, 6, 6, 6, 6, 6, 6, 6, 6, 6, 6, 6, 6, 6, 6, 6, 6, 6, 6, 6, 6, 6, 6, 6, 6, 6, 6, 6, 6, 6, 6, 6, 6, 6, 6, 6, 6, 6, 6, 6, 6, 6, 6, 6, 6, 6, 6, 6, 6, 6, 6, 6, 6, 6, 6, 6, 6, 6, 6, 6, 6, 6, 6, 6, 6, 6, 6, 6, 6, 6, 6, 6, 6, 6, 6, 6, 6, 6, 6, 6, 6, 6, 6, 6, 6, 6, 6, 6, 6, 6, 6, 6, 6, 6, 6, 6, 6, 6, 6, 6, 6, 6, 6, 6, 6, 6, 6, 6, 6, 6, 6, 6, 6, 6, 6, 6, 6, 6, 6, 6, 6, 6, 6, 6, 6, 6, 6, 6, 6, 6, 6, 6, 6, 6, 6, 6, 6, 6, 6, 6, 6, 6, 6, 6, 6, 6, 6, 6, 6, 6, 6, 6, 6, 6, 6, 6, 6, 6, 6, 6, 6, 6, 6, 6, 6, 6, 6, 6, 6, 6, 6, 6, 6, 6, 6, 6, 6, 6, 6, 6, 6, 6, 6, 6, 6, 6, 6, 6, 6, 6, 6, 6, 6, 6, 6, 6, 6, 6, 6, 6, 6, 6, 6, 6, 6, 6, 6, 6, 6, 6, 6, 6, 6, 6, 6, 6, 6, 6, 6, 6, 6, 6, 6, 6, 6, 6, 6, 6, 6, 6, 6, 6, 6, 6, 6, 6, 6, 6, 6, 6, 6, 6, 6, 6, 6, 6, 6, 6, 6, 6, 6, 6, 6, 6, 6, 6, 6, 6, 6, 6, 6, 6, 6, 6, 6, 6, 6, 6, 6, 6, 6, 6, 6, 6, 6, 6, 6, 6, 6, 6, 6, 6, 6, 6, 6, 6, 6, 6, 6, 6, 6, 6, 6, 6, 6, 6, 6, 6, 6, 6, 6, 6, 6, 6, 6, 6, 6, 6, 6, 6, 6, 6, 6, 6, 6, 6, 6, 6, 6, 6, 6, 6, 6, 6, 6, 6, 6, 6, 6, 6, 6, 6, 6, 6, 6, 6, 6, 6, 6, 6, 6, 6, 6, 6, 6, 6, 6, 6, 6, 6, 6, 6, 6, 6, 6, 6, 6, 6, 6, 6, 6, 6, 6, 6, 6, 6, 6, 6, 6, 6, 6, 6, 6, 6, 6, 6, 6, 6, 6, 6, 6, 6, 6, 6, 6, 6, 6, 6, 6, 6, 6, 6, 6, 6, 6, 6, 6, 6, 6, 6, 6, 6, 6, 6, 6, 6, 6, 6, 6, 6, 6, 6, 6, 6, 6, 6, 6, 6, 6, 6, 6, 6, 6, 6, 6, 6, 6, 6, 6, 6, 6, 6, 6, 6, 6, 6, 6, 6, 6, 6, 6, 6, 6, 6, 6, 6, 6, 6, 6, 6, 6, 6, 6, 6, 6, 6, 6, 6, 6, 6, 6, 6, 6, 6, 6, 6, 6, 6, 6, 6, 6, 6, 6, 6, 6, 6, 6, 6, 6, 6, 6, 6, 6, 6, 6, 6, 6, 6, 6, 6, 6, 6, 6, 6, 6, 6, 6, 6, 6, 6, 6, 6, 6, 6, 6, 6, 6, 6, 6, 6, 6, 6, 6, 6, 6, 6, 6, 6, 6, 6, 6, 6, 6, 6, 6, 6, 6, 6, 6, 6, 6, 6, 6, 6, 6, 6, 6, 6, 6, 6, 6, 6, 6, 6, 6, 6, 6, 6, 6, 6, 6, 6, 6, 6, 6, 6, 6, 6, 6, 6, 6, 6, 6, 6, 6, 6, 6, 6, 6, 6, 6, 6, 6, 6, 6, 6, 6, 6, 6, 6, 6, 6, 6, 6, 6, 6, 6, 6, 6, 6, 6, 6, 6, 6, 6, 6, 6, 6, 6, 6, 6, 6, 6, 6, 6, 6, 6, 6, 6, 6, 6, 6, 6, 6, 6, 6, 6, 6, 6, 6, 6, 6, 6, 6, 6, 6, 6, 6, 6, 6, 6, 6, 6, 6, 6, 6, 6, 6, 6, 6, 6, 6, 6, 6, 6, 6, 6, 6, 6, 6, 6, 6, 6, 6, 6, 6, 6, 6, 6, 6, 6, 6, 6, 6, 6, 6, 6, 6, 6, 6, 6, 6, 6, 6, 6, 6, 6, 6, 6, 6, 6, 6, 6, 6, 6, 6, 6, 6, 6, 6, 6, 6, 6, 6, 6, 6, 6, 6, 6, 6, 6, 6, 6, 6, 6, 6, 6, 6, 6, 6, 6, 6, 6, 6, 6, 6, 6, 6, 6, 6, 6, 6, 6, 6, 6, 6, 6, 6, 6, 6, 6, 6, 6, 6, 6, 6, 6, 6, 6, 6, 6, 6, 6, 6, 6, 6, 6, 6, 6, 6, 6, 6, 6, 6, 6, 6, 6, 6, 6, 6, 6, 6, 6, 6, 6, 6, 6, 6, 6, 6, 6, 6, 6, 6, 6, 6, 6, 6, 6, 6, 6, 6, 6, 6, 6, 6, 6, 6, 6, 6, 6, 6, 6, 6, 6, 6, 6, 6, 6, 6, 6, 6, 6, 6, 6, 6, 6, 6, 6, 6, 6, 6, 6, 6, 6, 6, 6, 6, 6, 6, 6, 6, 6, 6, 6, 6, 6, 6, 6, 6, 6, 6, 6, 6, 6, 6, 6, 6, 6, 6, 6, 6, 6, 6, 6, 6, 6, 6, 6, 6, 6, 6, 6, 6, 6, 6, 6, 6, 6, 6, 6, 6, 6, 6, 6, 6, 6, 6, 6, 6, 6, 6, 6, 6, 6, 6, 6, 6, 6, 6, 6, 6, 6, 6, 6, 6, 6, 6, 6, 6, 6, 6, 6, 6, 6, 6, 6, 6, 6, 6, 6, 6, 6, 6, 6, 6, 6, 6, 6, 6, 6, 6, 6, 6, 6, 6, 6, 6, 6, 6, 6, 6, 6, 6, 6, 6, 6, 6, 6, 6, 6, 6, 6, 6, 6, 6, 6, 6, 6, 6, 6, 6, 6, 6, 6, 6, 6, 6, 6, 6, 6, 6, 6, 6, 6, 6, 6, 6, 6, 6, 6, 6, 6, 6, 6, 6, 6, 6, 6, 6, 6, 6, 6, 6, 6, 6, 6, 6, 6, 6, 6, 6, 6, 6, 6, 6, 6, 6, 6, 6, 6, 6, 6, 6, 6, 6, 6, 6, 6, 6, 6, 6, 6, 6, 6, 6, 6, 6, 6, 6, 6, 6, 6, 6, 6, 6, 6, 6, 6, 6, 6, 6, 6, 6, 6, 6, 6, 6, 6, 6, 6, 6, 6, 6, 6, 6, 6, 6, 6, 6, 6, 6, 6, 6, 6, 6, 6, 6, 6, 6, 6, 6, 6, 6, 6, 6, 6, 6, 6, 6, 6, 6, 6, 6, 6, 6, 6, 6, 6, 6, 6, 6, 6, 6, 6, 6, 6, 6, 6, 6, 6, 6, 6, 6, 6, 6, 6, 6, 6, 6, 6, 6, 6, 6, 6, 6, 6, 6, 6, 6, 6, 6, 6, 6, 6, 6, 6, 6, 6, 6, 6, 6, 6, 6, 6, 6, 6, 6, 6, 6, 6, 6, 6, 6, 6, 6, 6, 6, 6, 6, 6, 6, 6, 6, 6, 6, 6, 6, 6, 6, 6, 6, 6, 6, 6, 6, 6, 6, 6, 6, 6, 6, 6, 6, 6, 6, 6, 6, 6, 6, 6, 6, 6, 6, 6, 6, 6, 6, 6, 6, 6, 6, 6, 6, 6, 6, 6, 6, 6, 6, 6, 6, 6, 6, 6, 6, 6, 6, 6, 6, 6, 6, 6, 6, 6, 6, 6, 6, 6, 6, 6, 6, 6, 6, 6, 6, 6, 6, 6, 6, 6, 6, 6, 6, 6, 6, 6, 6, 6, 6, 6, 6, 6, 6, 6, 6, 6, 6, 6, 6, 6, 6, 6, 6, 6, 6, 6, 6, 6, 6, 6, 6, 6, 6, 6, 6, 6, 6, 6, 6, 6, 6, 6, 6, 6, 6, 6, 6, 6, 6, 6, 6, 6, 6, 6, 6, 6, 6, 6, 6, 6, 6, 6, 6, 6, 6, 6, 6, 6, 6, 6, 6, 6, 6, 6, 6, 6, 6, 6, 6, 6, 6, 6, 6, 6, 6, 6, 6, 6, 6, 6, 6, 6, 6, 6, 6, 6, 6, 6, 6, 6, 6, 6, 6, 6, 6, 6, 6, 6, 6, 6, 6, 6, 6, 6, 6, 6, 6, 6, 6, 6, 6, 6, 6, 6, 6, 6, 6, 6, 6, 6, 6, 6, 6, 6, 6, 6, 6, 6, 6, 6, 6, 6, 6, 6, 6, 6, 6, 6, 6, 6, 6, 6, 6, 6, 6, 6, 6, 6, 6, 6, 6, 6, 6, 6, 6, 6, 6, 6, 6, 6, 6, 6, 6, 6, 6, 6, 6, 6, 6, 6, 6, 6, 6, 6, 6, 6, 6, 6, 6, 6, 6, 6, 6, 6, 6, 6, 6, 6, 6, 6, 6, 6, 6, 6, 6, 6, 6, 6, 6, 6, 6, 6, 6, 6, 6, 6, 6, 6, 6, 6, 6, 6, 6, 6, 6, 6, 6, 6, 6, 6, 6, 6, 6, 6, 6, 6, 6, 6, 6, 6, 6, 6, 6, 6, 6, 6, 6, 6, 6, 6, 6, 6, 6, 6, 6, 6, 6, 6, 6, 6, 6, 6, 6, 6, 6, 6, 6, 6, 6, 6, 6, 6, 6, 6, 6, 6, 6, 6, 6, 6, 6, 6, 6, 6, 6, 6, 6, 6, 6, 6, 6, 6, 6, 6, 6, 6, 6, 6, 6, 6, 6, 6, 6, 6, 6, 6, 6, 6, 6, 6, 6, 6, 6, 6, 6, 6, 6, 6, 6, 6, 6, 6, 6, 6, 6, 6, 6, 6, 6, 6, 6, 6, 6, 6, 6, 6, 6, 6, 6, 6, 6, 6, 6, 6, 6, 6, 6, 6, 6, 6, 6, 6, 6, 6, 6, 6, 6, 6, 6, 6, 6, 6, 6, 6, 6, 6, 6, 6, 6, 6, 6, 6, 6, 6, 6, 6, 6, 6, 6, 6, 6, 6, 6, 6, 6, 6, 6, 6, 6, 6, 6, 6, 6, 6, 6, 6, 6, 6, 6, 6, 6, 6, 6, 6, 6, 6, 6, 6, 6, 6, 6, 6, 6, 6, 6, 6, 6, 6, 6, 6, 6, 6, 6, 6, 6, 6, 6, 6, 6, 6, 6, 6, 6, 6, 6, 6, 6, 6, 6, 6, 6, 6, 6, 6, 6, 6, 6, 6, 6, 6, 6, 6, 6, 6, 6, 6, 6, 6, 6, 6, 6, 6, 6, 6, 6, 6, 6, 6, 6, 6, 6, 6, 6, 6, 6, 6, 6, 6, 6, 6, 6, 6, 6, 6, 6, 6, 6, 6, 6, 6, 6, 6, 6, 6, 6, 6, 6, 6, 6, 6, 6, 6, 6, 6, 6, 6, 6, 6, 6, 6, 6, 6, 6, 6, 6, 6, 6, 6, 6, 6, 6, 6, 6, 6, 6, 6, 6, 6, 6, 6, 6, 6, 6, 6, 6, 6, 6, 6, 6, 6, 6, 6, 6, 6, 6, 6, 6, 6, 6, 6, 6, 6, 6, 6, 6, 6, 6, 6, 6, 6, 6, 6, 6, 6, 6, 6, 6, 6, 6, 6, 6, 6, 6, 6, 6, 6, 6, 6, 6, 6, 6, 6, 6, 6, 6, 6, 6, 6, 6, 6, 6, 6, 6, 6, 6, 6, 6, 6, 6, 6, 6, 6, 6, 6, 6, 6, 6, 6, 6, 6, 6, 6, 6, 6, 6, 6, 6, 6, 6, 6, 6, 6, 6, 6, 6, 6, 6, 6, 6, 6, 6, 6, 6, 6, 6, 6, 6, 6, 6, 6, 6, 6, 6, 6, 6, 6, 6, 6, 6, 6, 6, 6, 6, 6, 6, 6, 6, 6, 6, 6, 6, 6, 6, 6, 6, 6, 6, 6, 6, 6, 6, 6, 6, 6, 6, 6, 6, 6, 6, 6, 6, 6, 6, 6, 6, 6, 6, 6, 6, 6, 6, 6, 6, 6, 6, 6, 6, 6, 6, 6, 6, 6, 6, 6, 6, 6, 6, 6, 6, 6, 6, 6, 6, 6, 6, 6, 6, 6, 6, 6, 6, 6, 6, 6, 6, 6, 6, 6, 6, 6, 6, 6, 6, 6, 6, 6, 6, 6, 6, 6, 6, 6, 6, 6, 6, 6, 6, 6, 6, 6, 6, 6, 6, 6, 6, 6, 6, 6, 6, 6, 6, 6, 6, 6, 6, 6, 6, 6, 6, 6, 6, 6, 6, 6, 6, 6, 6, 6, 6, 6, 6, 6, 6, 6, 6, 6, 6, 6, 6, 6, 6, 6, 6, 6, 6, 6, 6, 6, 6, 6, 6, 6, 6, 6, 6, 6, 6, 6, 6, 6, 6, 6, 6, 6, 6, 6, 6, 6, 6, 6, 6, 6, 6, 6, 6, 6, 6, 6, 6, 6, 6, 6, 6, 6, 6, 6, 6, 6, 6, 6, 6, 6, 6, 6, 6, 6, 6, 6, 6, 6, 6, 6, 6, 6, 6, 6, 6, 6, 6, 6, 6, 6, 6, 6, 6, 6, 6, 6, 6, 6, 6, 6, 6, 6, 6, 6, 6, 6, 6, 6, 6, 6, 6, 6, 6, 6, 6, 6, 6, 6, 6, 6, 6, 6, 6, 6, 6, 6, 6, 6, 6, 6, 6, 6, 6, 6, 6, 6, 6, 6, 6, 6, 6, 6, 6, 6, 6, 6, 6, 6, 6, 6, 6, 6, 6, 6, 6, 6, 6, 6, 6, 6, 6, 6, 6, 6, 6, 6, 6, 6, 6, 6, 6, 6, 6, 6, 6, 6, 6, 6, 6, 6, 6, 6, 6, 6, 6, 6, 6, 6, 6, 6, 6, 6, 6, 6, 6, 6, 6, 6, 6, 6, 6, 6, 6, 6, 6, 6, 6, 6, 6, 6, 6, 6, 6, 6, 6, 6, 6, 6, 6, 6, 6, 6, 6, 6, 6, 6, 6, 6, 6, 6, 6, 6, 6, 6, 6, 6, 6, 6, 6, 6, 6, 6, 6, 6, 6, 6, 6, 6, 6, 6, 6, 6, 6, 6, 6, 6, 6, 6, 6, 6, 6, 6, 6, 6, 6, 6, 6, 6, 6, 6, 6, 6, 6, 6, 6, 6, 6, 6, 6, 6, 6, 6, 6, 6, 6, 6, 6, 6, 6, 6, 6, 6, 6, 6, 6, 6, 6, 6, 6, 6, 6, 6, 6, 6, 6, 6, 6, 6, 6, 6, 6, 6, 6, 6, 6, 6, 6, 6, 6, 6, 6, 6, 6, 6, 6, 6, 6, 6, 6, 6, 6, 6, 6, 6, 6, 6, 6, 6, 6, 6, 6, 6, 6, 6, 6, 6, 6, 6, 6, 6, 6, 6, 6, 6, 6, 6, 6, 6, 6, 6, 6, 6, 6, 6, 6, 6, 6, 6, 6, 6, 6, 6, 6, 6, 6, 6, 6, 6, 6, 6, 6, 6, 6, 6, 6, 6, 6, 6, 6, 6, 6, 6, 6, 6, 6, 6, 6, 6, 6, 6, 6, 6, 6, 6, 6, 6, 6, 6, 6, 6, 6, 6, 6, 6, 6, 6, 6, 6, 6, 6, 6, 6, 6, 6, 6, 6, 6, 6, 6, 6, 6, 6, 6, 6, 6, 6, 6, 6, 6, 6, 6, 6, 6, 6, 6, 6, 6, 6, 6, 6, 6, 6, 6, 6, 6, 6, 6, 6, 6, 6, 6, 6, 6, 6, 6, 6, 6, 6, 6, 6, 6, 6, 6, 6, 6, 6, 6, 6, 6, 6, 6, 6, 6, 6, 6, 6, 6, 6, 6, 6, 6, 6, 6, 6, 6, 6, 6, 6, 6, 6, 6, 6, 6, 6, 6, 6, 6, 6, 6, 6, 6, 6, 6, 6, 6, 6, 6, 6, 6, 6, 6, 6, 6, 6, 6, 6, 6, 6, 6, 6, 6, 6, 6, 6, 6, 6, 6, 6, 6, 6, 6, 6, 6, 6, 6, 6, 6, 6, 6, 6, 6, 6, 6, 6, 6, 6, 6, 6, 6, 6, 6, 6, 6, 6, 6, 6, 6, 6, 6, 6, 6, 6, 6, 6, 6, 6, 6, 6, 6, 6, 6, 6, 6, 6, 6, 6, 6, 6, 6, 6, 6, 6, 6, 6, 6, 6, 6, 6, 6, 6, 6, 6, 6, 6, 6, 6, 6, 6, 6, 6, 6, 6, 6, 6, 6, 6, 6, 6, 6, 6, 6, 6, 6, 6, 6, 6, 6, 6, 6, 6, 6, 6, 6, 6, 6, 6, 6, 6, 6, 6, 6, 6, 6, 6, 6, 6, 6, 6, 6, 6, 6, 6, 6, 6, 6, 6, 6, 6, 6, 6, 6, 6, 6, 6, 6, 6, 6, 6, 6, 6, 6, 6, 6, 6, 6, 6, 6, 6, 6, 6, 6, 6, 6, 6, 6, 6, 6, 6, 6, 6, 6, 6, 6, 6, 6, 6, 6, 6, 6, 6, 6, 6, 6, 6, 6, 6, 6, 6, 6, 6, 6, 6, 6, 6, 6, 6, 6, 6, 6, 6, 6, 6, 6, 6, 6, 6, 6, 6, 6, 6, 6, 6, 6, 6, 6, 6, 6, 6, 6, 6, 6, 6, 6, 6, 6, 6, 6, 6, 6, 6, 6, 6, 6, 6, 6, 6, 6, 6, 6, 6, 6, 6, 6, 6, 6, 6, 6, 6, 6, 6, 6, 6, 6, 6, 6, 6, 6, 6, 6, 6, 6, 6, 6, 6, 6, 6, 6, 6, 6, 6, 6, 6, 6, 6, 6, 6, 6, 6, 6, 6, 6, 6, 6, 6, 6, 6, 6, 6, 6, 6, 6, 6, 6, 6, 6, 6, 6, 6, 6, 6, 6, 6, 6, 6, 6, 6, 6, 6, 6, 6, 6, 6, 6, 6, 6, 6, 6, 6, 6, 6, 6, 6, 6, 6, 6, 6, 6, 6, 6, 6, 6, 6, 6, 6, 6, 6, 6, 6, 6, 6, 6, 6, 6, 6, 6, 6, 6, 6, 6, 6, 6, 6, 6, 6, 6, 6, 6, 6, 6, 6, 6, 6, 6, 6, 6, 6, 6, 6, 6, 6, 6, 6, 6, 6, 6, 6, 6, 6, 6, 6, 6, 6, 6, 6, 6, 6, 6, 6, 6, 6, 6, 6, 6, 6, 6, 6, 6, 6, 6, 6, 6, 6, 6, 6, 6, 6, 6, 6, 6, 6, 6, 6, 6, 6, 6, 6, 6, 6, 6, 6, 6, 6, 6, 6, 6, 6, 6, 6, 6, 6, 6, 6, 6, 6, 6, 6, 6, 6, 6, 6, 6, 6, 6, 6, 6, 6, 6, 6, 6, 6, 6, 6, 6, 6, 6, 6, 6, 6, 6, 6, 6, 6, 6, 6, 6, 6, 6, 6, 6, 6, 6, 6, 6, 6, 6, 6, 6, 6, 6, 6, 6, 6, 6, 6, 6, 6, 6, 6, 6, 6, 6, 6, 6, 6, 6, 6, 6, 6, 6, 6, 6, 6, 6, 6, 6, 6, 6, 6, 6, 6, 6, 6, 6, 6, 6, 6, 6, 6, 6, 6, 6, 6, 6, 6, 6, 6, 6, 6, 6, 6, 6, 6, 6, 6, 6, 6, 6, 6, 6, 6, 6, 6, 6, 6, 6, 6, 6, 6, 6, 6, 6, 6, 6, 6, 6, 6, 6, 6, 6, 6, 6, 6, 6, 6, 6, 6, 6, 6, 6, 6, 6, 6, 6, 6, 6, 6, 6, 6, 6, 6, 6, 6, 6, 6, 6, 6, 6, 6, 6, 6, 6, 6, 6, 6, 6, 6, 6, 6, 6, 6, 6, 6, 6, 6, 6, 6, 6, 6, 6, 6, 6, 6, 6, 6, 6, 6, 6, 6, 6, 6, 6, 6, 6, 6, 6, 6, 6, 6, 6, 6, 6, 6, 6, 6, 6, 6, 6, 6, 6, 6, 6, 6, 6, 6, 6, 6, 6, 6, 6, 6, 6, 6, 6, 6, 6, 6, 6, 6, 6, 6, 6, 6, 6, 6, 6, 6, 6, 6, 6, 6, 6, 6, 6, 6, 6, 6, 6, 6, 6, 6, 6, 6, 6, 6, 6, 6, 6, 6, 6, 6, 6, 6, 6, 6, 6, 6, 6, 6, 6, 6, 6, 6, 6, 6, 6, 6, 6, 6, 6, 6, 6, 6, 6, 6, 6, 6, 6, 6, 6, 6, 6, 6, 6, 6, 6, 6, 6, 6, 6, 6, 6, 6, 6, 6, 6, 6, 6, 6, 6, 6, 6, 6, 6, 6, 6, 6, 6, 6, 6, 6, 6, 6, 6, 6, 6, 6, 6, 6, 6, 6, 6, 6, 6, 6, 6, 6, 6, 6, 6, 6, 6, 6, 6, 6, 6, 6, 6, 6, 6, 6, 6, 6, 6, 6, 6, 6, 6, 6, 6, 6, 6, 6, 6, 6, 6, 6, 6, 6, 6, 6, 6, 6, 6, 6, 6, 6, 6, 6, 6, 6, 6, 6, 6, 6, 6, 6, 6, 6, 6, 6, 6, 6, 6, 6, 6, 6, 6, 6, 6, 6, 6, 6, 6, 6, 6, 6, 6, 6, 6, 6, 6, 6, 6, 6, 6, 6, 6, 6, 6, 6, 6, 6, 6, 6, 6, 6, 6, 6, 6, 6, 6, 6, 6, 6, 6, 6, 6, 6, 6, 6, 6, 6, 6, 6, 6, 6, 6, 6, 6, 6, 6, 6, 6, 6, 6, 6, 6, 6, 6, 6, 6, 6, 6, 6, 6, 6, 6, 6, 6, 6, 6, 6, 6, 6, 6, 6, 6, 6, 6, 6, 6, 6, 6, 6, 6, 6, 6, 6, 6, 6, 6, 6, 6, 6, 6, 6, 6, 6, 6, 6, 6, 6, 6, 6, 6, 6, 6, 6, 6, 6, 6, 6, 6, 6, 6, 6, 6, 6, 6, 6, 6, 6, 6, 6, 6, 6, 6, 6, 6, 6, 6, 6, 6, 6, 6, 6, 6, 6, 6, 6, 6, 6, 6, 6, 6, 6, 6, 6, 6, 6, 6, 6, 6, 6, 6, 6, 6, 6, 6, 6, 6, 6, 6, 6, 6, 6, 6, 6, 6, 6, 6, 6, 6, 6, 6, 6, 6, 6, 6, 6, 6, 6, 6, 6, 6, 6, 6, 6, 6, 6, 6, 6, 6, 6, 6, 6, 6, 6, 6, 6, 6, 6, 6, 6, 6, 6, 6, 6, 6, 6, 6, 6, 6, 6, 6, 6, 6, 6, 6, 6, 6, 6, 6, 6, 6, 6, 6, 6, 6, 6, 6, 6, 6, 6, 6, 6, 6, 6, 6, 6, 6, 6, 6, 6, 6, 6, 6, 6, 6, 6, 6, 6, 6, 6, 6, 6, 6, 6, 6, 6, 6, 6, 6, 6, 6, 6, 6, 6, 6, 6, 6, 6, 6, 6, 6, 6, 6, 6, 6, 6, 6, 6, 6, 6, 6, 6, 6, 6, 6, 6, 6, 6, 6, 6, 6, 6, 6, 6, 6, 6, 6, 6, 6, 6, 6, 6, 6, 6, 6, 6, 6, 6, 6, 6, 6, 6, 6, 6, 6, 6, 6, 6, 6, 6, 6, 6, 6, 6, 6, 6, 6, 6, 6, 6, 6, 6, 6, 6, 6, 6, 6, 6, 6, 6, 6, 6, 6, 6, 6, 6, 6, 6, 6, 6, 6, 6, 6, 6, 6, 6, 6, 6, 6, 6, 6, 6, 6, 6, 6, 6, 6, 6, 6, 6, 6, 6, 6, 6, 6, 6, 6, 6, 6, 6, 6, 6, 6, 6, 6, 6, 6, 6, 6, 6, 6, 6, 6, 6, 6, 6, 6, 6, 6, 6, 6, 6, 6, 6, 6, 6, 6, 6, 6, 6, 6, 6, 6, 6, 6, 6, 6, 6, 6, 6, 6, 6, 6, 6, 6, 6, 6, 6, 6, 6, 6, 6, 6, 6, 6, 6, 6, 6, 6, 6, 6, 6, 6, 6, 6, 6, 6, 6, 6, 6, 6, 6, 6, 6, 6, 6, 6, 6, 6, 6, 6, 6, 6, 6, 6, 6, 6, 6, 6, 6, 6, 6, 6, 6, 6, 6, 6, 6, 6, 6, 6, 6, 6, 6, 6, 6, 6, 6, 6, 6, 6, 6, 6, 6, 6, 6, 6, 6, 6, 6, 6, 6, 6, 6, 6, 6, 6, 6, 6, 6, 6, 6, 6, 6, 6, 6, 6, 6, 6, 6, 6, 6, 6, 6, 6, 6, 6, 6, 6, 6, 6, 6, 6, 6, 6, 6, 6, 6, 6, 6, 6, 6, 6, 6, 6, 6, 6, 6, 6, 6, 6, 6, 6, 6, 6, 6, 6, 6, 6, 6, 6, 6, 6, 6, 6, 6, 6, 6, 6, 6, 6, 6, 6, 6, 6, 6, 6, 6, 6, 6, 6, 6, 6, 6, 6, 6, 6, 6, 6, 6, 6, 6, 6, 6, 6, 6, 6, 6, 6, 6, 6, 6, 6, 6, 6, 6, 6, 6, 6, 6, 6, 6, 6, 6, 6, 6, 6, 6, 6, 6, 6, 6, 6, 6, 6, 6, 6, 6, 6, 6, 6, 6, 6, 6, 6, 6, 6, 6, 6, 6, 6, 6, 6, 6, 6, 6, 6, 6, 6, 6, 6, 6, 6, 6, 6, 6, 6, 6, 6, 6, 6, 6, 6, 6, 6, 6, 6, 6, 6, 6, 6, 6, 6, 6, 6, 6, 6, 6, 6, 6, 6, 6, 6, 6, 6, 6, 6, 6, 6, 6, 6, 6, 6, 6, 6, 6, 6, 6, 6, 6, 6, 6, 6, 6, 6, 6, 6, 6, 6, 6, 6, 6, 6, 6, 6, 6, 6, 6, 6, 6, 6, 6, 6, 6, 6, 6, 6, 6, 6, 6, 6, 6, 6, 6, 6, 6, 6, 6, 6, 6, 6, 6, 6, 6, 6, 6, 6, 6, 6, 6, 6, 6, 6, 6, 6, 6, 6, 6, 6, 6, 6, 6, 6, 6, 6, 6, 6, 6, 6, 6, 6, 6, 6, 6, 6, 6, 6, 6, 6, 6, 6, 6, 6, 6, 6, 6, 6, 6, 6, 6, 6, 6, 6, 6, 6, 6, 6, 6, 6, 6, 6, 6, 6, 6, 6, 6, 6, 6, 6, 6, 6, 6, 6, 6, 6, 6, 6, 6, 6, 6, 6, 6, 6, 6, 6, 6, 6, 6, 6, 6, 6, 6, 6, 6, 6, 6, 6, 6, 6, 6, 6, 6, 6, 6, 6, 6, 6, 6, 6, 6, 6, 6, 6, 6, 6, 6, 6, 6, 6, 6, 6, 6, 6, 6, 6, 6, 6, 6, 6, 6, 6, 6, 6, 6, 6, 6, 6, 6, 6, 6, 6, 6, 6, 6, 6, 6, 6, 6, 6, 6, 6, 6, 6, 6, 6, 6, 6, 6, 6, 6, 6, 6, 6, 6, 6, 6, 6, 6, 6, 6, 6, 6, 6, 6, 6, 6, 6, 6, 6, 6, 6, 6, 6, 6, 6, 6, 6, 6, 6, 6, 6, 6, 6, 6, 6, 6, 6, 6, 6, 6, 6, 6, 6, 6, 6, 6, 6, 6, 6, 6, 6, 6, 6, 6, 6, 6, 6, 6, 6, 6, 6, 6, 6, 6, 6, 6, 6, 6, 6, 6, 6, 6, 6, 6, 6, 6, 6, 6, 6, 6, 6, 6, 6, 6, 6, 6, 6, 6, 6, 6, 6, 6, 6, 6, 6, 6, 6, 6, 6, 6, 6, 6, 6, 6, 6, 6, 6, 6, 6, 6, 6, 6, 6, 6, 6, 6, 6, 6, 6, 6, 6, 6, 6, 6, 6, 6, 6, 6, 6, 6, 6, 6, 6, 6, 6, 6, 6, 6, 6, 6, 6, 6, 6, 6, 6, 6, 6, 6, 6, 6, 6, 6, 6, 6, 6, 6, 6, 6, 6, 6, 6, 6, 6, 6, 6, 6, 6, 6, 6, 6, 6, 6, 6, 6, 6, 6, 6, 6, 6, 6, 6, 6, 6, 6, 6, 6, 6, 6, 6, 6, 6, 6, 6, 6, 6, 6, 6, 6, 6, 6, 6, 6, 6, 6, 6, 6, 6, 6, 6, 6, 6, 6, 6, 6, 6, 6, 6, 6, 6, 6, 6, 6, 6, 6, 6, 6, 6, 6, 6, 6, 6, 6, 6, 6, 6, 6, 6, 6, 6, 6, 6, 6, 6, 6, 6, 6, 6, 6, 6, 6, 6, 6, 6, 6, 6, 6, 6, 6, 6, 6, 6, 6, 6, 6, 6, 6, 6, 6, 6, 6, 6, 6, 6, 6, 6, 6, 6, 6, 6, 6, 6, 6, 6, 6, 6, 6, 6, 6, 6, 6, 6, 6, 6, 6, 6, 6, 6, 6, 6, 6, 6, 6, 6, 6, 6, 6, 6, 6, 6, 6, 6, 6, 6, 6, 6, 6, 6, 6, 6, 6, 6, 6, 6, 6, 6, 6, 6, 6, 6, 6, 6, 6, 6, 6, 6, 6, 6, 6, 6, 6, 6, 6, 6, 6, 6, 6, 6, 6, 6, 6, 6, 6, 6, 6, 6, 6, 6, 6, 6, 6, 6, 6, 6, 6, 6, 6, 6, 6, 6, 6, 6, 6, 6, 6, 6, 6, 6, 6, 6, 6, 6, 6, 6, 6, 6, 6, 6, 6, 6, 6, 6, 6, 6, 6, 6, 6, 6, 6, 6, 6, 6, 6, 6, 6, 6, 6, 6, 6, 6, 6, 6, 6, 6, 6, 6, 6, 6, 6, 6, 6, 6, 6, 6, 6, 6, 6, 6, 6, 6, 6, 6, 6, 6, 6, 6, 6, 6, 6, 6, 6, 6, 6, 6, 6, 6, 6, 6, 6, 6, 6, 6, 6, 6, 6, 6, 6, 6, 6, 6, 6, 6, 6, 6, 6, 6, 6, 6, 6, 6, 6, 6, 6, 6, 6, 6, 6, 6, 6, 6, 6, 6, 6, 6, 6, 6, 6, 6, 6, 6, 6, 6, 6, 6, 6, 6, 6, 6, 6, 6, 6, 6, 6, 6, 6, 6, 6, 6, 6, 6, 6, 6, 6, 6, 6, 6, 6, 6, 6, 6, 6, 6, 6, 6, 6, 6, 6, 6, 6, 6, 6, 6, 6, 6, 6, 6, 6, 6, 6, 6, 6, 6, 6, 6, 6, 6, 6, 6, 6, 6, 6, 6, 6, 6, 6, 6, 6, 6, 6, 6, 6, 6, 6, 6, 6, 6, 6, 6, 6, 6, 6, 6, 6, 6, 6, 6, 6, 6, 6, 6, 6, 6, 6, 6, 6, 6, 6, 6, 6, 6, 6, 6, 6, 6, 6, 6, 6, 6, 6, 6, 6, 6, 6, 6, 6, 6, 6, 6, 6, 6, 6, 6, 6, 6, 6, 6, 6, 6, 6, 6, 6, 6, 6, 6, 6, 6, 6, 6, 6, 6, 6, 6, 6, 6, 6, 6, 6, 6, 6, 6, 6, 6, 6, 6, 6, 6, 6, 6, 6, 6, 6, 6, 6, 6, 6, 6, 6, 6, 6, 6, 6, 6, 6, 6, 6, 6, 6, 6, 6, 6, 6, 6, 6, 6, 6, 6, 6, 6, 6, 6, 6, 6, 6, 6, 6, 6, 6, 6, 6, 6, 6, 6, 6, 6, 6, 6, 6, 6, 6, 6, 6, 6, 6, 6, 6, 6, 6, 6, 6, 6, 6, 6, 6, 6, 6, 6, 6, 6, 6, 6, 6, 6, 6, 6, 6, 6, 6, 6, 6, 6, 6, 6, 6, 6, 6, 6, 6, 6, 6, 6, 6, 6, 6, 6, 6, 6, 6, 6, 6, 6, 6, 6, 6, 6, 6, 6, 6, 6, 6, 6, 6, 6, 6, 6, 6, 6, 6, 6, 6, 6, 6, 6, 6, 6, 6, 6, 6, 6, 6, 6, 6, 6, 6, 6, 6, 6, 6, 6, 6, 6, 6, 6, 6, 6, 6, 6, 6, 6, 6, 6, 6, 6, 6, 6, 6, 6, 6, 6, 6, 6, 6, 6, 6, 6, 6, 6, 6, 6, 6, 6, 6, 6, 6, 6, 6, 6, 6, 6, 6, 6, 6, 6, 6, 6, 6, 6, 6, 6, 6, 6, 6, 6, 6, 6, 6, 6, 6, 6, 6, 6, 6, 6, 6, 6, 6, 6, 6, 6, 6, 6, 6, 6, 6, 6, 6, 6, 6, 6, 6, 6, 6, 6, 6, 6, 6, 6, 6, 6, 6, 6, 6, 6, 6, 6, 6, 6, 6, 6, 6, 6, 6, 6, 6, 6, 6, 6, 6, 6, 6, 6, 6, 6, 6, 6, 6, 6, 6, 6, 6, 6, 6, 6, 6, 6, 6, 6, 6, 6, 6, 6, 6, 6, 6, 6, 6, 6, 6, 6, 6, 6, 6, 6, 6, 6, 6, 6, 6, 6, 6, 6, 6, 6, 6, 6, 6, 6, 6, 6, 6, 6, 6, 6, 6, 6, 6, 6, 6, 6, 6, 6, 6, 6, 6, 6, 6, 6, 6, 6, 6, 6, 6, 6, 6, 6, 6, 6, 6, 6, 6, 6, 6, 6, 6, 6, 6, 6, 6, 6, 6, 6, 6, 6, 6, 6, 6, 6, 6, 6, 6, 6, 6, 6, 6, 6, 6, 6, 6, 6, 6, 6, 6, 6, 6, 6, 6, 6, 6, 6, 6, 6, 6, 6, 6, 6, 6, 6, 6, 6, 6, 6, 6, 6, 6, 6, 6, 6, 6, 6, 6, 6, 6, 6, 6, 6, 6, 6, 6, 6, 6, 6, 6, 6, 6, 6, 6, 6, 6, 6, 6, 6, 6, 6, 6, 6, 6, 6, 6, 6, 6, 6, 6, 6, 6, 6, 6, 6, 6, 6, 6, 6, 6, 6, 6, 6, 6, 6, 6, 6, 6, 6, 6, 6, 6, 6, 6, 6, 6, 6, 6, 6, 6, 6, 6, 6, 6, 6, 6, 6, 6, 6, 6, 6, 6, 6, 6, 6, 6, 6, 6, 6, 6, 6, 6, 6, 6, 6, 6, 6, 6, 6, 6, 6, 6, 6, 6, 6, 6, 6, 6, 6, 6, 6, 6, 6, 6, 6, 6, 6, 6, 6, 6, 6, 6, 6, 6, 6, 6, 6, 6, 6, 6, 6, 6, 6, 6, 6, 6, 6, 6, 6, 6, 6, 6, 6, 6, 6, 6, 6, 6, 6, 6, 6, 6, 6, 6, 6, 6, 6, 6, 6, 6, 6, 6, 6, 6, 6, 6, 6, 6, 6, 6, 6, 6, 6, 6, 6, 6, 6, 6, 6, 6, 6, 6, 6, 6, 6, 6, 6, 6, 6, 6, 6, 6, 6, 6, 6, 6, 6, 6, 6, 6, 6, 6, 6, 6, 6, 6, 6, 6, 6, 6, 6, 6, 6, 6, 6, 6, 6, 6, 6, 6, 6, 6, 6, 6, 6, 6, 6, 6, 6, 6, 6, 6, 6, 6, 6, 6, 6, 6, 6, 6, 6, 6, 6, 6, 6, 6, 6, 6, 6, 6, 6, 6, 6, 6, 6, 6, 6, 6, 6, 6, 6, 6, 6, 6, 6, 6, 6, 6, 6, 6, 6, 6, 6, 6, 6, 6, 6, 6, 6, 6, 6, 6, 6, 6, 6, 6, 6, 6, 6, 6, 6, 6, 6, 6, 6, 6, 6, 6, 6, 6, 6, 6, 6, 6, 6, 6, 6, 6, 6, 6, 6, 6, 6, 6, 6, 6, 6, 6, 6, 6, 6, 6, 6, 6, 6, 6, 6, 6, 6, 6, 6, 6, 6, 6, 6, 6, 6, 6, 6, 6, 6, 6, 6, 6, 6, 6, 6, 6, 6, 6, 6, 6, 6, 6, 6, 6, 6, 6, 6, 6, 6, 6, 6, 6, 6, 6, 6, 6, 6, 6, 6, 6, 6, 6, 6, 6, 6, 6, 6, 6, 6, 6, 6, 6, 6, 6, 6, 6, 6, 6, 6, 6, 6, 6, 6, 6, 6, 6, 6, 6, 6, 6, 6, 6, 6, 6, 6, 6, 6, 6, 6, 6, 6, 6, 6, 6, 6, 6, 6, 6, 6, 6, 6, 6, 6, 6, 6, 6, 6, 6, 6, 6, 6, 6, 6, 6, 6, 6, 6, 6, 6, 6, 6, 6, 6, 6, 6, 6, 6, 6, 6, 6, 6, 6, 6, 6, 6, 6, 6, 6, 6, 6, 6, 6, 6, 6, 6, 6, 6, 6, 6, 6, 6, 6, 6, 6, 6, 6, 6, 6, 6, 6, 6, 6, 6, 6, 6, 6, 6, 6, 6, 6, 6, 6, 6, 6, 6, 6, 6, 6, 6, 6, 6, 6, 6, 6, 6, 6, 6, 6, 6, 6, 6, 6, 6, 6, 6, 6, 6, 6, 6, 6, 6, 6, 6, 6, 6, 6, 6, 6, 6, 6, 6, 6, 6, 6, 6, 6, 6, 6, 6, 6, 6, 6, 6, 6, 6, 6, 6, 6, 6, 6, 6, 6, 6, 6, 6, 6, 6, 6, 6, 6, 6, 6, 6, 6, 6, 6, 6, 6, 6, 6, 6, 6, 6, 6, 6, 6, 6, 6, 6, 6, 6, 6, 6, 6, 6, 6, 6, 6, 6, 6, 6, 6, 6, 6, 6, 6, 6, 6, 6, 6, 6, 6, 6, 6, 6, 6, 6, 6, 6, 6, 6, 6, 6, 6, 6, 6, 6, 6, 6, 6, 6, 6, 6, 6, 6, 6, 6, 6, 6, 6, 6, 6, 6, 6, 6, 6, 6, 6, 6, 6, 6, 6, 6, 6, 6, 6, 6, 6, 6, 6, 6, 6, 6, 6, 6, 6, 6, 6, 6, 6, 6, 6, 6, 6, 6, 6, 6, 6, 6, 6, 6, 6, 6, 6, 6, 6, 6, 6, 6, 6, 6, 6, 6, 6, 6, 6, 6, 6, 6, 6, 6, 6, 6, 6, 6, 6, 6, 6, 6, 6, 6, 6, 6, 6, 6, 6, 6, 6, 6, 6, 6, 6, 6, 6, 6, 6, 6, 6, 6, 6, 6, 6, 6, 6, 6, 6, 6, 6, 6, 6, 6, 6, 6, 6, 6, 6, 6, 6, 6, 6, 6, 6, 6, 6, 6, 6, 6, 6, 6, 6, 6, 6, 6, 6, 6, 6, 6, 6, 6, 6, 6, 6, 6, 6, 6, 6, 6, 6, 6, 6, 6, 6, 6, 6, 6, 6, 6, 6, 6, 6, 6, 6, 6, 6, 6, 6, 6, 6, 6, 6, 6, 6, 6, 6, 6, 6, 6, 6, 6, 6, 6, 6, 6, 6, 6, 6, 6, 6, 6, 6, 6, 6, 6, 6, 6, 6, 6, 6, 6, 6, 6, 6, 6, 6, 6, 6, 6, 6, 6, 6, 6, 6, 6, 6, 6, 6, 6, 6, 6, 6, 6, 6, 6, 6, 6, 6, 6, 6, 6, 6, 6, 6, 6, 6, 6, 6, 6, 6, 6, 6, 6, 6, 6, 6, 6, 6, 6, 6, 6, 6, 6, 6, 6, 6, 6, 6, 6, 6, 6, 6, 6, 6, 6, 6, 6, 6, 6, 6, 6, 6, 6, 6, 6, 6, 6, 6, 6, 6, 6, 6, 6, 6, 6, 6, 6, 6, 6, 6, 6, 6, 6, 6, 6, 6, 6, 6, 6, 6, 6, 6, 6, 6, 6, 6, 6, 6, 6, 6, 6, 6, 6, 6, 6, 6, 6, 6, 6, 6, 6, 6, 6, 6, 6, 6, 6, 6, 6, 6, 6, 6, 6, 6, 6, 6, 6, 6, 6, 6, 6, 6, 6, 6, 6, 6, 6, 6, 6, 6, 6, 6, 6, 6, 6, 6, 6, 6, 6, 6, 6, 6, 6, 6, 6, 6, 6, 6, 6, 6, 6, 6, 6, 6, 6, 6, 6, 6, 6, 6, 6, 6, 6, 6, 6, 6, 6, 6, 6, 6, 6, 6, 6, 6, 6, 6, 6, 6, 6, 6, 6, 6, 6, 6, 6, 6, 6, 6, 6, 6, 6, 6, 6, 6, 6, 6, 6, 6, 6, 6, 6, 6, 6, 6, 6, 6, 6, 6, 6, 6, 6, 6, 6, 6, 6, 6, 6, 6, 6, 6, 6, 6, 6, 6, 6, 6, 6, 6, 6, 6, 6, 6, 6, 6, 6, 6, 6, 6, 6, 6, 6, 6, 6, 6, 6, 6, 6, 6, 6, 6, 6, 6, 6, 6, 6, 6, 6, 6, 6, 6, 6, 6, 6, 6, 6, 6, 6, 6, 6, 6, 6, 6, 6, 6, 6, 6, 6, 6, 6, 6, 6, 6, 6, 6, 6, 6, 6, 6, 6, 6, 6, 6, 6, 6, 6, 6, 6, 6, 6, 6, 6, 6, 6, 6, 6, 6, 6, 6, 6, 6, 6, 6, 6, 6, 6, 6, 6, 6, 6, 6, 6, 6, 6, 6, 6, 6, 6, 6, 6, 6, 6, 6, 6, 6, 6, 6, 6, 6, 6, 6, 6, 6, 6, 6, 6, 6, 6, 6, 6, 6, 6, 6, 6, 6, 6, 6, 6, 6, 6, 6, 6, 6, 6, 6, 6, 6, 6, 6, 6, 6, 6, 6, 6, 6, 6, 6, 6, 6, 6, 6, 6, 6, 6, 6, 6, 6, 6, 6, 6, 6, 6, 6, 6, 6, 6, 6, 6, 6, 6, 6, 6, 6, 6, 6, 6, 6, 6, 6, 6, 6, 6, 6, 6, 6, 6, 6, 6, 6, 6, 6, 6, 6, 6, 6, 6, 6, 6, 6, 6, 6, 6, 6, 6, 6, 6, 6, 6, 6, 6, 6, 6, 6, 6, 6, 6, 6, 6, 6, 6, 6, 6, 6, 6, 6, 6, 6, 6, 6, 6, 6, 6, 6, 6, 6, 6, 6, 6, 6, 6, 6, 6, 6, 6, 6, 6, 6, 6, 6, 6, 6, 6, 6, 6, 6, 6, 6, 6, 6, 6, 6, 6, 6, 6, 6, 6, 6, 6, 6, 6, 6, 6, 6, 6, 6, 6, 6, 6, 6, 6, 6, 6, 6, 6, 6, 6, 6, 6, 6, 6, 6, 6, 6, 6, 6, 6, 6, 6, 6, 6, 6, 6, 6, 6, 6, 6, 6, 6, 6, 6, 6, 6, 6, 6, 6, 6, 6, 6, 6, 6, 6, 6, 6, 6, 6, 6, 6, 6, 6, 6, 6, 6, 6, 6, 6, 6, 6, 6, 6, 6, 6, 6, 6, 6, 6, 6, 6, 6, 6, 6, 6, 6, 6, 6, 6, 6, 6, 6, 6, 6, 6, 6, 6, 6, 6, 6, 6, 6, 6, 6, 6, 6, 6, 6, 6, 6, 6, 6, 6, 6, 6, 6, 6, 6, 6, 6, 6, 6, 6, 6, 6, 6, 6, 6, 6, 6, 6, 6, 6, 6, 6, 6, 6, 6, 6, 6, 6, 6, 6, 6, 6, 6, 6, 6, 6, 6, 6, 6, 6, 6, 6, 6, 6, 6, 6, 6, 6, 6, 6, 6, 6, 6, 6, 6, 6, 6, 6, 6, 6, 6, 6, 6, 6, 6, 6, 6, 6, 6, 6, 6, 6, 6, 6, 6, 6, 6, 6, 6, 6, 6, 6, 6, 6, 6, 6, 6, 6, 6, 6, 6, 6, 6, 6, 6, 6, 6, 6, 6, 6, 6, 6, 6, 6, 6, 6, 6, 6, 6, 6, 6, 6, 6, 6, 6, 6, 6, 6, 6, 6, 6, 6, 6, 6, 6, 6, 6, 6, 6, 6, 6, 6, 6, 6, 6, 6, 6, 6, 6, 6, 6, 6, 6, 6, 6, 6, 6, 6, 6, 6, 6, 6, 6, 6, 6, 6, 6, 6, 6, 6, 6, 6, 6, 6, 6, 6, 6, 6, 6, 6, 6, 6, 6, 6, 6, 6, 6, 6, 6, 6, 6, 6, 6, 6, 6, 6, 6, 6, 6, 6, 6, 6, 6, 6, 6, 6, 6, 6, 6, 6, 6, 6, 6, 6, 6, 6, 6, 6, 6, 6, 6, 6, 6, 6, 6, 6, 6, 6, 6, 6, 6, 6, 6, 6, 6, 6, 6, 6, 6, 6, 6, 6, 6, 6, 6, 6, 6, 6, 6, 6, 6, 6, 6, 6, 6, 6, 6, 6, 6, 6, 6, 6, 6, 6, 6, 6, 6, 6, 6, 6, 6, 6, 6, 6, 6, 6, 6, 6, 6, 6, 6, 6, 6, 6, 6, 6, 6, 6, 6, 6, 6, 6, 6, 6, 6, 6, 6, 6, 6, 6, 6, 6, 6, 6, 6, 6, 6, 6, 6, 6, 6, 6, 6, 6, 6, 6, 6, 6, 6, 6, 6, 6, 6, 6, 6, 6, 6, 6, 6, 6, 6, 6, 6, 6, 6, 6, 6, 6, 6, 6, 6, 6, 6, 6, 6, 6, 6, 6, 6, 6, 6, 6, 6, 6, 6, 6, 6, 6, 6, 6, 6, 6, 6, 6, 6, 6, 6, 6, 6, 6, 6, 6, 6, 6, 6, 6, 6, 6, 6, 6, 6, 6, 6, 6, 6, 6, 6, 6, 6, 6, 6, 6, 6, 6, 6, 6, 6, 6, 6, 6, 6, 6, 6, 6, 6, 6, 6, 6, 6, 6, 6, 6, 6, 6, 6, 6, 6, 6, 6, 6, 6, 6, 6, 6, 6, 6, 6, 6, 6, 6, 6, 6, 6, 6, 6, 6, 6, 6, 6, 6, 6, 6, 6, 6, 6, 6, 6, 6, 6, 6, 6, 6, 6, 6, 6, 6, 6, 6, 6, 6, 6, 6, 6, 6, 6, 6, 6, 6, 6, 6, 6, 6, 6, 6, 6, 6, 6, 6, 6, 6, 6, 6, 6, 6, 6, 6, 6, 6, 6, 6, 6, 6, 6, 6, 6, 6, 6, 6, 6, 6, 6, 6, 6, 6, 6, 6, 6, 6, 6, 6, 6, 6, 6, 6, 6, 6, 6, 6, 6, 6, 6, 6, 6, 6, 6, 6, 6, 6, 6, 6, 6, 6, 6, 6, 6, 6, 6, 6, 6, 6, 6, 6, 6, 6, 6, 6, 6, 6, 6, 6, 6, 6, 6, 6, 6, 6, 6, 6, 6, 6, 6, 6, 6, 6, 6, 6, 6, 6, 6, 6, 6, 6, 6, 6, 6, 6, 6, 6, 6, 6, 6, 6, 6, 6, 6, 6, 6, 6, 6, 6, 6, 6, 6, 6, 6, 6, 6, 6, 6, 6, 6, 6, 6, 6, 6, 6, 6, 6, 6, 6, 6, 6, 6, 6, 6, 6, 6, 6, 6, 6, 6, 6, 6, 6, 6, 6, 6, 6, 6, 6, 6, 6, 6, 6, 6, 6, 6, 6, 6, 6, 6, 6, 6, 6, 6, 6, 6, 6, 6, 6, 6, 6, 6, 6, 6, 6, 6, 6, 6, 6, 6, 6, 6, 6, 6, 6, 6, 6, 6, 6, 6, 6, 6, 6, 6, 6, 6, 6, 6, 6, 6, 6, 6, 6, 6, 6, 6, 6, 6, 6, 6, 6, 6, 6, 6, 6, 6, 6, 6, 6, 6, 6, 6, 6, 6, 6, 6, 6, 6, 6, 6, 6, 6, 6, 6, 6, 6, 6, 6, 6, 6, 6, 6, 6, 6, 6, 6, 6, 6, 6, 6, 6, 6, 6, 6, 6, 6, 6, 6, 6, 6, 6, 6, 6, 6, 6, 6, 6, 6, 6, 6, 6, 6, 6, 6, 6, 6, 6, 6, 6, 6, 6, 6, 6, 6, 6, 6, 6, 6, 6, 6, 6, 6, 6, 6, 6, 6, 6, 6, 6, 6, 6, 6, 6, 6, 6, 6, 6, 6, 6, 6, 6, 6, 6, 6, 6, 6, 6, 6, 6, 6, 6, 6, 6, 6, 6, 6, 6, 6, 6, 6, 6, 6, 6, 6, 6, 6, 6, 6, 6, 6, 6, 6, 6, 6, 6, 6, 6, 6, 6, 6, 6, 6, 6, 6, 6, 6, 6, 6, 6, 6, 6, 6, 6, 6, 6, 6, 6, 6, 6, 6, 6, 6, 6, 6, 6, 6, 6, 6, 6, 6, 6, 6, 6, 6, 6, 6, 6, 6, 6, 6, 6, 6, 6, 6, 6, 6, 6, 6, 6, 6, 6, 6, 6, 6, 6, 6, 6, 6, 6, 6, 6, 6, 6, 6, 6, 6, 6, 6, 6, 6, 6, 6, 6, 6, 6, 6, 6, 6, 6, 6, 6, 6, 6, 6, 6, 6, 6, 6, 6, 6, 6, 6, 6, 6, 6, 6, 6, 6, 6, 6, 6, 6, 6, 6, 6, 6, 6, 6, 6, 6, 6, 6, 6, 6, 6, 6, 6, 6, 6, 6, 6, 6, 6, 6, 6, 6, 6, 6, 6, 6, 6, 6, 6, 6, 6, 6, 6, 6, 6, 6, 6, 6, 6, 6, 6, 6, 6, 6, 6, 6, 6, 6, 6, 6, 6, 6, 6, 6, 6, 6, 6, 6, 6, 6, 6, 6, 6, 6, 6, 6, 6, 6, 6, 6, 6, 6, 6, 6, 6, 6, 6, 6, 6, 6, 6, 6, 6, 6, 6, 6, 6, 6, 6, 6, 6, 6, 6, 6, 6, 6, 6, 6, 6, 6, 6, 6, 6, 6, 6, 6, 6, 6, 6, 6, 6, 6, 6, 6, 6, 6, 6, 6, 6, 6, 6, 6, 6, 6, 6, 6, 6, 6, 6, 6, 6, 6, 6, 6, 6, 6, 6, 6, 6, 6, 6, 6, 6, 6, 6, 6, 6, 6, 6, 6, 6, 6, 6, 6, 6, 6, 6, 6, 6, 6, 6, 6, 6, 6, 6, 6, 6, 6, 6, 6, 6, 6, 6, 6, 6, 6, 6, 6, 6, 6, 6, 6, 6, 6, 6, 6, 6, 6, 6, 6, 6, 6, 6, 6, 6, 6, 6, 6, 6, 6, 6, 6, 6, 6, 6, 6, 6, 6, 6, 6, 6, 6, 6, 6, 6, 6, 6, 6, 6, 6, 6, 6, 6, 6, 6, 6, 6, 6, 6, 6, 6, 6, 6, 6, 6, 6, 6, 6, 6, 6, 6, 6, 6, 6, 6, 6, 6, 6, 6, 6, 6, 6, 6, 6, 6, 6, 6, 6, 6, 6, 6, 6, 6, 6, 6, 6, 6, 6, 6, 6, 6, 6, 6, 6, 6, 6, 6, 6, 6, 6, 6, 6, 6, 6, 6, 6, 6, 6, 6, 6, 6, 6, 6, 6, 6, 6, 6, 6, 6, 6, 6, 6, 6, 6, 6, 6, 6, 6, 6, 6, 6, 6, 6, 6, 6, 6, 6, 6, 6, 6, 6, 6, 6, 6, 6, 6, 6, 6, 6, 6, 6, 6, 6, 6, 6, 6, 6, 6, 6, 6, 6, 6, 6, 6, 6, 6, 6, 6, 6, 6, 6, 6, 6, 6, 6, 6, 6, 6, 6, 6, 6, 6, 6, 6, 6, 6, 6, 6, 6, 6, 6, 6, 6, 6, 6, 6, 6, 6, 6, 6, 6, 6, 6, 6, 6, 6, 6, 6, 6, 6, 6, 6, 6, 6, 6, 6, 6, 6, 6, 6, 6, 6, 6, 6, 6, 6, 6, 6, 6, 6, 6, 6, 6, 6, 6, 6, 6, 6, 6, 6, 6, 6, 6, 6, 6, 6, 6, 6, 6, 6, 6, 6, 6, 6, 6, 6, 6, 6, 6, 6, 6, 6, 6, 6, 6, 6, 6, 6, 6, 6, 6, 6, 6, 6, 6, 6, 6, 6, 6, 6, 6, 6, 6, 6, 6, 6, 6, 6, 6, 6, 6, 6, 6, 6, 6, 6, 6, 6, 6, 6, 6, 6, 6, 6, 6, 6, 6, 6, 6, 6, 6, 6, 6, 6, 6, 6, 6, 6, 6, 6, 6, 6, 6, 6, 6, 6, 6, 6, 6, 6, 6, 6, 6, 6, 6, 6, 6, 6, 6, 6, 6, 6, 6, 6, 6, 6, 6, 6, 6, 6, 6, 6, 6, 6, 6, 6, 6, 6, 6, 6, 6, 6, 6, 6, 6, 6, 6, 6, 6, 6, 6, 6, 6, 6, 6, 6, 6, 6, 6, 6, 6, 6, 6, 6, 6, 6, 6, 6, 6, 6, 6, 6, 6, 6, 6, 6, 6, 6, 6, 6, 6, 6, 6, 6, 6, 6, 6, 6, 6, 6, 6, 6, 6, 6, 6, 6, 6, 6, 6, 6, 6, 6, 6, 6, 6, 6, 6, 6, 6, 6, 6, 6, 6, 6, 6, 6, 6, 6, 6, 6, 6, 6, 6, 6, 6, 6, 6, 6, 6, 6, 6, 6, 6, 6, 6, 6, 6, 6, 6, 6, 6, 6, 6, 6, 6, 6, 6, 6, 6, 6, 6, 6, 6, 6, 6, 6, 6, 6, 6, 6, 6, 6, 6, 6, 6, 6, 6, 6, 6, 6, 6, 6, 6, 6, 6, 6, 6, 6, 6, 6, 6, 6, 6, 6, 6, 6, 6, 6, 6, 6, 6, 6, 6, 6, 6, 6, 6, 6, 6, 6, 6, 6, 6, 6, 6, 6, 6, 6, 6, 6, 6, 6, 6, 6, 6, 6, 6, 6, 6, 6, 6, 6, 6, 6, 6, 6, 6, 6, 6, 6, 6, 6, 6, 6, 6, 6, 6, 6, 6, 6, 6, 6, 6, 6, 6, 6, 6, 6, 6, 6, 6, 6, 6, 6, 6, 6, 6, 6, 6, 6, 6, 6, 6, 6, 6, 6, 6, 6, 6, 6, 6, 6, 6, 6, 6, 6, 6, 6, 6, 6, 6, 6, 6, 6, 6, 6, 6, 6, 6, 6, 6, 6, 6, 6, 6, 6, 6, 6, 6, 6, 6, 6, 6, 6, 6, 6, 6, 6, 6, 6, 6, 6, 6, 6, 6, 6, 6, 6, 6, 6, 6, 6, 6, 6, 6, 6, 6, 6, 6, 6, 6, 6, 6, 6, 6, 6, 6, 6, 6, 6, 6, 6, 6, 6, 6, 6, 6, 6, 6, 6, 6, 6, 6, 6, 6, 6, 6, 6, 6, 6, 6, 6, 6, 6, 6, 6, 6, 6, 6, 6, 6, 6, 6, 6, 6, 6, 6, 6, 6, 6, 6, 6, 6, 6, 6, 6, 6, 6, 6, 6, 6, 6, 6, 6, 6, 6, 6, 6, 6, 6, 6, 6, 6, 6, 6, 6, 6, 6, 6, 6, 6, 6, 6, 6, 6, 6, 6, 6, 6, 6, 6, 6, 6, 6, 6, 6, 6, 6, 6, 6, 6, 6, 6, 6, 6, 6, 6, 6, 6, 6, 6, 6, 6, 6, 6, 6, 6, 6, 6, 6, 6, 6, 6, 6, 6, 6, 6, 6, 6, 6, 6, 6, 6, 6, 6, 6, 6, 6, 6, 6, 6, 6, 6, 6, 6, 6, 6, 6, 6, 6, 6, 6, 6, 6, 6, 6, 6, 6, 6, 6, 6, 6, 6, 6, 6, 6, 6, 6, 6, 6, 6, 6, 6, 6, 6, 6, 6, 6, 6, 6, 6, 6, 6, 6, 6, 6, 6, 6, 6, 6, 6, 6, 6, 6, 6, 6, 6, 6, 6, 6, 6, 6, 6, 6, 6, 6, 6, 6, 6, 6, 6, 6, 6, 6, 6, 6, 6, 6, 6, 6, 6, 6, 6, 6, 6, 6, 6, 6, 6, 6, 6, 6, 6, 6, 6, 6, 6, 6, 6, 6, 6, 6, 6, 6, 6, 6, 6, 6, 6, 6, 6, 6, 6, 6, 6, 6, 6, 6, 6, 6, 6, 6, 6, 6, 6, 6, 6, 6, 6, 6, 6, 6, 6, 6, 6, 6, 6, 6, 6, 6, 6, 6, 6, 6, 6, 6, 6, 6, 6, 6, 6, 6, 6, 6, 6, 6, 6, 6, 6, 6, 6, 6, 6, 6, 6, 6, 6, 6, 6, 6, 6, 6, 6, 6, 6, 6, 6, 6, 6, 6, 6, 6, 6, 6, 6, 6, 6, 6, 6, 6, 6, 6, 6, 6, 6, 6, 6, 6, 6, 6, 6, 6, 6, 6, 6, 6, 6, 6, 6, 6, 6, 6, 6, 6, 6, 6, 6, 6, 6, 6, 6, 6, 6, 6, 6, 6, 6, 6, 6, 6, 6, 6, 6, 6, 6, 6, 6, 6, 6, 6, 6, 6, 6, 6, 6, 6, 6, 6, 6, 6, 6, 6, 6, 6, 6, 6, 6, 6, 6, 6, 6, 6, 6, 6, 6, 6, 6, 6, 6, 6, 6, 6, 6, 6, 6, 6, 6, 6, 6, 6, 6, 6, 6, 6, 6, 6, 6, 6, 6, 6, 6, 6, 6, 6, 6, 6, 6, 6, 6, 6, 6, 6, 6, 6, 6, 6, 6, 6, 6, 6, 6, 6, 6, 6, 6, 6, 6, 6, 6, 6, 6, 6, 6, 6, 6, 6, 6, 6, 6, 6, 6, 6, 6, 6, 6, 6, 6, 6, 6, 6, 6, 6, 6, 6, 6, 6, 6, 6, 6, 6, 6, 6, 6, 6, 6, 6, 6, 6, 6, 6, 6, 6, 6, 6, 6, 6, 6, 6, 6, 6, 6, 6, 6, 6, 6, 6, 6, 6, 6, 6, 6, 6, 6, 6, 6, 6, 6, 6, 6, 6, 6, 6, 6, 6, 6, 6, 6, 6, 6, 6, 6, 6, 6, 6, 6, 6, 6, 6, 6, 6, 6, 6, 6, 6, 6, 6, 6, 6, 6, 6, 6, 6, 6, 6, 6, 6, 6, 6, 6, 6, 6, 6, 6, 6, 6, 6, 6, 6, 6, 6, 6, 6, 6, 6, 6, 6, 6, 6, 6, 6, 6, 6, 6, 6, 6, 6, 6, 6, 6, 6, 6, 6, 6, 6, 6, 6, 6, 6, 6, 6, 6, 6, 6, 6, 6, 6, 6, 6, 6, 6, 6, 6, 6, 6, 6, 6, 6, 6, 6, 6, 6, 6, 6, 6, 6, 6, 6, 6, 6, 6, 6, 6, 6, 6, 6, 6, 6, 6, 6, 6, 6, 6, 6, 6, 6, 6, 6, 6, 6, 6, 6, 6, 6, 6, 6, 6, 6, 6, 6, 6, 6, 6, 6, 6, 6, 6, 6, 6, 6, 6, 6, 6, 6, 6, 6, 6, 6, 6, 6, 6, 6, 6, 6, 6, 6, 6, 6, 6, 6, 6, 6, 6, 6, 6, 6, 6, 6, 6, 6, 6, 6, 6, 6, 6, 6, 6, 6, 6, 6, 6, 6, 6, 6, 6, 6, 6, 6, 6, 6, 6, 6, 6, 6, 6, 6, 6, 6, 6, 6, 6, 6, 6, 6, 6, 6, 6, 6, 6, 6, 6, 6, 6, 6, 6, 6, 6, 6, 6, 6, 6, 6, 6, 6, 6, 6, 6, 6, 6, 6, 6, 6, 6, 6, 6, 6, 6, 6, 6, 6, 6, 6, 6, 6, 6, 6, 6, 6, 6, 6, 6, 6, 6, 6, 6, 6, 6, 6, 6, 6, 6, 6, 6, 6, 6, 6, 6, 6, 6, 6, 6, 6, 6, 6, 6, 6, 6, 6, 6, 6, 6, 6, 6, 6, 6, 6, 6, 6, 6, 6, 6, 6, 6, 6, 6, 6, 6, 6, 6, 6, 6, 6, 6, 6, 6, 6, 6, 6, 6, 6, 6, 6, 6, 6, 6, 6, 6, 6, 6, 6, 6, 6, 6, 6, 6, 6, 6, 6, 6, 6, 6, 6, 6, 6, 6, 6, 6, 6, 6, 6, 6, 6, 6, 6, 6, 6, 6, 6, 6, 6, 6, 6, 6, 6, 6, 6, 6, 6, 6, 6, 6, 6, 6, 6, 6, 6, 6, 6, 6, 6, 6, 6, 6, 6, 6, 6, 6, 6, 6, 6, 6, 6, 6, 6, 6, 6, 6, 6, 6, 6, 6, 6, 6, 6, 6, 6, 6, 6, 6, 6, 6, 6, 6, 6, 6, 6, 6, 6, 6, 6, 6, 6, 6, 6, 6, 6, 6, 6, 6, 6, 6, 6, 6, 6, 6, 6, 6, 6, 6, 6, 6, 6, 6, 6, 6, 6, 6, 6, 6, 6, 6, 6, 6, 6, 6, 6, 6, 6, 6, 6, 6, 6, 6, 6, 6, 6, 6, 6, 6, 6, 6, 6, 6, 6, 6, 6, 6, 6, 6, 6, 6, 6, 6, 6, 6, 6, 6, 6, 6, 6, 6, 6, 6, 6, 6, 6, 6, 6, 6, 6, 6, 6, 6, 6, 6, 6, 6, 6, 6, 6, 6, 6, 6, 6, 6, 6, 6, 6, 6, 6, 6, 6, 6, 6, 6, 6, 6, 6, 6, 6, 6, 6, 6, 6, 6, 6, 6, 6, 6, 6, 6, 6, 6, 6, 6, 6, 6, 6, 6, 6, 6, 6, 6, 6, 6, 6, 6, 6, 6, 6, 6, 6, 6, 6, 6, 6, 6, 6, 6, 6, 6, 6, 6, 6, 6, 6, 6, 6, 6, 6, 6, 6, 6, 6, 6, 6, 6, 6, 6, 6, 6, 6, 6, 6, 6, 6, 6, 6, 6, 6, 6, 6, 6, 6, 6, 6, 6, 6, 6, 6, 6, 6, 6, 6, 6, 6, 6, 6, 6, 6, 6, 6, 6, 6, 6, 6, 6, 6, 6, 6, 6, 6, 6, 6, 6, 6, 6, 6, 6, 6, 6, 6, 6, 6, 6, 6, 6, 6, 6, 6, 6, 6, 6, 6, 6, 6, 6, 6, 6, 6, 6, 6, 6, 6, 6, 6, 6, 6, 6, 6, 6, 6, 6, 6, 6, 6, 6, 6, 6, 6, 6, 6, 6, 6, 6, 6, 6, 6, 6, 6, 6, 6, 6, 6, 6, 6, 6, 6, 6, 6, 6, 6, 6, 6, 6, 6, 6, 6, 6, 6, 6, 6, 6, 6, 6, 6, 6, 6, 6, 6, 6, 6, 6, 6, 6, 6, 6, 6, 6, 6, 6, 6, 6, 6, 6, 6, 6, 6, 6, 6, 6, 6, 6, 6, 6, 6, 6, 6, 6, 6, 6, 6, 6, 6, 6, 6, 6, 6, 6, 6, 6, 6, 6, 6, 6, 6, 6, 6, 6, 6, 6, 6, 6, 6, 6, 6, 6, 6, 6, 6, 6, 6, 6, 6, 6, 6, 6, 6, 6, 6, 6, 6, 6, 6, 6, 6, 6, 6, 6, 6, 6, 6, 6, 6, 6, 6, 6, 6, 6, 6, 6, 6, 6, 6, 6, 6, 6, 6, 6, 6, 6, 6, 6, 6, 6, 6, 6, 6, 6, 6, 6, 6, 6, 6, 6, 6, 6, 6, 6, 6, 6, 6, 6, 6, 6, 6, 6, 6, 6, 6, 6, 6, 6, 6, 6, 6, 6, 6, 6, 6, 6, 6, 6, 6, 6, 6, 6, 6, 6, 6, 6, 6, 6, 6, 6, 6, 6, 6, 6, 6, 6, 6, 6, 6, 6, 6, 6, 6, 6, 6, 6, 6, 6, 6, 6, 6, 6, 6, 6, 6, 6, 6, 6, 6, 6, 6, 6, 6, 6, 6, 6, 6, 6, 6, 6, 6, 6, 6, 6, 6, 6, 6, 6, 6, 6, 6, 6, 6, 6, 6, 6, 6, 6, 6, 6, 6, 6, 6, 6, 6, 6, 6, 6, 6, 6, 6, 6, 6, 6, 6, 6, 6, 6, 6, 6, 6, 6, 6, 6, 6, 6, 6, 6, 6, 6, 6, 6, 6, 6, 6, 6, 6, 6, 6, 6, 6, 6, 6, 6, 6, 6, 6, 6, 6, 6, 6, 6, 6, 6, 6, 6, 6, 6, 6, 6, 6, 6, 6, 6, 6, 6, 6, 6, 6, 6, 6, 6, 6, 6, 6, 6, 6, 6, 6, 6, 6, 6, 6, 6, 6, 6, 6, 6, 6, 6, 6, 6, 6, 6, 6, 6, 6, 6, 6, 6, 6, 6, 6, 6, 6, 6, 6, 6, 6, 6, 6, 6, 6, 6, 6, 6, 6, 6, 6, 6, 6, 6, 6, 6, 6, 6, 6, 6, 6, 6, 6, 6, 6, 6, 6, 6, 6, 6, 6, 6, 6, 6, 6, 6, 6, 6, 6, 6, 6, 6, 6, 6, 6, 6, 6, 6, 6, 6, 6, 6, 6, 6, 6, 6, 6, 6, 6, 6, 6, 6, 6, 6, 6, 6, 6, 6, 6, 6, 6, 6, 6, 6, 6, 6, 6, 6, 6, 6, 6, 6, 6, 6, 6, 6, 6, 6, 6, 6, 6, 6, 6, 6, 6, 6, 6, 6, 6, 6, 6, 6, 6, 6, 6, 6, 6, 6, 6, 6, 6, 6, 6, 6, 6, 6, 6, 6, 6, 6, 6, 6, 6, 6, 6, 6, 6, 6, 6, 6, 6, 6, 6, 6, 6, 6, 6, 6, 6, 6, 6, 6, 6, 6, 6, 6, 6, 6, 6, 6, 6, 6, 6, 6, 6, 6, 6, 6, 6, 6, 6, 6, 6, 6, 6, 6, 6, 6, 6, 6, 6, 6, 6, 6, 6, 6, 6, 6, 6, 6, 6, 6, 6, 6, 6, 6, 6, 6, 6, 6, 6, 6, 6, 6, 6, 6, 6, 6, 6, 6, 6, 6, 6, 6, 6, 6, 6, 6, 6, 6, 6, 6, 6, 6, 6, 6, 6, 6, 6, 6, 6, 6, 6, 6, 6, 6, 6, 6, 6, 6, 6, 6, 6, 6, 6, 6, 6, 6, 6, 6, 6, 6, 6, 6, 6, 6, 6, 6, 6, 6, 6, 6, 6, 6, 6, 6, 6, 6, 6, 6, 6, 6, 6, 6, 6, 6, 6, 6, 6, 6, 6, 6, 6, 6, 6, 6, 6, 6, 6, 6, 6, 6, 6, 6, 6, 6, 6, 6, 6, 6, 6, 6, 6, 6, 6, 6, 6, 6, 6, 6, 6, 6, 6, 6, 6, 6, 6, 6, 6, 6, 6, 6, 6, 6, 6, 6, 6, 6, 6, 6, 6, 6, 6, 6, 6, 6, 6, 6, 6, 6, 6, 6, 6, 6, 6, 6, 6, 6, 6, 6, 6, 6, 6, 6, 6, 6, 6, 6, 6, 6, 6, 6, 6, 6, 6, 6, 6, 6, 6, 6, 6, 6, 6, 6, 6, 6, 6, 6, 6, 6, 6, 6, 6, 6, 6, 6, 6, 6, 6, 6, 6, 6, 6, 6, 6, 6, 6, 6, 6, 6, 6, 6, 6, 6, 6, 6, 6, 6, 6, 6, 6, 6, 6, 6, 6, 6, 6, 6, 6, 6, 6, 6, 6, 6, 6, 6, 6, 6, 6, 6, 6, 6, 6, 6, 6, 6, 6, 6, 6, 6, 6, 6, 6, 6, 6, 6, 6, 6, 6, 6, 6, 6, 6, 6, 6, 6, 6, 6, 6, 6, 6, 6, 6, 6, 6, 6, 6, 6, 6, 6, 6, 6, 6, 6, 6, 6, 6, 6, 6, 6, 6, 6, 6, 6, 6, 6, 6, 6, 6, 6, 6, 6, 6, 6, 6, 6, 6, 6, 6, 6, 6, 6, 6, 6, 6, 6, 6, 6, 6, 6, 6, 6, 6, 6, 6, 6, 6, 6, 6, 6, 6, 6, 6, 6, 6, 6, 6, 6, 6, 6, 6, 6, 6, 6, 6, 6, 6, 6, 6, 6, 6, 6, 6, 6, 6, 6, 6, 6, 6, 6, 6, 6, 6, 6, 6, 6, 6, 6, 6, 6, 6, 6, 6, 6, 6, 6, 6, 6, 6, 6, 6, 6, 6, 6, 6, 6, 6, 6, 6, 6, 6, 6, 6, 6, 6, 6, 6, 6, 6, 6, 6, 6, 6, 6, 6, 6, 6, 6, 6, 6, 6, 6, 6, 6, 6, 6, 6, 6, 6, 6, 6, 6, 6, 6, 6, 6, 6, 6, 6, 6, 6, 6, 6, 6, 6, 6, 6, 6, 6, 6, 6, 6, 6, 6, 6, 6, 6, 6, 6, 6, 6, 6, 6, 6, 6, 6, 6, 6, 6, 6, 6, 6, 6, 6, 6, 6, 6, 6, 6]\n",
    "Training took:  546.7228162288666  seconds.\n",
    "Mean of solution length:  366.7668\n",
    "Median of solution length:  6.0\n",
    "\t\t W\tB\t\n",
    "\t\t Y\tO\t\n",
    "B\tO\t O\tW\t G\tY\t Y\tR\t\n",
    "W\tW\t G\tB\t R\tR\t B\tG\t\n",
    "\t\t R\tG\t\n",
    "\t\t O\tY\t\n",
    "-------------------------------\n",
    "Move:  Initial\n",
    "\t\t W\tW\t\n",
    "\t\t Y\tB\t\n",
    "B\tO\t O\tG\t G\tY\t Y\tB\t\n",
    "W\tW\t G\tY\t R\tR\t B\tO\t\n",
    "\t\t R\tR\t\n",
    "\t\t O\tG\t\n",
    "-------------------------------\n",
    "Move:  R\n",
    "\t\t W\tW\t\n",
    "\t\t Y\tB\t\n",
    "O\tG\t G\tY\t Y\tB\t B\tO\t\n",
    "W\tW\t G\tY\t R\tR\t B\tO\t\n",
    "\t\t R\tR\t\n",
    "\t\t O\tG\t\n",
    "-------------------------------\n",
    "Move:  U\n",
    "\t\t W\tY\t\n",
    "\t\t Y\tY\t\n",
    "O\tG\t G\tR\t Y\tB\t B\tW\t\n",
    "W\tW\t G\tG\t R\tR\t B\tB\t\n",
    "\t\t R\tO\t\n",
    "\t\t O\tO\t\n",
    "-------------------------------\n",
    "Move:  R\n",
    "\t\t G\tY\t\n",
    "\t\t G\tY\t\n",
    "O\tG\t R\tR\t Y\tB\t W\tW\t\n",
    "W\tW\t O\tG\t R\tR\t Y\tB\t\n",
    "\t\t B\tO\t\n",
    "\t\t B\tO\t\n",
    "-------------------------------\n",
    "Move:  L\n",
    "\t\t G\tY\t\n",
    "\t\t G\tY\t\n",
    "W\tW\t O\tG\t R\tR\t Y\tB\t\n",
    "W\tW\t O\tG\t R\tR\t Y\tB\t\n",
    "\t\t B\tO\t\n",
    "\t\t B\tO\t\n",
    "-------------------------------\n",
    "Move:  Uprime\n",
    "\t\t G\tG\t\n",
    "\t\t G\tG\t\n",
    "W\tW\t O\tO\t R\tR\t Y\tY\t\n",
    "W\tW\t O\tO\t R\tR\t Y\tY\t\n",
    "\t\t B\tB\t\n",
    "\t\t B\tB\t\n",
    "-------------------------------\n",
    "Move:  R'''"
   ]
  },
  {
   "cell_type": "markdown",
   "metadata": {},
   "source": [
    "## Conclusions"
   ]
  },
  {
   "cell_type": "markdown",
   "metadata": {},
   "source": [
    "Reinforcement Learning seems like a perfectly valid way to solve a Rubik's cube.  There is quite a bit of tuning to be done.  On the 40 random move test, it started seeing 6 as the correct number of moves after about 2,900 repetitions.  I was training for 20000 repetitions, even reducing that to 5000 would speed it up greatly.  \n",
    "\n",
    "I would be interested in using a neural network as the Q value to see how that impacts performance because, while this works, it's a fairly slow process.  I was expecting to be able to migrate this information to create a 3x3 cube, but that didn't seem to be feasible as testing using 40 initial moves ended up taking 10 minutes per iteration.  Doing that with a 3x3 would vastly increase the time needed.  \n",
    "\n",
    "The process to change it to 3x3 would be fairly simple, however.  It would only involve changing the initial state to have three rows/columns instead of 2.  `validMoves` would actually be identical, because the accepted cube moves don't include a \"middle\" rotation, so it would still just be left, right, up, down and their primes.  Again, the possibility of adding a Front, Frontprime, Back, Backprime would greatly increase the possible Q table values greatly.\n",
    "\n",
    "`makeMove` would get a little more complicated by adding one to the width and depth.  `winner` would be identical, but it's helper function, `faceComplete` would need "
   ]
  },
  {
   "cell_type": "code",
   "execution_count": 2,
   "metadata": {},
   "outputs": [
    {
     "name": "stdout",
     "output_type": "stream",
     "text": [
      "Word count for file Edwards-Project.ipynb is 2064\n"
     ]
    }
   ],
   "source": [
    "import io\n",
    "from nbformat import current\n",
    "import glob\n",
    "nbfile = glob.glob('Edwards-Project.ipynb')\n",
    "if len(nbfile) > 1:\n",
    "    print('More than one ipynb file. Using the first one.  nbfile=', nbfile)\n",
    "with io.open(nbfile[0], 'r', encoding='utf-8') as f:\n",
    "    nb = current.read(f, 'json')\n",
    "word_count = 0\n",
    "for cell in nb.worksheets[0].cells:\n",
    "    if cell.cell_type == \"markdown\":\n",
    "        word_count += len(cell['source'].replace('#', '').lstrip().split(' '))\n",
    "print('Word count for file', nbfile[0], 'is', word_count)"
   ]
  }
 ],
 "metadata": {
  "kernelspec": {
   "display_name": "Python 3",
   "language": "python",
   "name": "python3"
  },
  "language_info": {
   "codemirror_mode": {
    "name": "ipython",
    "version": 3
   },
   "file_extension": ".py",
   "mimetype": "text/x-python",
   "name": "python",
   "nbconvert_exporter": "python",
   "pygments_lexer": "ipython3",
   "version": "3.6.3"
  }
 },
 "nbformat": 4,
 "nbformat_minor": 1
}
