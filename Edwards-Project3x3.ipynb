{
 "cells": [
  {
   "cell_type": "markdown",
   "metadata": {
    "collapsed": true
   },
   "source": [
    "# CS 440 Project on Rubik's Cube solving with Reinforcement Learning\n",
    "## 3x3 Version"
   ]
  },
  {
   "cell_type": "markdown",
   "metadata": {},
   "source": [
    "_by David Edwards, December 12, 2017_"
   ]
  },
  {
   "cell_type": "markdown",
   "metadata": {},
   "source": [
    "## Introduction"
   ]
  },
  {
   "cell_type": "markdown",
   "metadata": {},
   "source": [
    "I was fairly happy with my [2x2](Edwards-Project.ipynb) Rubik's Cube solution, but after discussing all of changes that would need to be made for the 3x3 solution, I decided to go ahead and make those changes.  Below find the code with some discussion.  So, let's do this:  <img src=\"https://edwards.cloud/wp-content/uploads/2017/12/3x3.jpg\">"
   ]
  },
  {
   "cell_type": "markdown",
   "metadata": {},
   "source": [
    "## Methods"
   ]
  },
  {
   "cell_type": "markdown",
   "metadata": {},
   "source": [
    "I needed to make changes to the following functions to get everything working with a 3x3:\n"
   ]
  },
  {
   "cell_type": "code",
   "execution_count": 1,
   "metadata": {},
   "outputs": [],
   "source": [
    "import copy as copy\n",
    "import numpy as np\n",
    "import random\n",
    "import time\n",
    "\n",
    "FRONT = 1\n",
    "LEFT = 0\n",
    "TOP = 2\n",
    "BOTTOM = 3\n",
    "RIGHT = 4\n",
    "BACK = 5\n",
    "\n",
    "def printFirstLetters3x3(pair):\n",
    "    return(\"{}\\t{}\\t{}\\t\".format(pair[0][:1],pair[1][:1],pair[2][:1]))\n",
    "\n",
    "\n",
    "def printState3x3(state):\n",
    "    '''\n",
    "    Prints a Tower of Hanoi state.  Now, with added pegs.\n",
    "    :param state: list of lists representing tower of hanoi state\n",
    "    :return: prints out the state nicely.\n",
    "    '''\n",
    "    print(\"\\t\\t\\t\", printFirstLetters3x3(state[TOP][0]))\n",
    "    print(\"\\t\\t\\t\", printFirstLetters3x3(state[TOP][1]))\n",
    "    print(\"\\t\\t\\t\", printFirstLetters3x3(state[TOP][2]))\n",
    "    print(printFirstLetters3x3(state[LEFT][0]), printFirstLetters3x3(state[FRONT][0]),printFirstLetters3x3(state[RIGHT][0]),printFirstLetters3x3(state[BACK][0]))\n",
    "    print(printFirstLetters3x3(state[LEFT][1]), printFirstLetters3x3(state[FRONT][1]),printFirstLetters3x3(state[RIGHT][1]),printFirstLetters3x3(state[BACK][1]))\n",
    "    print(printFirstLetters3x3(state[LEFT][2]), printFirstLetters3x3(state[FRONT][2]),printFirstLetters3x3(state[RIGHT][2]),printFirstLetters3x3(state[BACK][2]))\n",
    "    print(\"\\t\\t\\t\", printFirstLetters3x3(state[BOTTOM][0]))\n",
    "    print(\"\\t\\t\\t\", printFirstLetters3x3(state[BOTTOM][1]))\n",
    "    print(\"\\t\\t\\t\", printFirstLetters3x3(state[BOTTOM][2]))\n",
    "    print(\"-------------------------------\")\n",
    "    \n",
    "\n",
    "def makeMove3x3(state, move, printMoves=False):\n",
    "    '''\n",
    "    Takes a move and makes it 2x2 rubik's cube\n",
    "    :param state: list of lists representing cube\n",
    "    :param move: possible rubik's cube move\n",
    "    :return:the state after the move was made\n",
    "    '''\n",
    "\n",
    "    if move == \"U\":\n",
    "        state[LEFT][0], state[FRONT][0], state[RIGHT][0], state[BACK][0] = state[FRONT][0], state[RIGHT][0], state[BACK][0], state[LEFT][0]\n",
    "    if move == \"Uprime\":\n",
    "        state[FRONT][0], state[RIGHT][0], state[BACK][0], state[LEFT][0] = state[LEFT][0], state[FRONT][0], state[RIGHT][0], state[BACK][0]\n",
    "    if move == \"D\":\n",
    "        state[LEFT][2], state[FRONT][2], state[RIGHT][2], state[BACK][2] = state[FRONT][2], state[RIGHT][2], state[BACK][2], state[LEFT][2]\n",
    "    if move == \"Dprime\":\n",
    "        state[FRONT][2], state[RIGHT][2], state[BACK][2], state[LEFT][2] = state[LEFT][2], state[FRONT][2], state[RIGHT][2], state[BACK][2]\n",
    "    if move == \"R\":\n",
    "        state[TOP][0][2], state[TOP][1][2], state[TOP][2][2], state[FRONT][0][2], state[FRONT][1][2], state[FRONT][2][2], state[BOTTOM][0][2], state[BOTTOM][1][2], state[BOTTOM][2][2], state[BACK][0][2], state[BACK][1][2], state[BACK][2][2] = state[FRONT][0][2], state[FRONT][1][2], state[FRONT][2][2], state[BOTTOM][0][2], state[BOTTOM][1][2], state[BOTTOM][2][2], state[BACK][0][2], state[BACK][1][2], state[BACK][2][2],state[TOP][0][2], state[TOP][1][2], state[TOP][2][2]\n",
    "    if move == \"Rprime\":\n",
    "        state[FRONT][0][2], state[FRONT][1][2], state[FRONT][2][2], state[BOTTOM][0][2], state[BOTTOM][1][2], state[BOTTOM][2][2], state[BACK][0][2], state[BACK][1][2], state[BACK][2][2], state[TOP][0][2], state[TOP][1][2], state[TOP][2][2] = state[TOP][0][2], state[TOP][1][2], state[TOP][2][2], state[FRONT][0][2], state[FRONT][1][2], state[FRONT][2][2], state[BOTTOM][0][2], state[BOTTOM][1][2], state[BOTTOM][2][2], state[BACK][0][2], state[BACK][1][2], state[BACK][2][2]\n",
    "    if move == \"L\":\n",
    "        state[TOP][0][0], state[TOP][1][0], state[TOP][2][0], state[FRONT][0][0], state[FRONT][1][0], state[FRONT][2][0], state[BOTTOM][0][0], state[BOTTOM][1][0], state[BOTTOM][2][0], state[BACK][0][0], state[BACK][1][0], state[BACK][2][0] = state[FRONT][0][0], state[FRONT][1][0], state[FRONT][2][0], state[BOTTOM][0][0], state[BOTTOM][1][0], state[BOTTOM][2][0], state[BACK][0][0], state[BACK][1][0], state[BACK][2][0],state[TOP][0][0], state[TOP][1][0], state[TOP][2][0]\n",
    "    if move == \"Lprime\":\n",
    "        state[FRONT][0][0], state[FRONT][1][0], state[FRONT][2][0], state[BOTTOM][0][0], state[BOTTOM][1][0], state[BOTTOM][2][0], state[BACK][0][0], state[BACK][1][0], state[BACK][2][0], state[TOP][0][0], state[TOP][1][0], state[TOP][2][0] = state[TOP][0][0], state[TOP][1][0], state[TOP][2][0], state[FRONT][0][0], state[FRONT][1][0], state[FRONT][2][0], state[BOTTOM][0][0], state[BOTTOM][1][0], state[BOTTOM][2][0], state[BACK][0][0], state[BACK][1][0], state[BACK][2][0]\n",
    "\n",
    "    if printMoves:\n",
    "        printState3x3(state)\n",
    "\n",
    "    return state\n",
    "\n",
    "\n",
    "def winner3x3(state):\n",
    "        '''\n",
    "        Determines if a winning state occured\n",
    "        :param state: list of lists representing tower of hanoi state\n",
    "        :return: True if winning state, False otherwise.\n",
    "        '''\n",
    "\n",
    "        return faceComplete3x3(state[LEFT]) and faceComplete3x3(state[FRONT]) and faceComplete3x3(state[TOP]) and faceComplete3x3(\n",
    "            state[BOTTOM]) and faceComplete3x3(state[RIGHT]) and faceComplete3x3(state[BACK])\n",
    "\n",
    "\n",
    "def faceComplete3x3(face):\n",
    "    return (face[0][0]== face[0][1] == face[0][2] == face[1][0] == face[1][1] == face[1][2] == face[2][0] == face[2][1] == face[2][2])\n",
    "\n",
    "\n",
    "def epsilonGreedy(epsilon, Q, state, validMovesF,tupleF):\n",
    "    '''\n",
    "    Makes either a random move, or tries the move which Q indicates is the best.\n",
    "    :param epsilon: A decreasing number representing the level of randomness\n",
    "    :param Q: Dictionary of state,move - value pairs, with the higher values being better moves\n",
    "    :param state: list of lists representing tower of hanoi state\n",
    "    :param validMovesF: function returning valid moves\n",
    "    :return:\n",
    "    '''\n",
    "    goodMoves = validMovesF(state)\n",
    "    if np.random.uniform() < epsilon:\n",
    "        # Random Move\n",
    "        return random.choice(goodMoves)\n",
    "    else:\n",
    "        # Greedy Move\n",
    "        Qs = np.array([Q.get(tupleF(state,m), 0.0) for m in goodMoves])\n",
    "        return goodMoves[np.argmax(Qs)]\n",
    "    \n",
    "\n",
    "def trainQ(startState, nRepetitions, learningRate, epsilonDecayFactor, validMovesF, makeMoveF, winnerF, tupleF):\n",
    "    '''\n",
    "    Creates and fills a dictionary, Q, representing the (state,move) - value pairs which, if followed\n",
    "    should create the shortest path to the solution.\n",
    "    :param nRepetitions: how many times to iterate through.  Higher numbers would generate more accurate results\n",
    "    :param learningRate: How much to adjust the value part of the dictionary\n",
    "    :param epsilonDecayFactor: how quickly to reduce the random factor.\n",
    "    :param validMovesF: function returning valid moves of a state\n",
    "    :param makeMoveF: function making a move on a state\n",
    "    :return: the dictionary, Q, and a list containing the number of steps it took per iteration to find the goal state\n",
    "    '''\n",
    "    maxGames = nRepetitions\n",
    "    rho = learningRate\n",
    "    epsilonDecayRate = epsilonDecayFactor\n",
    "    epsilon = 1.0\n",
    "    Q = {}\n",
    "    stepList = []\n",
    "    # show the moves while debuggin\n",
    "    showMoves = False\n",
    "\n",
    "    for nGames in range(maxGames):\n",
    "        # if nGames % 10 == 0: print(\".\", end=\"\")\n",
    "        # if nGames % 100 == 0: print(\"Q length: \", len(Q))\n",
    "        # reduce the randomness every pass\n",
    "        epsilon *= epsilonDecayRate\n",
    "        step = 0\n",
    "        # hardcoded start state\n",
    "        state = startState\n",
    "        done = False\n",
    "\n",
    "        while not done:\n",
    "            #if step % 100 == 0: print(\".\", end=\"\")\n",
    "            #if step % 1000 == 0: print(\"Q length: \", len(Q))\n",
    "            step += 1\n",
    "            # grab either a random or best of the known moves\n",
    "            move = epsilonGreedy(epsilon, Q, state, validMovesF,tupleF)\n",
    "\n",
    "            # we don't want to change state directly, and because state is a list of lists, need to do a\n",
    "            # deepcopy on it, then make the move\n",
    "            stateNew = copy.deepcopy(state)\n",
    "            makeMoveF(stateNew, move)\n",
    "\n",
    "            # if we haven't encountered this state,move combo, add it to Q\n",
    "            if tupleF(state, move) not in Q:\n",
    "                Q[tupleF(state, move)] = 0.0  # Initial Q value for new state, move\n",
    "\n",
    "            # print if debugging\n",
    "            if showMoves:\n",
    "                printState3x3(stateNew)\n",
    "            if winnerF(stateNew):\n",
    "                # We won!  backfill Q\n",
    "                # print('End State, we won!')\n",
    "                Q[tupleF(state, move)] = -1.0\n",
    "                done = True\n",
    "                # we're keeping a list of the number of steps it took for each winning solution, so add it here.\n",
    "                stepList.append(step)\n",
    "\n",
    "            # update the Q which led us here using the learning factor, and the difference between the current state\n",
    "            # and the old state\n",
    "            if step > 1:\n",
    "                Q[tupleF(stateOld, moveOld)] += rho * (-1 + Q[tupleF(state, move)] - Q[tupleF(stateOld, moveOld)])\n",
    "            # Store the current state, move so we can access it for the next Q update\n",
    "            stateOld, moveOld = state, move\n",
    "            state = stateNew\n",
    "\n",
    "    return Q, stepList\n",
    "\n",
    "\n",
    "def testQ(Q, initialState, maxSteps, validMovesF, makeMoveF, winnerF, tupleF):\n",
    "    '''\n",
    "    Using the dictionary Q, and the initial state of the game, traverse and return the best path.\n",
    "    :param Q: dictionary representing the (state,move) - value pairs which, if followed should create the shortest path to the solution.\n",
    "    :param maxSteps: The number of steps to attempt before giving up.\n",
    "    :param validMovesF: function returning valid moves of a state\n",
    "    :param makeMoveF: function making a move on a state\n",
    "    :return: list containing the states from start to finish\n",
    "    '''\n",
    "    state = initialState\n",
    "\n",
    "    statePath = []\n",
    "    movePath = []\n",
    "    movePath.append(\"Initial\")\n",
    "    statePath.append(state)\n",
    "\n",
    "    for i in range(maxSteps):\n",
    "        if winnerF(state):\n",
    "            return statePath, movePath\n",
    "        goodMoves = validMovesF(state)\n",
    "        Qs = np.array([Q.get(tupleF(state, m), -1000.0) for m in goodMoves])\n",
    "        move = goodMoves[np.argmax(Qs)]\n",
    "        movePath.append(move)\n",
    "        nextState = copy.deepcopy(state)\n",
    "        makeMoveF(nextState, move)\n",
    "        statePath.append(nextState)\n",
    "        state = nextState\n",
    "\n",
    "    return \"No path found\",movePath\n",
    "\n",
    "\n",
    "def validMoves(state):\n",
    "    '''\n",
    "    Returns a list of lists representing valid rubik's cube moves from the given state.\n",
    "    Move Rotations courtesy: http://www.rubiksplace.com/move-notations/\n",
    "    :param state: list of lists representing tower of hanoi state\n",
    "    :return: list of lists representing valid tower of hanoi moves from the given state.\n",
    "    '''\n",
    "\n",
    "    validStates = [\"U\", \"Uprime\", \"D\", \"Dprime\", \"R\", \"Rprime\", \"L\", \"Lprime\"]\n",
    "\n",
    "    return validStates\n",
    "\n",
    "\n",
    "def getTuple3x3(state, move):\n",
    "    '''\n",
    "    Need immutable type for key to dictionary\n",
    "    :param state: list of lists representing tower of hanoi state\n",
    "    :return: tuple representation of the state\n",
    "    '''\n",
    "    superTuple = tuple(tuple(tuple(s[0])+tuple(s[1])+tuple(s[2])) for s in state)\n",
    "    return (superTuple, move)\n"
   ]
  },
  {
   "cell_type": "markdown",
   "metadata": {},
   "source": [
    "Basically, all of the changes involved having a 3x3 array everywhere there was formerly a 2x2.  `validMoves` didn't change, as it's generally hard for a human to just rotate the middle row or column.  Typically that's a R,L, or an U,D move.  \n",
    "\n",
    "I added a `winnerF` and `tupleF` function to the parameters for testQ and trainQ, as it was using a hard-coded winner  and getTuple function previously.  \n",
    "\n",
    "So, let's try it out!"
   ]
  },
  {
   "cell_type": "code",
   "execution_count": 2,
   "metadata": {},
   "outputs": [
    {
     "data": {
      "text/plain": [
       "[[['Red', 'Red', 'Red'], ['Red', 'Red', 'Red'], ['Red', 'Red', 'Red']],\n",
       " [['Blue', 'Blue', 'Blue'],\n",
       "  ['Blue', 'Blue', 'Blue'],\n",
       "  ['Blue', 'Blue', 'Blue']],\n",
       " [['Yellow', 'Yellow', 'Yellow'],\n",
       "  ['Yellow', 'Yellow', 'Yellow'],\n",
       "  ['Yellow', 'Yellow', 'Yellow']],\n",
       " [['Orange', 'Orange', 'Orange'],\n",
       "  ['Orange', 'Orange', 'Orange'],\n",
       "  ['Orange', 'Orange', 'Orange']],\n",
       " [['White', 'White', 'White'],\n",
       "  ['White', 'White', 'White'],\n",
       "  ['White', 'White', 'White']],\n",
       " [['Green', 'Green', 'Green'],\n",
       "  ['Green', 'Green', 'Green'],\n",
       "  ['Green', 'Green', 'Green']]]"
      ]
     },
     "execution_count": 2,
     "metadata": {},
     "output_type": "execute_result"
    }
   ],
   "source": [
    "completeState = [[[\"Red\", \"Red\", \"Red\"],[\"Red\",\"Red\", \"Red\"],[\"Red\",\"Red\", \"Red\"]],[[\"Blue\", \"Blue\",\"Blue\"],[\"Blue\", \"Blue\",\"Blue\"],[\"Blue\", \"Blue\",\"Blue\"]],[[\"Yellow\", \"Yellow\", \"Yellow\"],[\"Yellow\", \"Yellow\", \"Yellow\"],[\"Yellow\", \"Yellow\", \"Yellow\"]],[[\"Orange\", \"Orange\", \"Orange\"],[\"Orange\", \"Orange\", \"Orange\"],[\"Orange\", \"Orange\", \"Orange\"]],[[\"White\", \"White\", \"White\"],[\"White\", \"White\", \"White\"],[\"White\", \"White\", \"White\"]],[[\"Green\", \"Green\", \"Green\"],[\"Green\", \"Green\", \"Green\"],[\"Green\", \"Green\", \"Green\"]]]\n",
    "completeState"
   ]
  },
  {
   "cell_type": "markdown",
   "metadata": {},
   "source": [
    "Now, let's see how that displays:"
   ]
  },
  {
   "cell_type": "code",
   "execution_count": 3,
   "metadata": {},
   "outputs": [
    {
     "name": "stdout",
     "output_type": "stream",
     "text": [
      "\t\t\t Y\tY\tY\t\n",
      "\t\t\t Y\tY\tY\t\n",
      "\t\t\t Y\tY\tY\t\n",
      "R\tR\tR\t B\tB\tB\t W\tW\tW\t G\tG\tG\t\n",
      "R\tR\tR\t B\tB\tB\t W\tW\tW\t G\tG\tG\t\n",
      "R\tR\tR\t B\tB\tB\t W\tW\tW\t G\tG\tG\t\n",
      "\t\t\t O\tO\tO\t\n",
      "\t\t\t O\tO\tO\t\n",
      "\t\t\t O\tO\tO\t\n",
      "-------------------------------\n"
     ]
    }
   ],
   "source": [
    "printState3x3(completeState)"
   ]
  },
  {
   "cell_type": "markdown",
   "metadata": {},
   "source": [
    "Looks like a 3x3 cube to me."
   ]
  },
  {
   "cell_type": "code",
   "execution_count": 4,
   "metadata": {},
   "outputs": [
    {
     "name": "stdout",
     "output_type": "stream",
     "text": [
      "Complete State:\n",
      "\t\t\t Y\tY\tY\t\n",
      "\t\t\t Y\tY\tY\t\n",
      "\t\t\t Y\tY\tY\t\n",
      "R\tR\tR\t B\tB\tB\t W\tW\tW\t G\tG\tG\t\n",
      "R\tR\tR\t B\tB\tB\t W\tW\tW\t G\tG\tG\t\n",
      "R\tR\tR\t B\tB\tB\t W\tW\tW\t G\tG\tG\t\n",
      "\t\t\t O\tO\tO\t\n",
      "\t\t\t O\tO\tO\t\n",
      "\t\t\t O\tO\tO\t\n",
      "-------------------------------\n",
      "Left side rotation:\n",
      "\t\t\t B\tY\tY\t\n",
      "\t\t\t B\tY\tY\t\n",
      "\t\t\t B\tY\tY\t\n",
      "R\tR\tR\t O\tB\tB\t W\tW\tW\t Y\tG\tG\t\n",
      "R\tR\tR\t O\tB\tB\t W\tW\tW\t Y\tG\tG\t\n",
      "R\tR\tR\t O\tB\tB\t W\tW\tW\t Y\tG\tG\t\n",
      "\t\t\t G\tO\tO\t\n",
      "\t\t\t G\tO\tO\t\n",
      "\t\t\t G\tO\tO\t\n",
      "-------------------------------\n"
     ]
    }
   ],
   "source": [
    "completeState = [[[\"Red\", \"Red\", \"Red\"],[\"Red\",\"Red\", \"Red\"],[\"Red\",\"Red\", \"Red\"]],[[\"Blue\", \"Blue\",\"Blue\"],[\"Blue\", \"Blue\",\"Blue\"],[\"Blue\", \"Blue\",\"Blue\"]],[[\"Yellow\", \"Yellow\", \"Yellow\"],[\"Yellow\", \"Yellow\", \"Yellow\"],[\"Yellow\", \"Yellow\", \"Yellow\"]],[[\"Orange\", \"Orange\", \"Orange\"],[\"Orange\", \"Orange\", \"Orange\"],[\"Orange\", \"Orange\", \"Orange\"]],[[\"White\", \"White\", \"White\"],[\"White\", \"White\", \"White\"],[\"White\", \"White\", \"White\"]],[[\"Green\", \"Green\", \"Green\"],[\"Green\", \"Green\", \"Green\"],[\"Green\", \"Green\", \"Green\"]]]\n",
    "print(\"Complete State:\")\n",
    "printState3x3(completeState)\n",
    "print(\"Left side rotation:\")\n",
    "x = makeMove3x3(completeState, \"L\", True)"
   ]
  },
  {
   "cell_type": "markdown",
   "metadata": {},
   "source": [
    "Here you can see we moved the left side of the cube, which pivots the Blue front to the top, the Orange bottom to the front, Green back to the bottom, and Yellow top to the back.  If we do this two more times, it should be back to the start state:"
   ]
  },
  {
   "cell_type": "code",
   "execution_count": 5,
   "metadata": {},
   "outputs": [
    {
     "name": "stdout",
     "output_type": "stream",
     "text": [
      "\t\t\t O\tY\tY\t\n",
      "\t\t\t O\tY\tY\t\n",
      "\t\t\t O\tY\tY\t\n",
      "R\tR\tR\t G\tB\tB\t W\tW\tW\t B\tG\tG\t\n",
      "R\tR\tR\t G\tB\tB\t W\tW\tW\t B\tG\tG\t\n",
      "R\tR\tR\t G\tB\tB\t W\tW\tW\t B\tG\tG\t\n",
      "\t\t\t Y\tO\tO\t\n",
      "\t\t\t Y\tO\tO\t\n",
      "\t\t\t Y\tO\tO\t\n",
      "-------------------------------\n",
      "\t\t\t G\tY\tY\t\n",
      "\t\t\t G\tY\tY\t\n",
      "\t\t\t G\tY\tY\t\n",
      "R\tR\tR\t Y\tB\tB\t W\tW\tW\t O\tG\tG\t\n",
      "R\tR\tR\t Y\tB\tB\t W\tW\tW\t O\tG\tG\t\n",
      "R\tR\tR\t Y\tB\tB\t W\tW\tW\t O\tG\tG\t\n",
      "\t\t\t B\tO\tO\t\n",
      "\t\t\t B\tO\tO\t\n",
      "\t\t\t B\tO\tO\t\n",
      "-------------------------------\n",
      "\t\t\t Y\tY\tY\t\n",
      "\t\t\t Y\tY\tY\t\n",
      "\t\t\t Y\tY\tY\t\n",
      "R\tR\tR\t B\tB\tB\t W\tW\tW\t G\tG\tG\t\n",
      "R\tR\tR\t B\tB\tB\t W\tW\tW\t G\tG\tG\t\n",
      "R\tR\tR\t B\tB\tB\t W\tW\tW\t G\tG\tG\t\n",
      "\t\t\t O\tO\tO\t\n",
      "\t\t\t O\tO\tO\t\n",
      "\t\t\t O\tO\tO\t\n",
      "-------------------------------\n"
     ]
    }
   ],
   "source": [
    "for i in range(3):\n",
    "    makeMove3x3(completeState,\"L\",True)\n"
   ]
  },
  {
   "cell_type": "markdown",
   "metadata": {},
   "source": [
    "In addition, performing a move, and then it's prime should return to the original state:"
   ]
  },
  {
   "cell_type": "code",
   "execution_count": 6,
   "metadata": {},
   "outputs": [
    {
     "name": "stdout",
     "output_type": "stream",
     "text": [
      "\t\t\t Y\tY\tY\t\n",
      "\t\t\t Y\tY\tY\t\n",
      "\t\t\t Y\tY\tY\t\n",
      "R\tR\tR\t B\tB\tB\t W\tW\tW\t G\tG\tG\t\n",
      "R\tR\tR\t B\tB\tB\t W\tW\tW\t G\tG\tG\t\n",
      "R\tR\tR\t B\tB\tB\t W\tW\tW\t G\tG\tG\t\n",
      "\t\t\t O\tO\tO\t\n",
      "\t\t\t O\tO\tO\t\n",
      "\t\t\t O\tO\tO\t\n",
      "-------------------------------\n",
      "\t\t\t Y\tY\tB\t\n",
      "\t\t\t Y\tY\tB\t\n",
      "\t\t\t Y\tY\tB\t\n",
      "R\tR\tR\t B\tB\tO\t W\tW\tW\t G\tG\tY\t\n",
      "R\tR\tR\t B\tB\tO\t W\tW\tW\t G\tG\tY\t\n",
      "R\tR\tR\t B\tB\tO\t W\tW\tW\t G\tG\tY\t\n",
      "\t\t\t O\tO\tG\t\n",
      "\t\t\t O\tO\tG\t\n",
      "\t\t\t O\tO\tG\t\n",
      "-------------------------------\n",
      "\t\t\t Y\tY\tY\t\n",
      "\t\t\t Y\tY\tY\t\n",
      "\t\t\t Y\tY\tY\t\n",
      "R\tR\tR\t B\tB\tB\t W\tW\tW\t G\tG\tG\t\n",
      "R\tR\tR\t B\tB\tB\t W\tW\tW\t G\tG\tG\t\n",
      "R\tR\tR\t B\tB\tB\t W\tW\tW\t G\tG\tG\t\n",
      "\t\t\t O\tO\tO\t\n",
      "\t\t\t O\tO\tO\t\n",
      "\t\t\t O\tO\tO\t\n",
      "-------------------------------\n"
     ]
    }
   ],
   "source": [
    "completeState = [[[\"Red\", \"Red\", \"Red\"],[\"Red\",\"Red\", \"Red\"],[\"Red\",\"Red\", \"Red\"]],[[\"Blue\", \"Blue\",\"Blue\"],[\"Blue\", \"Blue\",\"Blue\"],[\"Blue\", \"Blue\",\"Blue\"]],[[\"Yellow\", \"Yellow\", \"Yellow\"],[\"Yellow\", \"Yellow\", \"Yellow\"],[\"Yellow\", \"Yellow\", \"Yellow\"]],[[\"Orange\", \"Orange\", \"Orange\"],[\"Orange\", \"Orange\", \"Orange\"],[\"Orange\", \"Orange\", \"Orange\"]],[[\"White\", \"White\", \"White\"],[\"White\", \"White\", \"White\"],[\"White\", \"White\", \"White\"]],[[\"Green\", \"Green\", \"Green\"],[\"Green\", \"Green\", \"Green\"],[\"Green\", \"Green\", \"Green\"]]]\n",
    "printState3x3(completeState)\n",
    "_ = makeMove3x3(completeState,\"R\",True)\n",
    "_ = makeMove3x3(completeState,\"Rprime\", True)"
   ]
  },
  {
   "cell_type": "markdown",
   "metadata": {},
   "source": [
    "Let's make sure the new `winner3x3` function works:"
   ]
  },
  {
   "cell_type": "code",
   "execution_count": 7,
   "metadata": {},
   "outputs": [
    {
     "name": "stdout",
     "output_type": "stream",
     "text": [
      "True\n",
      "\t\t\t Y\tY\tB\t\n",
      "\t\t\t Y\tY\tB\t\n",
      "\t\t\t Y\tY\tB\t\n",
      "R\tR\tR\t B\tB\tO\t W\tW\tW\t G\tG\tY\t\n",
      "R\tR\tR\t B\tB\tO\t W\tW\tW\t G\tG\tY\t\n",
      "R\tR\tR\t B\tB\tO\t W\tW\tW\t G\tG\tY\t\n",
      "\t\t\t O\tO\tG\t\n",
      "\t\t\t O\tO\tG\t\n",
      "\t\t\t O\tO\tG\t\n",
      "-------------------------------\n",
      "False\n",
      "\t\t\t Y\tY\tY\t\n",
      "\t\t\t Y\tY\tY\t\n",
      "\t\t\t Y\tY\tY\t\n",
      "R\tR\tR\t B\tB\tB\t W\tW\tW\t G\tG\tG\t\n",
      "R\tR\tR\t B\tB\tB\t W\tW\tW\t G\tG\tG\t\n",
      "R\tR\tR\t B\tB\tB\t W\tW\tW\t G\tG\tG\t\n",
      "\t\t\t O\tO\tO\t\n",
      "\t\t\t O\tO\tO\t\n",
      "\t\t\t O\tO\tO\t\n",
      "-------------------------------\n",
      "True\n"
     ]
    }
   ],
   "source": [
    "completeState = [[[\"Red\", \"Red\", \"Red\"],[\"Red\",\"Red\", \"Red\"],[\"Red\",\"Red\", \"Red\"]],[[\"Blue\", \"Blue\",\"Blue\"],[\"Blue\", \"Blue\",\"Blue\"],[\"Blue\", \"Blue\",\"Blue\"]],[[\"Yellow\", \"Yellow\", \"Yellow\"],[\"Yellow\", \"Yellow\", \"Yellow\"],[\"Yellow\", \"Yellow\", \"Yellow\"]],[[\"Orange\", \"Orange\", \"Orange\"],[\"Orange\", \"Orange\", \"Orange\"],[\"Orange\", \"Orange\", \"Orange\"]],[[\"White\", \"White\", \"White\"],[\"White\", \"White\", \"White\"],[\"White\", \"White\", \"White\"]],[[\"Green\", \"Green\", \"Green\"],[\"Green\", \"Green\", \"Green\"],[\"Green\", \"Green\", \"Green\"]]]\n",
    "print(winner3x3(completeState))\n",
    "makeMove3x3(completeState,'R',True)\n",
    "print(winner3x3(completeState))\n",
    "makeMove3x3(completeState,'Rprime',True)\n",
    "print(winner3x3(completeState))"
   ]
  },
  {
   "cell_type": "markdown",
   "metadata": {},
   "source": [
    "Let's see how our `getTuple3x3` works:"
   ]
  },
  {
   "cell_type": "code",
   "execution_count": 8,
   "metadata": {},
   "outputs": [
    {
     "data": {
      "text/plain": [
       "((('Red', 'Red', 'Red', 'Red', 'Red', 'Red', 'Red', 'Red', 'Red'),\n",
       "  ('Blue', 'Blue', 'Blue', 'Blue', 'Blue', 'Blue', 'Blue', 'Blue', 'Blue'),\n",
       "  ('Yellow',\n",
       "   'Yellow',\n",
       "   'Yellow',\n",
       "   'Yellow',\n",
       "   'Yellow',\n",
       "   'Yellow',\n",
       "   'Yellow',\n",
       "   'Yellow',\n",
       "   'Yellow'),\n",
       "  ('Orange',\n",
       "   'Orange',\n",
       "   'Orange',\n",
       "   'Orange',\n",
       "   'Orange',\n",
       "   'Orange',\n",
       "   'Orange',\n",
       "   'Orange',\n",
       "   'Orange'),\n",
       "  ('White',\n",
       "   'White',\n",
       "   'White',\n",
       "   'White',\n",
       "   'White',\n",
       "   'White',\n",
       "   'White',\n",
       "   'White',\n",
       "   'White'),\n",
       "  ('Green',\n",
       "   'Green',\n",
       "   'Green',\n",
       "   'Green',\n",
       "   'Green',\n",
       "   'Green',\n",
       "   'Green',\n",
       "   'Green',\n",
       "   'Green')),\n",
       " 'R')"
      ]
     },
     "execution_count": 8,
     "metadata": {},
     "output_type": "execute_result"
    }
   ],
   "source": [
    "completeState = [[[\"Red\", \"Red\", \"Red\"],[\"Red\",\"Red\", \"Red\"],[\"Red\",\"Red\", \"Red\"]],[[\"Blue\", \"Blue\",\"Blue\"],[\"Blue\", \"Blue\",\"Blue\"],[\"Blue\", \"Blue\",\"Blue\"]],[[\"Yellow\", \"Yellow\", \"Yellow\"],[\"Yellow\", \"Yellow\", \"Yellow\"],[\"Yellow\", \"Yellow\", \"Yellow\"]],[[\"Orange\", \"Orange\", \"Orange\"],[\"Orange\", \"Orange\", \"Orange\"],[\"Orange\", \"Orange\", \"Orange\"]],[[\"White\", \"White\", \"White\"],[\"White\", \"White\", \"White\"],[\"White\", \"White\", \"White\"]],[[\"Green\", \"Green\", \"Green\"],[\"Green\", \"Green\", \"Green\"],[\"Green\", \"Green\", \"Green\"]]]\n",
    "getTuple3x3(completeState,'R')"
   ]
  },
  {
   "cell_type": "markdown",
   "metadata": {},
   "source": [
    "Even uglier than before, yet still a valid Tuple.  Let's test it!"
   ]
  },
  {
   "cell_type": "markdown",
   "metadata": {},
   "source": [
    "## Results"
   ]
  },
  {
   "cell_type": "markdown",
   "metadata": {},
   "source": [
    "First, let's try just one cube rotation and one repetition.  This took a minute, and didn't finda path, but created a Q with 391,903 values in it.  I did successfully do one run with 10 repetitions that did return a valid path, but I haven't been able to replicate it."
   ]
  },
  {
   "cell_type": "code",
   "execution_count": 10,
   "metadata": {},
   "outputs": [
    {
     "name": "stdout",
     "output_type": "stream",
     "text": [
      "Move  0  was:  Dprime\n",
      "\t\t\t Y\tY\tY\t\n",
      "\t\t\t Y\tY\tY\t\n",
      "\t\t\t Y\tY\tY\t\n",
      "R\tR\tR\t B\tB\tB\t W\tW\tW\t G\tG\tG\t\n",
      "R\tR\tR\t B\tB\tB\t W\tW\tW\t G\tG\tG\t\n",
      "G\tG\tG\t R\tR\tR\t B\tB\tB\t W\tW\tW\t\n",
      "\t\t\t O\tO\tO\t\n",
      "\t\t\t O\tO\tO\t\n",
      "\t\t\t O\tO\tO\t\n",
      "-------------------------------\n",
      "[399857]\n",
      "Training took:  69.70434999465942  seconds.\n",
      "Mean of solution length:  399857.0\n",
      "Median of solution length:  399857.0\n",
      "Q length: 391903\n",
      "No path found\n"
     ]
    }
   ],
   "source": [
    "completeState = [[[\"Red\", \"Red\", \"Red\"],[\"Red\",\"Red\", \"Red\"],[\"Red\",\"Red\", \"Red\"]],[[\"Blue\", \"Blue\",\"Blue\"],[\"Blue\", \"Blue\",\"Blue\"],[\"Blue\", \"Blue\",\"Blue\"]],[[\"Yellow\", \"Yellow\", \"Yellow\"],[\"Yellow\", \"Yellow\", \"Yellow\"],[\"Yellow\", \"Yellow\", \"Yellow\"]],[[\"Orange\", \"Orange\", \"Orange\"],[\"Orange\", \"Orange\", \"Orange\"],[\"Orange\", \"Orange\", \"Orange\"]],[[\"White\", \"White\", \"White\"],[\"White\", \"White\", \"White\"],[\"White\", \"White\", \"White\"]],[[\"Green\", \"Green\", \"Green\"],[\"Green\", \"Green\", \"Green\"],[\"Green\", \"Green\", \"Green\"]]]\n",
    "newstate = completeState\n",
    "for i in range(1):\n",
    "    move = random.choice(validMoves(newstate))\n",
    "    print(\"Move \", i, \" was: \", move)\n",
    "    newstate = makeMove3x3(newstate,move)\n",
    "\n",
    "\n",
    "printState3x3(newstate)\n",
    "\n",
    "startTime = time.time()\n",
    "Q, steps = trainQ(newstate, 1, 0.5, 0.7, validMoves, makeMove3x3, winner3x3, getTuple3x3)\n",
    "endTime = time.time()\n",
    "print(steps)\n",
    "path, moveList = testQ(Q, newstate, 20000, validMoves, makeMove3x3, winner3x3, getTuple3x3)\n",
    "\n",
    "print(\"Training took: \", endTime-startTime, \" seconds.\")\n",
    "print(\"Mean of solution length: \", np.mean(steps))\n",
    "print(\"Median of solution length: \", np.median(steps))\n",
    "print(\"Q length:\", len(Q))\n",
    "if path == \"No path found\":\n",
    "    print(path)\n",
    "else:\n",
    "    for i in range(len(path)):\n",
    "        printState3x3(path[i])\n",
    "        print(\"Move: \", moveList[i])\n"
   ]
  },
  {
   "cell_type": "markdown",
   "metadata": {},
   "source": [
    "The time to complete takes a rapdily increasing amount of time. "
   ]
  },
  {
   "cell_type": "code",
   "execution_count": 2,
   "metadata": {},
   "outputs": [
    {
     "name": "stdout",
     "output_type": "stream",
     "text": [
      "Move  0  was:  R\n",
      "\t\t\t Y\tY\tB\t\n",
      "\t\t\t Y\tY\tB\t\n",
      "\t\t\t Y\tY\tB\t\n",
      "R\tR\tR\t B\tB\tO\t W\tW\tW\t G\tG\tY\t\n",
      "R\tR\tR\t B\tB\tO\t W\tW\tW\t G\tG\tY\t\n",
      "R\tR\tR\t B\tB\tO\t W\tW\tW\t G\tG\tY\t\n",
      "\t\t\t O\tO\tG\t\n",
      "\t\t\t O\tO\tG\t\n",
      "\t\t\t O\tO\tG\t\n",
      "-------------------------------\n"
     ]
    },
    {
     "ename": "KeyboardInterrupt",
     "evalue": "",
     "output_type": "error",
     "traceback": [
      "\u001b[0;31m---------------------------------------------------------------------------\u001b[0m",
      "\u001b[0;31mKeyboardInterrupt\u001b[0m                         Traceback (most recent call last)",
      "\u001b[0;32m<ipython-input-2-7854cafecc68>\u001b[0m in \u001b[0;36m<module>\u001b[0;34m()\u001b[0m\n\u001b[1;32m     10\u001b[0m \u001b[0;34m\u001b[0m\u001b[0m\n\u001b[1;32m     11\u001b[0m \u001b[0mstartTime\u001b[0m \u001b[0;34m=\u001b[0m \u001b[0mtime\u001b[0m\u001b[0;34m.\u001b[0m\u001b[0mtime\u001b[0m\u001b[0;34m(\u001b[0m\u001b[0;34m)\u001b[0m\u001b[0;34m\u001b[0m\u001b[0m\n\u001b[0;32m---> 12\u001b[0;31m \u001b[0mQ\u001b[0m\u001b[0;34m,\u001b[0m \u001b[0msteps\u001b[0m \u001b[0;34m=\u001b[0m \u001b[0mtrainQ\u001b[0m\u001b[0;34m(\u001b[0m\u001b[0mnewstate\u001b[0m\u001b[0;34m,\u001b[0m \u001b[0;36m5\u001b[0m\u001b[0;34m,\u001b[0m \u001b[0;36m0.5\u001b[0m\u001b[0;34m,\u001b[0m \u001b[0;36m0.7\u001b[0m\u001b[0;34m,\u001b[0m \u001b[0mvalidMoves\u001b[0m\u001b[0;34m,\u001b[0m \u001b[0mmakeMove3x3\u001b[0m\u001b[0;34m,\u001b[0m \u001b[0mwinner3x3\u001b[0m\u001b[0;34m,\u001b[0m \u001b[0mgetTuple3x3\u001b[0m\u001b[0;34m)\u001b[0m\u001b[0;34m\u001b[0m\u001b[0m\n\u001b[0m\u001b[1;32m     13\u001b[0m \u001b[0mendTime\u001b[0m \u001b[0;34m=\u001b[0m \u001b[0mtime\u001b[0m\u001b[0;34m.\u001b[0m\u001b[0mtime\u001b[0m\u001b[0;34m(\u001b[0m\u001b[0;34m)\u001b[0m\u001b[0;34m\u001b[0m\u001b[0m\n\u001b[1;32m     14\u001b[0m \u001b[0mprint\u001b[0m\u001b[0;34m(\u001b[0m\u001b[0msteps\u001b[0m\u001b[0;34m)\u001b[0m\u001b[0;34m\u001b[0m\u001b[0m\n",
      "\u001b[0;32m<ipython-input-1-f53e96b13b17>\u001b[0m in \u001b[0;36mtrainQ\u001b[0;34m(startState, nRepetitions, learningRate, epsilonDecayFactor, validMovesF, makeMoveF, winnerF, tupleF)\u001b[0m\n\u001b[1;32m    142\u001b[0m             \u001b[0;31m# if we haven't encountered this state,move combo, add it to Q\u001b[0m\u001b[0;34m\u001b[0m\u001b[0;34m\u001b[0m\u001b[0m\n\u001b[1;32m    143\u001b[0m             \u001b[0;32mif\u001b[0m \u001b[0mtupleF\u001b[0m\u001b[0;34m(\u001b[0m\u001b[0mstate\u001b[0m\u001b[0;34m,\u001b[0m \u001b[0mmove\u001b[0m\u001b[0;34m)\u001b[0m \u001b[0;32mnot\u001b[0m \u001b[0;32min\u001b[0m \u001b[0mQ\u001b[0m\u001b[0;34m:\u001b[0m\u001b[0;34m\u001b[0m\u001b[0m\n\u001b[0;32m--> 144\u001b[0;31m                 \u001b[0mQ\u001b[0m\u001b[0;34m[\u001b[0m\u001b[0mtupleF\u001b[0m\u001b[0;34m(\u001b[0m\u001b[0mstate\u001b[0m\u001b[0;34m,\u001b[0m \u001b[0mmove\u001b[0m\u001b[0;34m)\u001b[0m\u001b[0;34m]\u001b[0m \u001b[0;34m=\u001b[0m \u001b[0;36m0.0\u001b[0m  \u001b[0;31m# Initial Q value for new state, move\u001b[0m\u001b[0;34m\u001b[0m\u001b[0m\n\u001b[0m\u001b[1;32m    145\u001b[0m \u001b[0;34m\u001b[0m\u001b[0m\n\u001b[1;32m    146\u001b[0m             \u001b[0;31m# print if debugging\u001b[0m\u001b[0;34m\u001b[0m\u001b[0;34m\u001b[0m\u001b[0m\n",
      "\u001b[0;32m<ipython-input-1-f53e96b13b17>\u001b[0m in \u001b[0;36mgetTuple3x3\u001b[0;34m(state, move)\u001b[0m\n\u001b[1;32m    216\u001b[0m     \u001b[0;34m:\u001b[0m\u001b[0;32mreturn\u001b[0m\u001b[0;34m:\u001b[0m \u001b[0mtuple\u001b[0m \u001b[0mrepresentation\u001b[0m \u001b[0mof\u001b[0m \u001b[0mthe\u001b[0m \u001b[0mstate\u001b[0m\u001b[0;34m\u001b[0m\u001b[0m\n\u001b[1;32m    217\u001b[0m     '''\n\u001b[0;32m--> 218\u001b[0;31m     \u001b[0msuperTuple\u001b[0m \u001b[0;34m=\u001b[0m \u001b[0mtuple\u001b[0m\u001b[0;34m(\u001b[0m\u001b[0mtuple\u001b[0m\u001b[0;34m(\u001b[0m\u001b[0mtuple\u001b[0m\u001b[0;34m(\u001b[0m\u001b[0ms\u001b[0m\u001b[0;34m[\u001b[0m\u001b[0;36m0\u001b[0m\u001b[0;34m]\u001b[0m\u001b[0;34m)\u001b[0m\u001b[0;34m+\u001b[0m\u001b[0mtuple\u001b[0m\u001b[0;34m(\u001b[0m\u001b[0ms\u001b[0m\u001b[0;34m[\u001b[0m\u001b[0;36m1\u001b[0m\u001b[0;34m]\u001b[0m\u001b[0;34m)\u001b[0m\u001b[0;34m+\u001b[0m\u001b[0mtuple\u001b[0m\u001b[0;34m(\u001b[0m\u001b[0ms\u001b[0m\u001b[0;34m[\u001b[0m\u001b[0;36m2\u001b[0m\u001b[0;34m]\u001b[0m\u001b[0;34m)\u001b[0m\u001b[0;34m)\u001b[0m \u001b[0;32mfor\u001b[0m \u001b[0ms\u001b[0m \u001b[0;32min\u001b[0m \u001b[0mstate\u001b[0m\u001b[0;34m)\u001b[0m\u001b[0;34m\u001b[0m\u001b[0m\n\u001b[0m\u001b[1;32m    219\u001b[0m     \u001b[0;32mreturn\u001b[0m \u001b[0;34m(\u001b[0m\u001b[0msuperTuple\u001b[0m\u001b[0;34m,\u001b[0m \u001b[0mmove\u001b[0m\u001b[0;34m)\u001b[0m\u001b[0;34m\u001b[0m\u001b[0m\n",
      "\u001b[0;32m<ipython-input-1-f53e96b13b17>\u001b[0m in \u001b[0;36m<genexpr>\u001b[0;34m(.0)\u001b[0m\n\u001b[1;32m    216\u001b[0m     \u001b[0;34m:\u001b[0m\u001b[0;32mreturn\u001b[0m\u001b[0;34m:\u001b[0m \u001b[0mtuple\u001b[0m \u001b[0mrepresentation\u001b[0m \u001b[0mof\u001b[0m \u001b[0mthe\u001b[0m \u001b[0mstate\u001b[0m\u001b[0;34m\u001b[0m\u001b[0m\n\u001b[1;32m    217\u001b[0m     '''\n\u001b[0;32m--> 218\u001b[0;31m     \u001b[0msuperTuple\u001b[0m \u001b[0;34m=\u001b[0m \u001b[0mtuple\u001b[0m\u001b[0;34m(\u001b[0m\u001b[0mtuple\u001b[0m\u001b[0;34m(\u001b[0m\u001b[0mtuple\u001b[0m\u001b[0;34m(\u001b[0m\u001b[0ms\u001b[0m\u001b[0;34m[\u001b[0m\u001b[0;36m0\u001b[0m\u001b[0;34m]\u001b[0m\u001b[0;34m)\u001b[0m\u001b[0;34m+\u001b[0m\u001b[0mtuple\u001b[0m\u001b[0;34m(\u001b[0m\u001b[0ms\u001b[0m\u001b[0;34m[\u001b[0m\u001b[0;36m1\u001b[0m\u001b[0;34m]\u001b[0m\u001b[0;34m)\u001b[0m\u001b[0;34m+\u001b[0m\u001b[0mtuple\u001b[0m\u001b[0;34m(\u001b[0m\u001b[0ms\u001b[0m\u001b[0;34m[\u001b[0m\u001b[0;36m2\u001b[0m\u001b[0;34m]\u001b[0m\u001b[0;34m)\u001b[0m\u001b[0;34m)\u001b[0m \u001b[0;32mfor\u001b[0m \u001b[0ms\u001b[0m \u001b[0;32min\u001b[0m \u001b[0mstate\u001b[0m\u001b[0;34m)\u001b[0m\u001b[0;34m\u001b[0m\u001b[0m\n\u001b[0m\u001b[1;32m    219\u001b[0m     \u001b[0;32mreturn\u001b[0m \u001b[0;34m(\u001b[0m\u001b[0msuperTuple\u001b[0m\u001b[0;34m,\u001b[0m \u001b[0mmove\u001b[0m\u001b[0;34m)\u001b[0m\u001b[0;34m\u001b[0m\u001b[0m\n",
      "\u001b[0;31mKeyboardInterrupt\u001b[0m: "
     ]
    }
   ],
   "source": [
    "completeState = [[[\"Red\", \"Red\", \"Red\"],[\"Red\",\"Red\", \"Red\"],[\"Red\",\"Red\", \"Red\"]],[[\"Blue\", \"Blue\",\"Blue\"],[\"Blue\", \"Blue\",\"Blue\"],[\"Blue\", \"Blue\",\"Blue\"]],[[\"Yellow\", \"Yellow\", \"Yellow\"],[\"Yellow\", \"Yellow\", \"Yellow\"],[\"Yellow\", \"Yellow\", \"Yellow\"]],[[\"Orange\", \"Orange\", \"Orange\"],[\"Orange\", \"Orange\", \"Orange\"],[\"Orange\", \"Orange\", \"Orange\"]],[[\"White\", \"White\", \"White\"],[\"White\", \"White\", \"White\"],[\"White\", \"White\", \"White\"]],[[\"Green\", \"Green\", \"Green\"],[\"Green\", \"Green\", \"Green\"],[\"Green\", \"Green\", \"Green\"]]]\n",
    "newstate = completeState\n",
    "for i in range(1):\n",
    "    move = random.choice(validMoves(newstate))\n",
    "    print(\"Move \", i, \" was: \", move)\n",
    "    newstate = makeMove3x3(newstate,move)\n",
    "\n",
    "\n",
    "printState3x3(newstate)\n",
    "\n",
    "startTime = time.time()\n",
    "Q, steps = trainQ(newstate, 5, 0.5, 0.7, validMoves, makeMove3x3, winner3x3, getTuple3x3)\n",
    "endTime = time.time()\n",
    "print(steps)\n",
    "path, moveList = testQ(Q, newstate, 20000, validMoves, makeMove3x3, winner3x3, getTuple3x3)\n",
    "\n",
    "print(\"Training took: \", endTime-startTime, \" seconds.\")\n",
    "print(\"Mean of solution length: \", np.mean(steps))\n",
    "print(\"Median of solution length: \", np.median(steps))\n",
    "print(\"Q length:\", len(Q))\n",
    "if path == \"No path found\":\n",
    "    print(path)\n",
    "else:\n",
    "    for i in range(len(path)):\n",
    "        printState3x3(path[i])\n",
    "        print(\"Move: \", moveList[i])"
   ]
  },
  {
   "cell_type": "markdown",
   "metadata": {},
   "source": [
    "This took over an hour and didn't complete.  "
   ]
  },
  {
   "cell_type": "markdown",
   "metadata": {},
   "source": [
    "## Conclusions"
   ]
  },
  {
   "cell_type": "markdown",
   "metadata": {},
   "source": [
    "Reinforcement Learning doesn't seem to be an effective method for a 3x3 Rubik's Cube.  As I described in the proposal, there are [43 quintillion](http://b.chrishunt.co/how-many-positions-on-a-rubiks-cube) positions for a 3x3 cube.  Multiply that by 8 different moves, results in 344 quintillion possible entries in Q.  This would result in too many states to reside in memory, and also probably too much to reside on a consumer level hard drive.  \n",
    "\n",
    "I ran this on an 8 core Intel i7 with 16GB RAM.  Making this multi-threading could be one approach to speeding up the process, as it was only using one thread.  [This implies](https://stackoverflow.com/questions/1312331/using-a-global-dictionary-with-threads-in-python) that the trainQ could be rewritten to use a thread pool not to exceed your number of processes.  It appears that the Q dictionary could be global, and as long as it was locked when it was being accessed, theoretically the threads should be able to do their thing.  \n",
    "\n",
    "The Q dictionary is the item taking up all of the memory, so multithreading wouldn't necessarily use up more RAM, it would just cause it to be filled up faster.  This could have a great speed effect on the 2x2 cube, but I think it would just fill up the system RAM faster for the 3x3.\n",
    "\n",
    "All told, while I was disappointed that the 3x3 wasn't successful, I'm very pleased with the 2x2 results, and I'd like to hand-enter a starting state based on a randomized real-world cube to ensure that the solution works."
   ]
  },
  {
   "cell_type": "code",
   "execution_count": null,
   "metadata": {},
   "outputs": [],
   "source": []
  }
 ],
 "metadata": {
  "kernelspec": {
   "display_name": "Python 3",
   "language": "python",
   "name": "python3"
  },
  "language_info": {
   "codemirror_mode": {
    "name": "ipython",
    "version": 3
   },
   "file_extension": ".py",
   "mimetype": "text/x-python",
   "name": "python",
   "nbconvert_exporter": "python",
   "pygments_lexer": "ipython3",
   "version": "3.6.3"
  }
 },
 "nbformat": 4,
 "nbformat_minor": 1
}
